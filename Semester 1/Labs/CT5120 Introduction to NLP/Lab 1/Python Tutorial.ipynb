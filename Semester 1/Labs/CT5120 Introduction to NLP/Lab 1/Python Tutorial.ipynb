{
 "cells": [
  {
   "cell_type": "markdown",
   "metadata": {
    "id": "_ANNagKaXjqK"
   },
   "source": [
    "# Learning Objectives\n",
    "\n",
    "In this notebook we are going to:\n",
    "\n",
    "- Get started with the Python programming language.\n",
    "- Get familiar with python notebooks.\n",
    "\n",
    "If you feel comfortable working with Python, feel free to skip this tutorial and proceed to Exercise 0 where the task is to find the 25 most frequent words in a large piece of text using using basic text processing functions covered in this tutorial."
   ]
  },
  {
   "cell_type": "markdown",
   "metadata": {
    "id": "eYjcor4vJ0qy"
   },
   "source": [
    "# 0. Jupyter Notebooks\n",
    "This is a \"jupyter notebook\" (formerly \"ipython notebook\"). It is an interactive python programming tool which allows you to work with code along with prose and visualisations in the same file.\n",
    "\n",
    "The notebook is divided into cells, each of which contains things like text (what you're reading) or python code. It is also possible for cells to contain code in other programming languages, such as R or bash scripts. Text cells use [Markdown](https://en.wikipedia.org/wiki/Markdown) for formatting. You can edit cells by clicking anywhere inside the cell (double clicking for text cells).\n",
    "\n",
    "The notebook has one active cell (click on a cell to activate it). You can run the active cell either with the \"Run\" button left to the cell or by pressing `shift-enter`. A python \"kernel\" is maintained by the notebook server which contains the current program state: variables and their values. This is quite similar to matlab's interactive prompt. When executed, if the code in a cell prints any text, that text is displayed in teh notebook after the cell. The value retuerned by the final command in the cell is also presented.  In this way, you can, for example, use a cell as a calculator:"
   ]
  },
  {
   "cell_type": "code",
   "execution_count": 1,
   "metadata": {
    "id": "9Ohzao4hK5dO"
   },
   "outputs": [
    {
     "name": "stdout",
     "output_type": "stream",
     "text": [
      "Using a cell as a calculator:\n"
     ]
    },
    {
     "data": {
      "text/plain": [
       "15"
      ]
     },
     "execution_count": 1,
     "metadata": {},
     "output_type": "execute_result"
    }
   ],
   "source": [
    "# click on this cell (it gets a thin border to highlight it) then press ctrl-enter to execute it\n",
    "print(\"Using a cell as a calculator:\")\n",
    "1+2*(3+4)"
   ]
  },
  {
   "cell_type": "markdown",
   "metadata": {
    "id": "M9ewyfTpMeVB"
   },
   "source": [
    "Any line inside a code cell starting with a `#` is comment and ignored by the kernel."
   ]
  },
  {
   "cell_type": "markdown",
   "metadata": {
    "id": "QHgnHTseK-Yt"
   },
   "source": [
    "After executing, the cell is preceded by `In [1]` and the value of the final statement by `Out [1]`. This tells you it's the first cell executed by the ipython kernel running behind the notebook. You can access the output values in subsequent cells by the shorthand `_1`, or `_6` for the output of the 6th cell executed. Try it out below. Note that this is an ipython feature, and is not available if you use the standard python command line.\n",
    "\n",
    "Try it with the `Out[]` number you see in the calculator cell above."
   ]
  },
  {
   "cell_type": "code",
   "execution_count": 2,
   "metadata": {
    "id": "TLL3udAnK9Qe"
   },
   "outputs": [
    {
     "data": {
      "text/plain": [
       "15"
      ]
     },
     "execution_count": 2,
     "metadata": {},
     "output_type": "execute_result"
    }
   ],
   "source": [
    "# this give the output of the first cell execution\n",
    "_1"
   ]
  },
  {
   "cell_type": "markdown",
   "metadata": {
    "id": "jVVZ9mF2LN8Z"
   },
   "source": [
    "## 0.1 Command and Edit mode\n",
    "\n",
    "The notebook interface has two modes of interaction: an edit mode, where you can edit the contents of a cell, and a command mode, where you can use a rich set of keyboard shortcuts to interact with the notebook. In edit mode, a small pencil icon appears in the top right of the notebook (next to the kernel name, perhaps \"Python 3\").\n",
    "\n",
    "Some ways to move between command and edit mode:\n",
    "\n",
    " - If you click on the text of a code cell, you enter edit mode for that cell (double click for text cells).\n",
    " - If you are in edit mode, press the _esc_ key to switch to command mode. \n",
    " - If you are in command mode, press the _enter_ key to switch to edit mode.\n",
    "\n",
    "You can see a complete list of available keyboard shortcuts by pressing the __h__ key in command mode or choosing _Keyboard Shortcuts_ from the _Help_ menu.\n"
   ]
  },
  {
   "cell_type": "markdown",
   "metadata": {
    "id": "AvDS3KleLUIy"
   },
   "source": [
    "## 0.2 The Ipython Kernel\n",
    "The ipython kernel running behind the notebook (the thing that executes the python code you enter) stores any variables you create. To see this, run the first cell below once, then the following cell several times. You can see that the value of the variable `i` is incremented each time you run the second cell."
   ]
  },
  {
   "cell_type": "code",
   "execution_count": 3,
   "metadata": {
    "id": "3BChFYOgLbcR"
   },
   "outputs": [],
   "source": [
    "# run this once\n",
    "i = 0"
   ]
  },
  {
   "cell_type": "code",
   "execution_count": 4,
   "metadata": {
    "id": "-cyi8Zd8LdUX"
   },
   "outputs": [
    {
     "name": "stdout",
     "output_type": "stream",
     "text": [
      "1\n"
     ]
    }
   ],
   "source": [
    "# run this multiple times. You see the value of variable 'i' is retained between runs.\n",
    "i = i + 1\n",
    "print(i)"
   ]
  },
  {
   "cell_type": "markdown",
   "metadata": {
    "id": "D9hlvUqlLazu"
   },
   "source": [
    "## 0.3 Suggestions and Automatic Code Completion in Jupyter Notebooks\n",
    "Jupyter notebooks give you code suggestions by pressing the tab key. This handy feature has several uses:\n",
    "\n",
    " - automatically completing names, such as variable and function names. In the cell below, put the cursor at the end of the word \"sent\" and press tab. The remainder of the function name \"sentence\" should appear (it you executed the cell above in which the function was defined).\n",
    " - suggesting possible methods and attributes of an object. This time, put the cursor after \"sentence.\" and press the tab key. You should see a list of methods and atributes of sentence, which is a python `string`. It includes `format`, `count` and `islower` as well as several other things. Choose one of them, by scrolling with the arrow keys and pressing return or by clicking on it.\n",
    " - suggestions for function parameters by pressing `shift-tab` when the cursor is within the parentheses of a function."
   ]
  },
  {
   "cell_type": "code",
   "execution_count": 5,
   "metadata": {
    "id": "u-dK2-jjL_4v"
   },
   "outputs": [],
   "source": [
    "# to see the notebook editor help capabilities, first we need somethiing for it to make suggestions about\n",
    "sentence = \"If this sentence is true, then nothing is true!\""
   ]
  },
  {
   "cell_type": "code",
   "execution_count": null,
   "metadata": {
    "id": "BPFuKzZYMCOy"
   },
   "outputs": [],
   "source": [
    "# run the cell above (ctrl-enter), then try the auto-complete and suggestion features here\n",
    "\n",
    "# put the cursor after the word \"sent\" below, then press tab\n",
    "sentence\n",
    "# put the cursor after \"sentence.\" below, then press tab. (press esc to get rid of the list that pops up)\n",
    "sentence.\n",
    "# put the cursor within the brackets below, then press shift-tab, then press it again\n",
    "sentence.replace()"
   ]
  },
  {
   "cell_type": "markdown",
   "metadata": {
    "id": "8SLFLALeMGP2"
   },
   "source": [
    "## 0.4 Notebok Reference Resources and Help\n",
    "There are a number of useful links in the **Help** menu that contain tutorials and reference material. The notebook help, python and numpy links may be particularly useful.\n",
    "\n",
    "A handy built in feature of ipython is to access documentation and source code of python objects by appending one or more question marks (two to see the python source code for an object, if it exists)."
   ]
  },
  {
   "cell_type": "code",
   "execution_count": 6,
   "metadata": {
    "id": "ctYSAQD5MKSj"
   },
   "outputs": [],
   "source": [
    "# this gives some documentation on the print statement\n",
    "print?"
   ]
  },
  {
   "cell_type": "markdown",
   "metadata": {
    "id": "tiB69MGaLZze"
   },
   "source": [
    "---"
   ]
  },
  {
   "cell_type": "markdown",
   "metadata": {
    "id": "6ytBDPoOX32V"
   },
   "source": [
    "# 1. Basic Data Types and Operators in Python\n",
    "Python supports 4 primitive data types:\n",
    "1. Integers\n",
    "2. Floating-point Numbers\n",
    "3. Boolean\n",
    "4. Strings"
   ]
  },
  {
   "cell_type": "markdown",
   "metadata": {
    "id": "gigJc5vVYsai"
   },
   "source": [
    "## 1.1 Mathematical Operators"
   ]
  },
  {
   "cell_type": "code",
   "execution_count": 7,
   "metadata": {
    "id": "gavqOwl7XFkc"
   },
   "outputs": [
    {
     "data": {
      "text/plain": [
       "2"
      ]
     },
     "execution_count": 7,
     "metadata": {},
     "output_type": "execute_result"
    }
   ],
   "source": [
    "# Addition\n",
    "1 + 1   # => 2"
   ]
  },
  {
   "cell_type": "code",
   "execution_count": 8,
   "metadata": {
    "id": "wDDAjCM2YysL"
   },
   "outputs": [
    {
     "data": {
      "text/plain": [
       "7"
      ]
     },
     "execution_count": 8,
     "metadata": {},
     "output_type": "execute_result"
    }
   ],
   "source": [
    "# Subtraction\n",
    "8 - 1   # => 7"
   ]
  },
  {
   "cell_type": "code",
   "execution_count": 9,
   "metadata": {
    "id": "UGkDA3OxY0oS"
   },
   "outputs": [
    {
     "data": {
      "text/plain": [
       "20"
      ]
     },
     "execution_count": 9,
     "metadata": {},
     "output_type": "execute_result"
    }
   ],
   "source": [
    "# Multiplication\n",
    "10 * 2  # => 20"
   ]
  },
  {
   "cell_type": "code",
   "execution_count": 10,
   "metadata": {
    "id": "NqTDU61tY7Uq"
   },
   "outputs": [
    {
     "data": {
      "text/plain": [
       "7.0"
      ]
     },
     "execution_count": 10,
     "metadata": {},
     "output_type": "execute_result"
    }
   ],
   "source": [
    "# Division\n",
    "35 / 5  # => 7.0"
   ]
  },
  {
   "cell_type": "markdown",
   "metadata": {
    "id": "Rf3eAUSuZAGf"
   },
   "source": [
    "To get only the integer part of division, use the `//` operator."
   ]
  },
  {
   "cell_type": "code",
   "execution_count": 11,
   "metadata": {
    "id": "fKg__ESrZGyZ"
   },
   "outputs": [
    {
     "data": {
      "text/plain": [
       "7"
      ]
     },
     "execution_count": 11,
     "metadata": {},
     "output_type": "execute_result"
    }
   ],
   "source": [
    "# Integer Division\n",
    "35 // 5"
   ]
  },
  {
   "cell_type": "code",
   "execution_count": 12,
   "metadata": {
    "id": "e_IhezRdZHxq"
   },
   "outputs": [
    {
     "data": {
      "text/plain": [
       "1"
      ]
     },
     "execution_count": 12,
     "metadata": {},
     "output_type": "execute_result"
    }
   ],
   "source": [
    "# Modulo\n",
    "7 % 3  # => 1"
   ]
  },
  {
   "cell_type": "code",
   "execution_count": 13,
   "metadata": {
    "id": "y_AS35eHZZda"
   },
   "outputs": [
    {
     "data": {
      "text/plain": [
       "8"
      ]
     },
     "execution_count": 13,
     "metadata": {},
     "output_type": "execute_result"
    }
   ],
   "source": [
    "# Exponentiation\n",
    "2**3  # => 8"
   ]
  },
  {
   "cell_type": "markdown",
   "metadata": {
    "id": "i5ts72qTaKGn"
   },
   "source": [
    "## 1.2 Booleans\n",
    "Boolean values are primitives (Note the capitalization)."
   ]
  },
  {
   "cell_type": "code",
   "execution_count": 14,
   "metadata": {
    "id": "k7fey2vTakSs"
   },
   "outputs": [
    {
     "data": {
      "text/plain": [
       "True"
      ]
     },
     "execution_count": 14,
     "metadata": {},
     "output_type": "execute_result"
    }
   ],
   "source": [
    "True"
   ]
  },
  {
   "cell_type": "code",
   "execution_count": 15,
   "metadata": {
    "id": "5ygQcftbaktX"
   },
   "outputs": [
    {
     "data": {
      "text/plain": [
       "False"
      ]
     },
     "execution_count": 15,
     "metadata": {},
     "output_type": "execute_result"
    }
   ],
   "source": [
    "False"
   ]
  },
  {
   "cell_type": "markdown",
   "metadata": {
    "id": "2gtoB4XMJTeT"
   },
   "source": [
    "The basic boolean operations `not`, `and` and `or` have their usual meanings."
   ]
  },
  {
   "cell_type": "code",
   "execution_count": null,
   "metadata": {
    "id": "wjrlTFh-alJT"
   },
   "outputs": [],
   "source": [
    "not True # => False"
   ]
  },
  {
   "cell_type": "code",
   "execution_count": null,
   "metadata": {
    "id": "wO544PFxJbbZ"
   },
   "outputs": [],
   "source": [
    "True or False # => True"
   ]
  },
  {
   "cell_type": "code",
   "execution_count": null,
   "metadata": {
    "id": "V0lx3saGJgde"
   },
   "outputs": [],
   "source": [
    "True and False # => False"
   ]
  },
  {
   "cell_type": "markdown",
   "metadata": {
    "id": "wY5aFBLFbKYM"
   },
   "source": [
    "## 1.3 Conditionals\n",
    "\n",
    "Python has the usual set of boolean relation operators that can be applied between numbers and in some cases other types of objects.\n",
    "\n",
    "> \"__`< `__\"  less than  \n",
    "> \"__`<=`__\"  less than or equal to  \n",
    "> \"__`==`__\"  equal to (note this is two \"=\" signs, not one)  \n",
    "> \"__`!=`__\"  not equal to  \n",
    "> \"__`> `__\"  greater than  \n",
    "> \"__`>=`__\"  greater than or equal to  "
   ]
  },
  {
   "cell_type": "code",
   "execution_count": null,
   "metadata": {
    "id": "JN74CCP1bMVZ"
   },
   "outputs": [],
   "source": [
    "5 == 5 # True"
   ]
  },
  {
   "cell_type": "code",
   "execution_count": null,
   "metadata": {
    "id": "4lp3icFSNRe9"
   },
   "outputs": [],
   "source": [
    "4 > 5 # False"
   ]
  },
  {
   "cell_type": "markdown",
   "metadata": {
    "id": "zSigmp8hbb0m"
   },
   "source": [
    "## 1.4 Strings"
   ]
  },
  {
   "cell_type": "code",
   "execution_count": null,
   "metadata": {
    "id": "OodkaBVGOGw7"
   },
   "outputs": [],
   "source": [
    "# Strings are created with \" or '\n",
    "\"This is a string.\""
   ]
  },
  {
   "cell_type": "code",
   "execution_count": null,
   "metadata": {
    "id": "mJWdVwYaOxIB"
   },
   "outputs": [],
   "source": [
    "'This is also a string.'"
   ]
  },
  {
   "cell_type": "code",
   "execution_count": null,
   "metadata": {
    "id": "RAUqrjVSOPts"
   },
   "outputs": [],
   "source": [
    "# Strings can be added too.\n",
    "\"Hello \" + \"world!\"  # => \"Hello world!\""
   ]
  },
  {
   "cell_type": "code",
   "execution_count": null,
   "metadata": {
    "id": "2lf5gekrORyR"
   },
   "outputs": [],
   "source": [
    "# A string can be treated like a list of characters; Indexing starts at 0.\n",
    "\"Hello world!\"[4]  # => 'o'"
   ]
  },
  {
   "cell_type": "code",
   "execution_count": null,
   "metadata": {
    "id": "0_pvPfrhOYTU"
   },
   "outputs": [],
   "source": [
    "# You can find the length of a string\n",
    "len(\"This is a string\")  # => 16"
   ]
  },
  {
   "cell_type": "markdown",
   "metadata": {
    "id": "cjZKVFWuOm5W"
   },
   "source": [
    "There are many built-in functions for strings which are useful for text processing.\n",
    "\n",
    "> __`s.startswith(t)`__ - - - - - - - - - - test if s starts with t  \n",
    "> __`s.endswith(t)`__ - - - - - - - - - - test if s ends with t  \n",
    "> __`t in s`__ - - - - - - - - - - test if t is a substring of s  \n",
    "> __`s.islower()`__ - - - - - - - - - - test if s contains cased characters and all are lowercase  \n",
    "> __`s.isupper()`__ - - - - - - - - - - test if s contains cased characters and all are uppercase  \n",
    "> __`s.lower()`__ - - - - - - - - - - convert a string to lowercase  \n",
    "> __`s.upper()`__ - - - - - - - - - - convert a string to uppercase  \n",
    "> __`s.isalpha()`__ - - - - - - - - - - test if s is non-empty and all characters in s are alphabetic  \n",
    "> __`s.isalnum()`__ - - - - - - - - - - test if s is non-empty and all characters in s are alphanumeric  \n",
    "> __`s.isdigit()`__ - - - - - - - - - - test if s is non-empty and all characters in s are digits  \n",
    "> __`s.istitle()`__ - - - - - - - - - - test if s contains cased characters and is titlecased (i.e. all words in s have initial capitals)  \n",
    "> __`s.strip()`__ - - - - - - - - - - remove leading and trailing spaces, newline and tab characters in a string\n"
   ]
  },
  {
   "cell_type": "code",
   "execution_count": null,
   "metadata": {
    "id": "BaigZh4va5A7"
   },
   "outputs": [],
   "source": [
    "'Hello World!'.lower()"
   ]
  },
  {
   "cell_type": "code",
   "execution_count": null,
   "metadata": {
    "id": "pqbKw52Bbepq"
   },
   "outputs": [],
   "source": [
    "'     this string contains leading and trailing spaces   \\n'"
   ]
  },
  {
   "cell_type": "code",
   "execution_count": null,
   "metadata": {
    "id": "dMBwAuFsbmqM"
   },
   "outputs": [],
   "source": [
    "'     this string does not contain leading and trailing spaces   \\n'.strip()"
   ]
  },
  {
   "cell_type": "markdown",
   "metadata": {
    "id": "p-SrtvGibk9G"
   },
   "source": [
    "# 2. Variables\n",
    "There are no declarations, only assignments. The convention is to use `lower_case_with_underscores` for variable names."
   ]
  },
  {
   "cell_type": "code",
   "execution_count": null,
   "metadata": {
    "id": "LPpdV2o_b5Wl"
   },
   "outputs": [],
   "source": [
    "some_var = 42"
   ]
  },
  {
   "cell_type": "code",
   "execution_count": null,
   "metadata": {
    "id": "NjIBKtn3PLoe"
   },
   "outputs": [],
   "source": [
    "some_var  # => 42"
   ]
  },
  {
   "cell_type": "code",
   "execution_count": null,
   "metadata": {
    "id": "dyao3tDKPSLJ"
   },
   "outputs": [],
   "source": [
    "# Accessing a previously unassigned variable is an exception.\n",
    "some_unknown_var  # Raises a NameError"
   ]
  },
  {
   "cell_type": "markdown",
   "metadata": {
    "id": "W8LrwRZZb71s"
   },
   "source": [
    "# 3. Collections\n",
    "Apart from the basic data types mentioned above, Python also supports various useful constructs like `list`, `tuple`, `set` and `dictionary`."
   ]
  },
  {
   "cell_type": "markdown",
   "metadata": {
    "id": "qtsjWwuZb9WY"
   },
   "source": [
    "## 3.1 List\n",
    "Lists store sequences and are same as arrays in other programming langagues."
   ]
  },
  {
   "cell_type": "code",
   "execution_count": null,
   "metadata": {
    "id": "Kbr369GFEvUG"
   },
   "outputs": [],
   "source": [
    "# create an empty list\n",
    "a = []"
   ]
  },
  {
   "cell_type": "code",
   "execution_count": null,
   "metadata": {
    "id": "zJ6XNd7DE9Ys"
   },
   "outputs": [],
   "source": [
    "# or create a list with some pre-filled values\n",
    "a = [1, 2, 3]\n",
    "a"
   ]
  },
  {
   "cell_type": "code",
   "execution_count": null,
   "metadata": {
    "id": "-LTBIv4hFDtM"
   },
   "outputs": [],
   "source": [
    "# add stuff to the end of a list with append\n",
    "a = []         # a is an empty list\n",
    "a.append(1)    # a is now [1]\n",
    "a.append(2)    # a is now [1, 2]\n",
    "a.append(4)    # a is now [1, 2, 4]\n",
    "a.append(3)    # a is now [1, 2, 4, 3]\n",
    "a"
   ]
  },
  {
   "cell_type": "code",
   "execution_count": null,
   "metadata": {
    "id": "BUPoeweeFN0Z"
   },
   "outputs": [],
   "source": [
    "# remove from the end with pop\n",
    "a.pop()        # => remove 3 and a is now [1, 2, 4]\n",
    "a"
   ]
  },
  {
   "cell_type": "code",
   "execution_count": null,
   "metadata": {
    "id": "XoqiKDHIGeuT"
   },
   "outputs": [],
   "source": [
    "# put it back with append\n",
    "a.append(3)\n",
    "a"
   ]
  },
  {
   "cell_type": "code",
   "execution_count": null,
   "metadata": {
    "id": "0uKZi59iFdIX"
   },
   "outputs": [],
   "source": [
    "# access a list with an index like you would any array\n",
    "a[0]  # => returns the first element"
   ]
  },
  {
   "cell_type": "code",
   "execution_count": null,
   "metadata": {
    "id": "HpjfayPLFlxH"
   },
   "outputs": [],
   "source": [
    "# python also supports negative indexing to access elements at the end\n",
    "a[-1] # => returns the last element"
   ]
  },
  {
   "cell_type": "code",
   "execution_count": null,
   "metadata": {
    "id": "7yAFA7woFyBz"
   },
   "outputs": [],
   "source": [
    "# looking out of bounds is an IndexError\n",
    "a[4]  # Raises an IndexError"
   ]
  },
  {
   "cell_type": "code",
   "execution_count": null,
   "metadata": {
    "id": "18BKBkUoF4jO"
   },
   "outputs": [],
   "source": [
    "# ranges are supported with index slicing: a[start:end]\n",
    "# start index is included but last index is not\n",
    "a[1:3]   # Return list from index 1 to 3 => [2, 4]"
   ]
  },
  {
   "cell_type": "code",
   "execution_count": null,
   "metadata": {
    "id": "PRzgXVloGNM0"
   },
   "outputs": [],
   "source": [
    "a[2:]    # return list starting from index 2 => [4, 3]"
   ]
  },
  {
   "cell_type": "code",
   "execution_count": null,
   "metadata": {
    "id": "K4YkGwpDGQ__"
   },
   "outputs": [],
   "source": [
    "a[:3]    # return list from beginning until index 3  => [1, 2, 4]"
   ]
  },
  {
   "cell_type": "code",
   "execution_count": null,
   "metadata": {
    "id": "Ljyq_GFS8DL7"
   },
   "outputs": [],
   "source": [
    "a[1:-1]  # return list staring at the second element to the second last element => [2, 4]"
   ]
  },
  {
   "cell_type": "code",
   "execution_count": null,
   "metadata": {
    "id": "JSvhzvr7GVlK"
   },
   "outputs": [],
   "source": [
    "a[::-1]  # return list in reverse order => [3, 4, 2, 1]"
   ]
  },
  {
   "cell_type": "code",
   "execution_count": null,
   "metadata": {
    "id": "i-RwX-ZSGtGC"
   },
   "outputs": [],
   "source": [
    "# concatenate lists with the addition operator\n",
    "x = [5, 6]\n",
    "y = [7, 8]\n",
    "x + y   # this doesn't modify either list"
   ]
  },
  {
   "cell_type": "code",
   "execution_count": null,
   "metadata": {
    "id": "Atwm8ublG7kN"
   },
   "outputs": [],
   "source": [
    "# count the number of elements in a list with the len function\n",
    "len(a)"
   ]
  },
  {
   "cell_type": "code",
   "execution_count": null,
   "metadata": {
    "id": "oIQnnRSIHQ3e"
   },
   "outputs": [],
   "source": [
    "# Check for existence in a list with \"in\"\n",
    "1 in a  # => True"
   ]
  },
  {
   "cell_type": "markdown",
   "metadata": {
    "id": "QH8xPrWNcMe1"
   },
   "source": [
    "The `split()` function for strings is a useful function to break off the strings into a list of substrings based on a separator."
   ]
  },
  {
   "cell_type": "code",
   "execution_count": null,
   "metadata": {
    "id": "olGPNSwLbx8J"
   },
   "outputs": [],
   "source": [
    "# break off a string into words separated by forward slashes\n",
    "s = 'alice/bob/charlie'\n",
    "s.split('/')"
   ]
  },
  {
   "cell_type": "code",
   "execution_count": null,
   "metadata": {
    "id": "vR0yMAsQcu9Y"
   },
   "outputs": [],
   "source": [
    "# if you don't specify the separator, Python uses the (space) characater by default\n",
    "s = 'The quick brown fox jumps over the lazy dog.'\n",
    "s.split()"
   ]
  },
  {
   "cell_type": "markdown",
   "metadata": {
    "id": "g6wMV0389CVl"
   },
   "source": [
    "The `join()` function for lists does the reverse job of the `split()` function, i.e., it can create a string from a list of strings with a separator in place."
   ]
  },
  {
   "cell_type": "code",
   "execution_count": null,
   "metadata": {
    "id": "8DunQt9P9H_L"
   },
   "outputs": [],
   "source": [
    "# join the words into a string separated by forward slashes\n",
    "a = ['alice', 'bob', 'charlie']\n",
    "'/'.join(a)"
   ]
  },
  {
   "cell_type": "code",
   "execution_count": null,
   "metadata": {
    "id": "_m54Koex9Tdd"
   },
   "outputs": [],
   "source": [
    "# the default separator is the (space) characater\n",
    "a = ['The', 'quick', 'brown', 'fox', 'jumps', 'over', 'the', 'lazy', 'dog']\n",
    "' '.join(a)"
   ]
  },
  {
   "cell_type": "markdown",
   "metadata": {
    "id": "mx60o3iecO8b"
   },
   "source": [
    "## 3.2 Tuple\n",
    "Tuples are like lists but are immutable."
   ]
  },
  {
   "cell_type": "code",
   "execution_count": null,
   "metadata": {
    "id": "MAt8L2dQHEcM"
   },
   "outputs": [],
   "source": [
    "# tuples are cretead with (parenthesis)\n",
    "tup = (1, 2, 3)\n",
    "tup[0]      # => 1"
   ]
  },
  {
   "cell_type": "code",
   "execution_count": null,
   "metadata": {
    "id": "-JjPkMLCHMdc"
   },
   "outputs": [],
   "source": [
    "tup[0] = 3  # Raises a TypeError"
   ]
  },
  {
   "cell_type": "markdown",
   "metadata": {
    "id": "lIEwmdKPcI0w"
   },
   "source": [
    "## 3.3 Dictionary\n",
    "\n",
    "Dictionaries in Python are used to store key-value pairs."
   ]
  },
  {
   "cell_type": "code",
   "execution_count": null,
   "metadata": {
    "id": "6XCq4o4VNu-V"
   },
   "outputs": [],
   "source": [
    "# Dictionaries store mappings from keys to values\n",
    "empty_dict = {}"
   ]
  },
  {
   "cell_type": "code",
   "execution_count": null,
   "metadata": {
    "id": "Y4fR8aZAN1nv"
   },
   "outputs": [],
   "source": [
    "# Here is a prefilled dictionary\n",
    "filled_dict = {\"one\": 1, \"two\": 2, \"three\": 3}\n",
    "filled_dict"
   ]
  },
  {
   "cell_type": "markdown",
   "metadata": {
    "id": "uhkgzwQ9N-df"
   },
   "source": [
    "The keys for dictionaries have to be immutable types. This is to ensure that the key can be converted to a constant hash value for quick look-ups. Immutable types include ints, floats, strings, tuples."
   ]
  },
  {
   "cell_type": "code",
   "execution_count": null,
   "metadata": {
    "id": "XJStuzezN4MG"
   },
   "outputs": [],
   "source": [
    "invalid_dict = {[1,2,3]: \"123\"}  # => Raises a TypeError: unhashable type: 'list'"
   ]
  },
  {
   "cell_type": "code",
   "execution_count": null,
   "metadata": {
    "id": "VBbGkoScODtV"
   },
   "outputs": [],
   "source": [
    "valid_dict = {(1,2,3):[1,2,3]}   # Values can be of any type, only keys have to be immutable"
   ]
  },
  {
   "cell_type": "code",
   "execution_count": null,
   "metadata": {
    "id": "3l1yJ7udOE8G"
   },
   "outputs": [],
   "source": [
    "# values can be looked up with []\n",
    "filled_dict[\"one\"]  # => 1"
   ]
  },
  {
   "cell_type": "code",
   "execution_count": null,
   "metadata": {
    "id": "TPUUbzqpOPcF"
   },
   "outputs": [],
   "source": [
    "# Get all keys as an iterable with \"keys()\", and wrap the call in list()\n",
    "# to turn it into a list. We'll talk about iterables later\n",
    "list(filled_dict.keys())  # => [\"one\", \"two\", \"three\"]"
   ]
  },
  {
   "cell_type": "code",
   "execution_count": null,
   "metadata": {
    "id": "Pg3C15YXOdaq"
   },
   "outputs": [],
   "source": [
    "# Similarly all the values can be obtained as an iterable with \"values()\".\n",
    "# Once again we need to wrap it in list() to get it out of the iterable.\n",
    "list(filled_dict.values())  # => [1, 2, 3]"
   ]
  },
  {
   "cell_type": "code",
   "execution_count": null,
   "metadata": {
    "id": "2wFO39ulOq2h"
   },
   "outputs": [],
   "source": [
    "# To get both keys and values in a list, use the \"items()\" method.\n",
    "# This returns a list of tuples, where each tuple contains two elements, \n",
    "# the first is the key and the second is the corresponding value.\n",
    "list(filled_dict.items())  # => [('one', 1), ('two', 2), ('three', 3)]"
   ]
  },
  {
   "cell_type": "code",
   "execution_count": null,
   "metadata": {
    "id": "oKlK4jo4OohR"
   },
   "outputs": [],
   "source": [
    "# Check for existence of keys in a dictionary with \"in\"\n",
    "\"one\" in filled_dict  # => True"
   ]
  },
  {
   "cell_type": "code",
   "execution_count": null,
   "metadata": {
    "id": "e5fRhxAfPO_v"
   },
   "outputs": [],
   "source": [
    "1 in filled_dict      # => False"
   ]
  },
  {
   "cell_type": "code",
   "execution_count": null,
   "metadata": {
    "id": "sOKwVx91PM2G"
   },
   "outputs": [],
   "source": [
    "# Add a new item to the dictionary using []\n",
    "filled_dict[\"four\"] = 4\n",
    "filled_dict"
   ]
  },
  {
   "cell_type": "markdown",
   "metadata": {
    "id": "-bnQPHuwcGNb"
   },
   "source": [
    "## 3.4 Set\n",
    "\n",
    "A set is an unordeded collection of distinct objects."
   ]
  },
  {
   "cell_type": "code",
   "execution_count": null,
   "metadata": {
    "id": "vjhki8D1PlTq"
   },
   "outputs": [],
   "source": [
    "empty_set = set()"
   ]
  },
  {
   "cell_type": "code",
   "execution_count": null,
   "metadata": {
    "id": "rEpZvCvPPn-L"
   },
   "outputs": [],
   "source": [
    "# Set initialization looks similar to dictionaries.\n",
    "# However, unlike a list only distinct entries are stored inside a set.\n",
    "some_set = {1, 1, 2, 2, 3, 4}  # some_set is now {1, 2, 3, 4}\n",
    "some_set"
   ]
  },
  {
   "cell_type": "code",
   "execution_count": null,
   "metadata": {
    "id": "zVaAGuEaP_SX"
   },
   "outputs": [],
   "source": [
    "# Similar to keys of a dictionary, elements of a set have to be immutable.\n",
    "invalid_set = {[1], 1}  # => Raises a TypeError: unhashable type: 'list'"
   ]
  },
  {
   "cell_type": "code",
   "execution_count": null,
   "metadata": {
    "id": "IyL3V5t_QBZB"
   },
   "outputs": [],
   "source": [
    "# a set can be used to count unique elements in a list\n",
    "a = [1, 2, 3, 1, 3, 4, 1, 2]  # a is list\n",
    "len(a)  # a contains 8 elements"
   ]
  },
  {
   "cell_type": "code",
   "execution_count": null,
   "metadata": {
    "id": "5Tx88b7tQX0Z"
   },
   "outputs": [],
   "source": [
    "# create set from a list\n",
    "s = set(a)  # s will contain only the distinct elements in a\n",
    "len(s)  # s contains 4 elements"
   ]
  },
  {
   "cell_type": "markdown",
   "metadata": {
    "id": "aSCc0NkTcavG"
   },
   "source": [
    "# 4. Control Flow and Iterables\n",
    "\n",
    "For looping and branching in a Python program, we need a way to group commands togehter. In Java, C and C++, this is done with curly braces \"{}\". In python it's done with indenting. Consecutive lines starting with the same number of spaces or tabs are considered in the same block of code. To create a block within a block, you increase the indentation. One important point is that code always starts with no indentation - if you indent the first line, python produces an error. The line before an indented code block always ends with a colon \":\".\n"
   ]
  },
  {
   "cell_type": "markdown",
   "metadata": {
    "id": "fju1bado_XfT"
   },
   "source": [
    "### 4.1 If Else\n",
    "\n",
    "An **if** statement is written with the `if` keyword. To test other conditions, you can use the `elif` and `else` keywords, however, both of these are optional."
   ]
  },
  {
   "cell_type": "code",
   "execution_count": null,
   "metadata": {
    "id": "NWZOx6buAE_y"
   },
   "outputs": [],
   "source": [
    "# Let's just make a variable\n",
    "some_var = 5\n",
    "\n",
    "# Here is an if else statement. Indentation is significant in Python!\n",
    "# Convention is to use four spaces, not tabs.\n",
    "# This prints \"some_var is smaller than 10\"\n",
    "if some_var > 10:\n",
    "    print(\"some_var is totally bigger than 10.\")\n",
    "elif some_var < 10:    # This elif clause is optional.\n",
    "    print(\"some_var is smaller than 10.\")\n",
    "else:                  # This is optional too.\n",
    "    print(\"some_var is indeed 10.\")"
   ]
  },
  {
   "cell_type": "markdown",
   "metadata": {
    "id": "h0jvkEezBT1g"
   },
   "source": [
    "### 4.2 For Loop"
   ]
  },
  {
   "cell_type": "code",
   "execution_count": null,
   "metadata": {
    "id": "YAG0CeIvBeun"
   },
   "outputs": [],
   "source": [
    "\"\"\"\n",
    "For loops iterate over lists\n",
    "prints:\n",
    "    dog is a mammal\n",
    "    cat is a mammal\n",
    "    mouse is a mammal\n",
    "\"\"\"\n",
    "animals = [\"dog\", \"cat\", \"mouse\"]\n",
    "for animal in animals:\n",
    "    # You can use format() to interpolate formatted strings\n",
    "    print(\"{} is a mammal\".format(animal))\n"
   ]
  },
  {
   "cell_type": "code",
   "execution_count": null,
   "metadata": {
    "id": "k1jimZHLBrDy"
   },
   "outputs": [],
   "source": [
    "\"\"\"\n",
    "\"range(number)\" returns an iterable of numbers\n",
    "from zero to the given number\n",
    "prints:\n",
    "    0\n",
    "    1\n",
    "    2\n",
    "    3\n",
    "\"\"\"\n",
    "for i in range(4):\n",
    "    print(i)"
   ]
  },
  {
   "cell_type": "markdown",
   "metadata": {
    "id": "EpYSZ44RBeX4"
   },
   "source": [
    "You can use `range` to access list elements too."
   ]
  },
  {
   "cell_type": "code",
   "execution_count": null,
   "metadata": {
    "id": "wVCRb9ftBxR7"
   },
   "outputs": [],
   "source": [
    "for i in range(0, len(animals)):\n",
    "    print(\"{} is a mammal\".format(animals[i]))\n"
   ]
  },
  {
   "cell_type": "markdown",
   "metadata": {
    "id": "CbkuafGBCBzN"
   },
   "source": [
    "### 4.3 While Loop"
   ]
  },
  {
   "cell_type": "code",
   "execution_count": null,
   "metadata": {
    "id": "EaqY4-25CAUz"
   },
   "outputs": [],
   "source": [
    "\"\"\"\n",
    "While loops go until a condition is no longer met.\n",
    "prints:\n",
    "    0\n",
    "    1\n",
    "    2\n",
    "    3\n",
    "\"\"\"\n",
    "x = 0\n",
    "while x < 4:\n",
    "    print(x)\n",
    "    x += 1  # Shorthand for x = x + 1"
   ]
  },
  {
   "cell_type": "markdown",
   "metadata": {
    "id": "cNLaLSrrCUHR"
   },
   "source": [
    "### 4.4 List Comprehension\n",
    "\n",
    "Python allows you write elegant code which reads like pseudocode. You will often see examples of this in code which uses a single line containing an `if` condition and a `for` loop to create a list or iterate over something. However, it can be a bit tricky to understand it in the beginning."
   ]
  },
  {
   "cell_type": "code",
   "execution_count": null,
   "metadata": {
    "id": "dPb_5LEyCRI1"
   },
   "outputs": [],
   "source": [
    "# For example, the following code creates a list of squares from 1 to 9.\n",
    "squares = []\n",
    "\n",
    "for i in range(1, 10):\n",
    "  squares.append(i**2)\n",
    "\n",
    "print(squares)"
   ]
  },
  {
   "cell_type": "code",
   "execution_count": null,
   "metadata": {
    "id": "uiAjanvnExgI"
   },
   "outputs": [],
   "source": [
    "# However, the same list can be created with just a single line\n",
    "squares = [i**2 for i in range(1, 10)]\n",
    "print(squares)"
   ]
  },
  {
   "cell_type": "code",
   "execution_count": null,
   "metadata": {
    "id": "3MfZiaVWE-ko"
   },
   "outputs": [],
   "source": [
    "# You can also test for conditions inside list comprehension\n",
    "# For example, the following checks for words containing the letter a in 'e'\n",
    "words = ['apple', 'banana', 'orange', 'milk', 'eggs']\n",
    "words_with_e = []\n",
    "\n",
    "for word in words:\n",
    "  if 'e' in word:\n",
    "    words_with_e.append(word)\n",
    "words_with_e"
   ]
  },
  {
   "cell_type": "code",
   "execution_count": null,
   "metadata": {
    "id": "wV_DL6y-FlsC"
   },
   "outputs": [],
   "source": [
    "# with list comprehension this can be done as follows\n",
    "[word for word in words if 'e' in word ]"
   ]
  },
  {
   "cell_type": "markdown",
   "metadata": {
    "id": "bhC2uED_GEkk"
   },
   "source": [
    "The general syntax for list comprehension is\n",
    "\n",
    "`[expression for item in iterable]`\n",
    "\n",
    "where, an `iterable` is a `list`, `set`, `generator` or anything which returns one value at a time.\n"
   ]
  },
  {
   "cell_type": "code",
   "execution_count": null,
   "metadata": {
    "id": "0rCDn5XnF4_S"
   },
   "outputs": [],
   "source": [
    "# Another example, to print \"Odd\" and \"Even\" for a numbers in a range from 10 to 20.\n",
    "[\"Even\" if i % 2 == 0 else \"Odd\" for i in range(10, 20)]"
   ]
  },
  {
   "cell_type": "markdown",
   "metadata": {
    "id": "RNIeS5fKHAJE"
   },
   "source": [
    "Note that when using a conditional with `if` and `else` the syntax looks like:\n",
    "\n",
    "`[f(x) if condition else g(x) for x in sequence]`\n",
    "\n",
    "i.e, the condition comes before the `for` loop.\n",
    "\n",
    "However, when working with just the `if` statement, the condition comes after the `for` loop.\n",
    "\n",
    "`[f(x) for x in sequence if condition]`\n",
    "\n",
    "Check out this post here for more details: [List Comprehension - Python](https://realpython.com/list-comprehension-python/)"
   ]
  },
  {
   "cell_type": "markdown",
   "metadata": {
    "id": "L4JglOefcg5D"
   },
   "source": [
    "# 5. Functions"
   ]
  },
  {
   "cell_type": "code",
   "execution_count": null,
   "metadata": {
    "id": "u8TAvDw125mo"
   },
   "outputs": [],
   "source": [
    "# Use \"def\" to create new functions\n",
    "def add(x, y):\n",
    "    print(\"x is {} and y is {}\".format(x, y))\n",
    "    return x + y  # Return values with a return statement\n",
    "\n",
    "# note that this is just the definition and the function is not called here"
   ]
  },
  {
   "cell_type": "code",
   "execution_count": null,
   "metadata": {
    "id": "sadpWmkX2_C5"
   },
   "outputs": [],
   "source": [
    "# Calling functions with parameters\n",
    "add(5, 6)  # => prints out \"x is 5 and y is 6\" and returns 11"
   ]
  },
  {
   "cell_type": "code",
   "execution_count": null,
   "metadata": {
    "id": "_EAYKsOx3MIA"
   },
   "outputs": [],
   "source": [
    "# Another way to call functions is with keyword arguments\n",
    "add(y=6, x=5)  # Keyword arguments can arrive in any order."
   ]
  },
  {
   "cell_type": "code",
   "execution_count": null,
   "metadata": {
    "id": "2kV6E4N03Z_2"
   },
   "outputs": [],
   "source": [
    "# Python supports returning multiple values (with tuple assignments)\n",
    "def swap(x, y):\n",
    "    return y, x  # Return multiple values as a tuple without the parenthesis.\n",
    "                 # (Note: parenthesis have been excluded but can be included)\n",
    "\n",
    "x = 1\n",
    "y = 2\n",
    "print('Before: x =', x, 'y =', y)\n",
    "x, y = swap(x, y)     # => x = 2, y = 1\n",
    "print('After: x =', x, 'y =', y)"
   ]
  },
  {
   "cell_type": "code",
   "execution_count": null,
   "metadata": {
    "id": "TUeQv3ur4MXg"
   },
   "outputs": [],
   "source": [
    "# Python has first class functions, i.e., you can pass a function as an argument to another function\n",
    "def create_adder(x):\n",
    "    def adder(y):\n",
    "        return x + y\n",
    "    return adder\n",
    "\n",
    "add_10 = create_adder(10)\n",
    "add_10(3)   # => 13"
   ]
  },
  {
   "cell_type": "code",
   "execution_count": null,
   "metadata": {
    "id": "TDL-E8bE32SH"
   },
   "outputs": [],
   "source": [
    "# There are also anonymous functions that can be created with the lambda keyword\n",
    "(lambda x: x > 2)(3)                  # => True"
   ]
  },
  {
   "cell_type": "code",
   "execution_count": null,
   "metadata": {
    "id": "uLex2g8d34xy"
   },
   "outputs": [],
   "source": [
    "(lambda x, y: x ** 2 + y ** 2)(2, 1)  # => 5"
   ]
  },
  {
   "cell_type": "markdown",
   "metadata": {
    "id": "L_Ooy1lR4Zet"
   },
   "source": [
    "There are some useful built-in functions such as `sum`, `min`, `max`, and `sorted`  covered below."
   ]
  },
  {
   "cell_type": "code",
   "execution_count": null,
   "metadata": {
    "id": "ZbLX8Dre41Ha"
   },
   "outputs": [],
   "source": [
    "a = [30, 10, 40, 20]   # create a new list"
   ]
  },
  {
   "cell_type": "code",
   "execution_count": null,
   "metadata": {
    "id": "WCMc5ZEt4nwO"
   },
   "outputs": [],
   "source": [
    "# Find the sum of all the values in the list\n",
    "sum(a)   # => 100"
   ]
  },
  {
   "cell_type": "code",
   "execution_count": null,
   "metadata": {
    "id": "iaoMCPgy4wA-"
   },
   "outputs": [],
   "source": [
    "# Find the minimum and maximum values\n",
    "min(a), max(a)  # => 10, 40"
   ]
  },
  {
   "cell_type": "code",
   "execution_count": null,
   "metadata": {
    "id": "QEX3s69d5L-4"
   },
   "outputs": [],
   "source": [
    "# sort the list\n",
    "sorted(a)   # => [10, 20, 30, 40]"
   ]
  },
  {
   "cell_type": "code",
   "execution_count": null,
   "metadata": {
    "id": "dTuIQXIQ5R79"
   },
   "outputs": [],
   "source": [
    "# note that the sorted function creates a new list and doesn't sort in place\n",
    "a  # => [30, 10, 40, 20]"
   ]
  },
  {
   "cell_type": "code",
   "execution_count": null,
   "metadata": {
    "id": "0RJa3uwl6EV9"
   },
   "outputs": [],
   "source": [
    "# pass the reverse=True argument to sort the list in descending order\n",
    "sorted(a, reverse=True) # => [40, 30, 20, 10]"
   ]
  },
  {
   "cell_type": "code",
   "execution_count": null,
   "metadata": {
    "id": "-zUqHQ7v6bP2"
   },
   "outputs": [],
   "source": [
    "# you can create your custom sort function with the key argument;\n",
    "# for example, say you have a list of tuples containing counts of different objects\n",
    "fruits = [('orange', 8), ('apple', 4), ('banana', 1)]\n",
    "\n",
    "# the first item in each tuple is the name of the fruit and the second item is the count;\n",
    "# to sort the fruits by the counts in increasing order use the `key` argument in the function call\n",
    "sorted(fruits, key=lambda x: x[1])   # x[1] means sort by the second item of the tuple"
   ]
  },
  {
   "cell_type": "code",
   "execution_count": null,
   "metadata": {
    "id": "xRGDmOog7fzs"
   },
   "outputs": [],
   "source": [
    "# to sort by names, use x[0]\n",
    "sorted(fruits, key=lambda x: x[0])  # x[0] sorts by the first item of the tuple"
   ]
  },
  {
   "cell_type": "markdown",
   "metadata": {
    "id": "WyaA3w3rcp7F"
   },
   "source": [
    "# 6. Modules\n",
    "\n",
    "A module is a file containing Python code. It can contain executable statements as well as function definitions. Python comes with a library of standard modules such as `os`, `sys`, `re`, `math`, etc.\n",
    "\n",
    "You include a module in your code with the `import` keyword."
   ]
  },
  {
   "cell_type": "code",
   "execution_count": null,
   "metadata": {
    "id": "VvCaRDWx0l1o"
   },
   "outputs": [],
   "source": [
    "# import the math module to access mathematical functions\n",
    "import math\n",
    "math.sqrt(25)"
   ]
  },
  {
   "cell_type": "code",
   "execution_count": null,
   "metadata": {
    "id": "mKkOupqM09DK"
   },
   "outputs": [],
   "source": [
    "# you can get specific functions from a module\n",
    "from math import ceil, floor\n",
    "print(ceil(3.7))   # => 4.0\n",
    "print(floor(3.7))  # => 3.0"
   ]
  },
  {
   "cell_type": "code",
   "execution_count": null,
   "metadata": {
    "id": "y2ItJs0E1CGB"
   },
   "outputs": [],
   "source": [
    "# or import all the functions inside a module with *\n",
    "# although this is usually not recommended\n",
    "from math import *\n",
    "sqrt(100)   # no need for the `math.` prefix now"
   ]
  },
  {
   "cell_type": "code",
   "execution_count": null,
   "metadata": {
    "id": "09F1C60P1WPO"
   },
   "outputs": [],
   "source": [
    "# You can shorten module names\n",
    "import math as m\n",
    "m.sqrt(0.25)"
   ]
  },
  {
   "cell_type": "markdown",
   "metadata": {
    "id": "fbchxl2i17fO"
   },
   "source": [
    "Later in the course we will be working with other modules like `nltk`, `gensim`, `numpy`, `pandas`, `sklearn` etc."
   ]
  },
  {
   "cell_type": "markdown",
   "metadata": {
    "id": "txDUUSz1crLG"
   },
   "source": [
    "# 7. Working with Files\n",
    "\n",
    "open() returns a file object, and is most commonly used with two arguments: `open(filename, mode)`."
   ]
  },
  {
   "cell_type": "code",
   "execution_count": null,
   "metadata": {
    "id": "u7NAWd8zUUnh"
   },
   "outputs": [],
   "source": [
    "textfile = open('workfile.txt', mode='w')  # mode='w' opens a file for writing\n",
    "textfile.write('This is a test\\n')\n",
    "textfile.write('Second line in the file\\n')\n",
    "textfile.close()"
   ]
  },
  {
   "cell_type": "markdown",
   "metadata": {
    "id": "BXnGfnDCYFYv"
   },
   "source": [
    "To read a file’s contents, call f.read(size), which reads some quantity of \n",
    "\n",
    "---\n",
    "\n",
    "data and returns it as a string. size is an optional numeric argument. When size is omitted or negative, the entire contents of the file will be read and returned; it’s your problem if the file is twice as large as your machine’s memory. Otherwise, at most size bytes are read and returned. If the end of the file has been reached, f.read() will return an empty string (\"\")."
   ]
  },
  {
   "cell_type": "code",
   "execution_count": null,
   "metadata": {
    "id": "cXSKOgdAYIcQ"
   },
   "outputs": [],
   "source": [
    "textfile = open('workfile.txt', mode='r') # mode='r' opens a file for reading\n",
    "textfile.read()"
   ]
  },
  {
   "cell_type": "markdown",
   "metadata": {
    "id": "UO962TRQYH2Z"
   },
   "source": [
    "f.readline() reads a single line from the file; a newline character (\\n) is left at the end of the string, and is only omitted on the last line of the file if the file doesn’t end in a newline."
   ]
  },
  {
   "cell_type": "code",
   "execution_count": null,
   "metadata": {
    "id": "Zf7sD9cwY-5e"
   },
   "outputs": [],
   "source": [
    "textfile = open('workfile.txt', 'r')\n",
    "textfile.readline()"
   ]
  },
  {
   "cell_type": "markdown",
   "metadata": {
    "id": "ksPfYKZyZF-6"
   },
   "source": [
    "To read multiple lines from a file into a list, use the `readlines()` function."
   ]
  },
  {
   "cell_type": "code",
   "execution_count": null,
   "metadata": {
    "id": "-WSrgji0ZPZ4"
   },
   "outputs": [],
   "source": [
    "textfile = open('workfile.txt', 'r')\n",
    "lines = textfile.readlines()\n",
    "lines"
   ]
  },
  {
   "cell_type": "markdown",
   "metadata": {
    "id": "DFHcCjYZZLdf"
   },
   "source": [
    "It is good practice to use the `with` keyword when dealing with file objects. This has the advantage that the file is properly closed after its suite finishes, even if an exception is raised on the way. "
   ]
  },
  {
   "cell_type": "code",
   "execution_count": null,
   "metadata": {
    "id": "lCnPCMU1ZKq_"
   },
   "outputs": [],
   "source": [
    "with open('workfile.txt', 'r') as textfile:\n",
    "    read_data = textfile.read()\n",
    "    print(read_data)"
   ]
  },
  {
   "cell_type": "markdown",
   "metadata": {
    "id": "B0LaaZlARFvg"
   },
   "source": [
    "# 8. Advanced Topics\n",
    "\n",
    "The following topics are not covered in this tutorial, however they are good to know when programming in Python.\n",
    "\n",
    "1. [Classes](https://docs.python.org/3/tutorial/classes.html): Python supports many object-oriented programming principles such as classes, inheritance etc.\n",
    "2. [Functional Programming](https://docs.python.org/3/howto/functional.html): Python has built-in features to support functional progamming concepts using iterators and generators along with library functions such as `map`, `filter`, `reduce`, etc.\n",
    "3. [Regular Expressions](https://docs.python.org/3/library/re.html): Regular Expressions are a powerful tool used for pattern matching and text analysis. Python offers full support for regular expressions using the `re` module.\n"
   ]
  },
  {
   "cell_type": "markdown",
   "metadata": {
    "id": "Q-_YV_GadHfy"
   },
   "source": [
    "# Free Online Resources for Python\n",
    "\n",
    "- [Python 3 Documentation](https://docs.python.org/3/)\n",
    "- [PEP 8 -- Style Guide for Python Code](https://www.python.org/dev/peps/pep-0008/)\n",
    "- [Learn Python in Y minutes](https://learnxinyminutes.com/docs/python/) - The tutorial above is largely adapted from here.\n",
    "- [Learn Python - Full Course for Beginners by freeCodeCamp on YouTube](https://www.youtube.com/watch?v=rfscVS0vtbw)\n",
    "- [Automate the Boring Stuff with Python](https://automatetheboringstuff.com)"
   ]
  }
 ],
 "metadata": {
  "colab": {
   "collapsed_sections": [],
   "name": "Python Tutorial.ipynb",
   "provenance": []
  },
  "kernelspec": {
   "display_name": "Python 3 (ipykernel)",
   "language": "python",
   "name": "python3"
  },
  "language_info": {
   "codemirror_mode": {
    "name": "ipython",
    "version": 3
   },
   "file_extension": ".py",
   "mimetype": "text/x-python",
   "name": "python",
   "nbconvert_exporter": "python",
   "pygments_lexer": "ipython3",
   "version": "3.9.10"
  }
 },
 "nbformat": 4,
 "nbformat_minor": 1
}
