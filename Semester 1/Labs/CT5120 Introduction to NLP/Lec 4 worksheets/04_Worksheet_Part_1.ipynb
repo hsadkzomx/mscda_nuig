{
  "nbformat": 4,
  "nbformat_minor": 0,
  "metadata": {
    "colab": {
      "provenance": [],
      "collapsed_sections": []
    },
    "kernelspec": {
      "name": "python3",
      "display_name": "Python 3"
    },
    "language_info": {
      "name": "python"
    }
  },
  "cells": [
    {
      "cell_type": "markdown",
      "metadata": {
        "id": "l9a1R3CEAFVU"
      },
      "source": [
        "# Spelling correction\n",
        "\n",
        "In this exercise we are going to build a simple model for spelling correction using a bigram language model. We will start by using the Brown corpus"
      ]
    },
    {
      "cell_type": "code",
      "metadata": {
        "colab": {
          "base_uri": "https://localhost:8080/"
        },
        "id": "wNl55RpkAben",
        "outputId": "6f75aeab-5132-4aef-911d-75866bd9a9bc"
      },
      "source": [
        "import nltk\n",
        "nltk.download(\"brown\")\n",
        "from nltk.corpus import brown"
      ],
      "execution_count": null,
      "outputs": [
        {
          "output_type": "stream",
          "name": "stdout",
          "text": [
            "[nltk_data] Downloading package brown to /root/nltk_data...\n",
            "[nltk_data]   Unzipping corpora/brown.zip.\n"
          ]
        }
      ]
    },
    {
      "cell_type": "markdown",
      "metadata": {
        "id": "rt4vlQtTAiDS"
      },
      "source": [
        "Now let's build a dictionary of all the words in Brown and all the bigrams using NLTK.\n"
      ]
    },
    {
      "cell_type": "code",
      "metadata": {
        "id": "iclN86klAtGt"
      },
      "source": [
        "from nltk import FreqDist, bigrams, ConditionalFreqDist\n",
        "\n",
        "words = FreqDist(w.lower() for w in brown.words())\n",
        "words_2g = ConditionalFreqDist(bigrams(w.lower() for w in brown.words()))"
      ],
      "execution_count": null,
      "outputs": []
    },
    {
      "cell_type": "code",
      "metadata": {
        "id": "eR4QmgjcSIre"
      },
      "source": [
        "words_2g[\"this\"]"
      ],
      "execution_count": null,
      "outputs": []
    },
    {
      "cell_type": "markdown",
      "metadata": {
        "id": "-J3Ty3FNBs-1"
      },
      "source": [
        "How do you calculate the conditional probability $P(\\text{book}|\\text{the})$?"
      ]
    },
    {
      "cell_type": "code",
      "metadata": {
        "id": "uz_QIBKjB1wU"
      },
      "source": [
        "def cond_prob(prev_word, word):\n",
        "  return 0\n",
        "\n",
        "assert cond_prob(\"the\", \"book\") == 0.0007717482957225136"
      ],
      "execution_count": null,
      "outputs": []
    },
    {
      "cell_type": "markdown",
      "metadata": {
        "id": "VaCXGuidCMVJ"
      },
      "source": [
        "Now let's write a simple function that finds all the words at minimal edit distance for a misspelled word."
      ]
    },
    {
      "cell_type": "code",
      "metadata": {
        "id": "6eHVPj1zCjkN"
      },
      "source": [
        "from nltk.metrics.distance import edit_distance\n",
        "\n",
        "def candidates(w):\n",
        "  return []\n",
        "\n",
        "assert set(candidates(\"thjs\")) == set([\"this\",\"thus\"])"
      ],
      "execution_count": null,
      "outputs": []
    },
    {
      "cell_type": "markdown",
      "metadata": {
        "id": "uRPW0pv2Dxq0"
      },
      "source": [
        "Using a bigram language model how do we choose a the best word based on the word either side?\n",
        "\n",
        "Use this to write a function that returns the most likely spelling correction of `word`"
      ]
    },
    {
      "cell_type": "code",
      "metadata": {
        "id": "7NHMqe9fEM5w"
      },
      "source": [
        "def correct(prev_word, word, next_word):\n",
        "  return \"\"\n",
        "\n",
        "assert correct(\"is\",\"thjs\",\"satisfied\") == \"this\""
      ],
      "execution_count": null,
      "outputs": []
    }
  ]
}