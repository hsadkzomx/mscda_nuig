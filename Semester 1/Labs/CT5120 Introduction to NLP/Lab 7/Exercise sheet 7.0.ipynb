{
 "cells": [
  {
   "cell_type": "code",
   "execution_count": 6,
   "metadata": {
    "id": "ty9bYFnX-X09"
   },
   "outputs": [],
   "source": [
    "import numpy as np\n",
    "import matplotlib.pyplot as plt"
   ]
  },
  {
   "cell_type": "markdown",
   "metadata": {
    "id": "Fzu13tI7-Klw"
   },
   "source": [
    "### Learning Objectives\n",
    "\n",
    "Our focus in this session is to get to know a few libraries which are currently widely used in deep learning applications, pytorch. As an exercise, we will try to implement a model using the linear regression method in pytorch."
   ]
  },
  {
   "cell_type": "markdown",
   "metadata": {
    "id": "BJa86xq5_ypJ"
   },
   "source": [
    "## Pytorch\n",
    "\n",
    "PyTorch is an optimized Deep Learning tensor library based on Python and Torch and is mainly used for applications using GPUs and CPUs.\n",
    "\n"
   ]
  },
  {
   "cell_type": "code",
   "execution_count": 7,
   "metadata": {
    "id": "cXloAQ3693Q3"
   },
   "outputs": [],
   "source": [
    "import torch\n",
    "import torch.nn as nn"
   ]
  },
  {
   "cell_type": "markdown",
   "metadata": {
    "id": "fB3PXSsJAjSY"
   },
   "source": [
    "## Tensors\n",
    "[DOCUMENTATION LINKS](https://pytorch.org/docs/stable/tensors.html#torch.Tensor)\n",
    "\n",
    "A torch.Tensor is a multi-dimensional matrix containing elements of a single data type.\n",
    "\n",
    "### Creating a tensor\n",
    "A tensor can be constructed from a Python list or sequence using the torch.tensor( ) constructor:"
   ]
  },
  {
   "cell_type": "code",
   "execution_count": 8,
   "metadata": {
    "colab": {
     "base_uri": "https://localhost:8080/"
    },
    "executionInfo": {
     "elapsed": 8,
     "status": "ok",
     "timestamp": 1666271821717,
     "user": {
      "displayName": "gaurav negi",
      "userId": "17788159321082264085"
     },
     "user_tz": -60
    },
    "id": "P4TvM0mo--T6",
    "outputId": "aa176a8b-c7f7-4ff8-a1d2-70961001b1f1"
   },
   "outputs": [
    {
     "name": "stdout",
     "output_type": "stream",
     "text": [
      "torch.Size([2, 2]) torch.Size([2, 3])\n",
      "tensor([[-3., -3., -3.],\n",
      "        [-3., -3., -3.]])\n",
      "tensor([1., 1., 1., 1., 1., 1., 1., 1., 1., 1.]) tensor([0., 0., 0., 0., 0., 0., 0., 0., 0., 0.])\n"
     ]
    }
   ],
   "source": [
    "x1 = torch.tensor([[1., -1.], [1., -1.]], dtype=torch.float32)\n",
    "x2 = torch.tensor(np.array([[1, 2, 3], [4, 5, 6]]), dtype=torch.float32)\n",
    "\n",
    "print(x1.shape, x2.shape)\n",
    "\n",
    "x12 = torch.matmul(x1, x2)\n",
    "print(x12)\n",
    "\n",
    "# Creating a tensor of 1s\n",
    "x10 = torch.ones((10,))\n",
    "x_3_3 = torch.ones((10,))\n",
    "\n",
    "# Creating a tensor of 0s\n",
    "x5 = torch.zeros((10,))\n",
    "x6 = torch.zeros((10,))\n",
    "\n",
    "print(x10, x6)"
   ]
  },
  {
   "cell_type": "markdown",
   "metadata": {
    "id": "S_4pSkVLDoN3"
   },
   "source": [
    "# Exercise 1\n",
    "1.  Calculate $[1, 2, 3] + [3, 4, 5]$ using pytorch\n",
    "\n",
    "2. Create two matrices:\n",
    "\n",
    "  a. $\\begin{bmatrix} 1 & 2 & 3 \\\\ 3 & 0 & 1 \\\\ 0 & 2 & 4 \\end{bmatrix}$\n",
    "\n",
    "  b. $\\begin{bmatrix} 3 & 2 & 1 \\\\ 3 & 3 & 3 \\\\ 1 & 2 & 4 \\end{bmatrix}$\n",
    "\n",
    "  and perform matrix multiplication:\n",
    "  \n",
    "  i. $a \\times b$\n",
    "  \n",
    "  ii. $b \\times a$"
   ]
  },
  {
   "cell_type": "code",
   "execution_count": 42,
   "metadata": {
    "colab": {
     "base_uri": "https://localhost:8080/"
    },
    "executionInfo": {
     "elapsed": 7,
     "status": "ok",
     "timestamp": 1666271821718,
     "user": {
      "displayName": "gaurav negi",
      "userId": "17788159321082264085"
     },
     "user_tz": -60
    },
    "id": "u88wlJAmBND6",
    "outputId": "e8a254c2-00e3-41f0-ea41-c751ab415420"
   },
   "outputs": [
    {
     "name": "stdout",
     "output_type": "stream",
     "text": [
      "x11 + x12 = tensor([4, 6, 8])\n",
      "a * b\n",
      " tensor([[12, 14, 19],\n",
      "        [10,  8,  7],\n",
      "        [10, 14, 22]])\n",
      "\n",
      "b * a\n",
      " tensor([[ 9,  8, 15],\n",
      "        [12, 12, 24],\n",
      "        [ 7, 10, 21]])\n"
     ]
    }
   ],
   "source": [
    "## YOUR CODE GOES HERE\n",
    "x11 = torch.tensor([1, 2, 3])\n",
    "x12 = torch.tensor([3, 4, 5])\n",
    "print(\"x11 + x12 =\", x11+x12)\n",
    "\n",
    "\n",
    "a = torch.tensor([[1, 2, 3], [3, 0, 1], [0, 2, 4]])\n",
    "b = torch.tensor(np.array([[3, 2, 1], [3, 3, 3], [1, 2, 4]]))\n",
    "\n",
    "print(\"a * b\\n\", torch.matmul(a, b))\n",
    "\n",
    "print(\"\\nb * a\\n\", torch.matmul(b, a))"
   ]
  },
  {
   "cell_type": "code",
   "execution_count": null,
   "metadata": {},
   "outputs": [],
   "source": [
    "x11 + x12 = tensor([4, 6, 8])\n",
    "a * b \n",
    "tensor([[12, 14, 19],\n",
    "        [10,  8,  7],\n",
    "        [10, 14, 22]])\n",
    "b * a \n",
    "tensor([[ 9,  8, 15],\n",
    "        [12, 12, 24],\n",
    "        [ 7, 10, 21]])"
   ]
  },
  {
   "cell_type": "markdown",
   "metadata": {
    "id": "pYKUBxEkGq2S"
   },
   "source": [
    "# Linear Regression\n",
    "Linear regression attempts to model the relationship between two variables by fitting a linear equation to observed data. One variable is considered to be an explanatory variable, and the other is considered to be a dependent variable.\n",
    "\n",
    "\n",
    "A linear regression line has an equation of the form $$Y = mX + c$$, where X is the explanatory variable and Y is the dependent variable. The slope of the line is m, and c is the intercept.\n",
    "\n",
    "https://scikit-learn.org/stable/modules/linear_model.html"
   ]
  },
  {
   "cell_type": "markdown",
   "metadata": {
    "id": "W0eMBwpEJjml"
   },
   "source": [
    "# Exercise 2\n",
    "*   Create input(x_train) values between -2 and 2 evenly spaced 75 values using np.linespace command.\n",
    "* Create `y_train` so that is generated by $y=2x+ 0.25 \\times random$\n",
    "* Hint: use np.random.randn for generating random_ value"
   ]
  },
  {
   "cell_type": "code",
   "execution_count": 32,
   "metadata": {
    "id": "Ch8SoUP1E_SR"
   },
   "outputs": [],
   "source": [
    "## YOUR CODE GOES HERE\n",
    "x_train = np.linspace(-2, 2, 75)\n",
    "y_train = 2 * x_train + 0.25 * np.random.randn(* x_train.shape)\n",
    "\n"
   ]
  },
  {
   "cell_type": "code",
   "execution_count": 33,
   "metadata": {
    "colab": {
     "base_uri": "https://localhost:8080/",
     "height": 313
    },
    "executionInfo": {
     "elapsed": 405,
     "status": "ok",
     "timestamp": 1666271822118,
     "user": {
      "displayName": "gaurav negi",
      "userId": "17788159321082264085"
     },
     "user_tz": -60
    },
    "id": "MJXyoC30IeDI",
    "outputId": "af314489-677e-4698-d184-035fdc2ac5bf"
   },
   "outputs": [
    {
     "data": {
      "text/plain": [
       "Text(0.5, 1.0, 'Dataset Plot')"
      ]
     },
     "execution_count": 33,
     "metadata": {},
     "output_type": "execute_result"
    },
    {
     "data": {
      "image/png": "[encoded data removed]",
      "text/plain": [
       "<Figure size 640x480 with 1 Axes>"
      ]
     },
     "metadata": {},
     "output_type": "display_data"
    }
   ],
   "source": [
    "## Run this section to plot graph\n",
    "plt.scatter(x_train, y_train)\n",
    "plt.xlabel('x_train')\n",
    "plt.ylabel('y_label')\n",
    "plt.title('Dataset Plot')"
   ]
  },
  {
   "cell_type": "code",
   "execution_count": 34,
   "metadata": {
    "id": "4Yn7IDV7Mb3l"
   },
   "outputs": [],
   "source": [
    "## Creating tensors from numpy to feed to model\n",
    "x_train = torch.from_numpy(x_train).float()\n",
    "y_train = torch.from_numpy(y_train)\n",
    "\n",
    "## transforming (75,) to (75,1), making each value as distinct col \n",
    "## so it can be fed to the model at once \n",
    "x_train = torch.unsqueeze(x_train, dim=1)\n",
    "y_train = torch.unsqueeze(y_train, dim=1)"
   ]
  },
  {
   "cell_type": "code",
   "execution_count": 35,
   "metadata": {
    "id": "Q0upk2xZJE9f"
   },
   "outputs": [],
   "source": [
    "class LinearRegressor(nn.Module):\n",
    "  def __init__(self) -> None:\n",
    "    super(LinearRegressor, self).__init__()\n",
    "    self.linear_l1 = nn.Linear(1, 1)\n",
    "\n",
    "  def forward(self, x):\n",
    "    output = self.linear_l1(x)\n",
    "    return output"
   ]
  },
  {
   "cell_type": "code",
   "execution_count": 36,
   "metadata": {
    "id": "Q0QAcUx0Klnh"
   },
   "outputs": [],
   "source": [
    "model = LinearRegressor()\n",
    "learning_rate = 0.05\n",
    "optimizer = torch.optim.SGD(model.parameters(), lr=learning_rate)\n",
    "loss_fn = nn.MSELoss()"
   ]
  },
  {
   "cell_type": "code",
   "execution_count": 37,
   "metadata": {
    "colab": {
     "base_uri": "https://localhost:8080/"
    },
    "executionInfo": {
     "elapsed": 9,
     "status": "ok",
     "timestamp": 1666271822119,
     "user": {
      "displayName": "gaurav negi",
      "userId": "17788159321082264085"
     },
     "user_tz": -60
    },
    "id": "DW7roYVHLyQO",
    "outputId": "7b7f9d02-f27c-4864-8ca8-5d9a392d480c"
   },
   "outputs": [
    {
     "name": "stdout",
     "output_type": "stream",
     "text": [
      "epoch: 0, loss : 6.78023624420166\n",
      "epoch: 10, loss : 0.42980584502220154\n",
      "epoch: 20, loss : 0.08801483362913132\n",
      "epoch: 30, loss : 0.06908634305000305\n",
      "epoch: 40, loss : 0.06797481328248978\n",
      "epoch: 50, loss : 0.06790222972631454\n",
      "epoch: 60, loss : 0.06789669394493103\n",
      "epoch: 70, loss : 0.06789619475603104\n",
      "epoch: 80, loss : 0.06789615005254745\n",
      "epoch: 90, loss : 0.06789612770080566\n"
     ]
    }
   ],
   "source": [
    "epochs = 100\n",
    "ep = []\n",
    "loss_arr = []\n",
    "for epoch in range(epochs):\n",
    "    optimizer.zero_grad()\n",
    "    outputs = model(x_train)\n",
    "    loss = loss_fn(outputs, y_train.float())\n",
    "    loss.backward()\n",
    "    optimizer.step()\n",
    "    ep.append(epoch)\n",
    "    loss_arr.append(loss.item())\n",
    "    if epoch % 10 == 0:\n",
    "      print(f'epoch: {epoch}, loss : {loss.item()}')"
   ]
  },
  {
   "cell_type": "code",
   "execution_count": 39,
   "metadata": {
    "id": "ov0QmZx1Mr4t"
   },
   "outputs": [
    {
     "name": "stdout",
     "output_type": "stream",
     "text": [
      "1.9618608951568604 0.05108910799026489\n"
     ]
    }
   ],
   "source": [
    "m, c = [a.item() for a in model.parameters()]\n",
    "print(m, c)"
   ]
  },
  {
   "cell_type": "markdown",
   "metadata": {
    "id": "SeG_tJtaRyos"
   },
   "source": [
    "# Exercise 3\n",
    "\n",
    "* Create testing Data same way the training dataset was created. But this time spaced from 2.5 to 4 we take out 25 datapoints.\n",
    "\n",
    "* Change the shape of data from (25,) to (25,1)\n",
    "\n",
    "* Use the freshly trained model to predict `y` from the test examples"
   ]
  },
  {
   "cell_type": "code",
   "execution_count": 48,
   "metadata": {
    "colab": {
     "base_uri": "https://localhost:8080/"
    },
    "executionInfo": {
     "elapsed": 684,
     "status": "ok",
     "timestamp": 1666271912199,
     "user": {
      "displayName": "gaurav negi",
      "userId": "17788159321082264085"
     },
     "user_tz": -60
    },
    "id": "-EOE9RKGPf-m",
    "outputId": "fc04ddc2-469d-4a10-e9cb-cb5c4148716b"
   },
   "outputs": [
    {
     "data": {
      "text/plain": [
       "torch.Size([25, 1])"
      ]
     },
     "execution_count": 48,
     "metadata": {},
     "output_type": "execute_result"
    }
   ],
   "source": [
    "# YOUR CODE GOES HERE\n",
    "x_test = np.linspace(2.5, 4, 25)\n",
    "x_test.shape\n",
    "x_test = torch.from_numpy(x_test)\n",
    "x_test = torch.unsqueeze(x_test, dim=1)\n",
    "x_test.shape"
   ]
  },
  {
   "cell_type": "code",
   "execution_count": 49,
   "metadata": {
    "id": "tVWSaYfRNZB1"
   },
   "outputs": [],
   "source": [
    "def plot_results(x_train, y_train, x_test, y_pred, slope, intercept):\n",
    "  fig, ax = plt.subplots(figsize=(6,6))\n",
    "\n",
    "  ax.scatter(x_train.detach().numpy(), y_train, label='training')\n",
    "  ax.scatter(x_test.detach().numpy(), y_pred.detach().numpy(), color='green', label='test')\n",
    "  ax.set_xlabel('train X')\n",
    "  ax.set_ylabel('train Y')\n",
    "  x_vals = np.array(ax.get_xlim())\n",
    "  y_vals = slope * x_vals + intercept\n",
    "  ax.plot(x_vals, y_vals, '--', color='black', label='Fitted Line')\n",
    "  ax.legend()\n",
    "  fig.show()"
   ]
  },
  {
   "cell_type": "markdown",
   "metadata": {
    "id": "p2OPtjXXjUJI"
   },
   "source": [
    "# Exercise 4\n",
    "Use the results, along with datasets and the `plot_results` functions to plot the data, results and learnt parameters."
   ]
  },
  {
   "cell_type": "code",
   "execution_count": 53,
   "metadata": {
    "colab": {
     "base_uri": "https://localhost:8080/",
     "height": 388
    },
    "executionInfo": {
     "elapsed": 816,
     "status": "ok",
     "timestamp": 1666271822930,
     "user": {
      "displayName": "gaurav negi",
      "userId": "17788159321082264085"
     },
     "user_tz": -60
    },
    "id": "1BaRPXx7OFeS",
    "outputId": "c1b40171-d0cc-44dd-ca57-6ae98403abd0"
   },
   "outputs": [
    {
     "name": "stderr",
     "output_type": "stream",
     "text": [
      "/var/folders/qc/_vwvb0312psck5cb_99s_c8r0000gn/T/ipykernel_72181/1776163118.py:12: UserWarning: Matplotlib is currently using module://matplotlib_inline.backend_inline, which is a non-GUI backend, so cannot show the figure.\n",
      "  fig.show()\n"
     ]
    },
    {
     "data": {
      "image/png": "[encoded data removed]",
      "text/plain": [
       "<Figure size 600x600 with 1 Axes>"
      ]
     },
     "metadata": {},
     "output_type": "display_data"
    }
   ],
   "source": [
    "## YOUR CODE GOES HERE\n",
    "plot_results(x_train, y_train, x_test, model.forward(x_test.float()), m, c)"
   ]
  }
 ],
 "metadata": {
  "colab": {
   "authorship_tag": "ABX9TyMwBYsaq3xCGjHGRk1MSyQE",
   "collapsed_sections": [],
   "provenance": []
  },
  "kernelspec": {
   "display_name": "Python 3 (ipykernel)",
   "language": "python",
   "name": "python3"
  },
  "language_info": {
   "codemirror_mode": {
    "name": "ipython",
    "version": 3
   },
   "file_extension": ".py",
   "mimetype": "text/x-python",
   "name": "python",
   "nbconvert_exporter": "python",
   "pygments_lexer": "ipython3",
   "version": "3.9.10"
  }
 },
 "nbformat": 4,
 "nbformat_minor": 1
}
