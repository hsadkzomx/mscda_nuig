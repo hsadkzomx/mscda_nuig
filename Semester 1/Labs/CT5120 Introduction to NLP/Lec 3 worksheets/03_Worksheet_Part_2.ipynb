{
 "cells": [
  {
   "cell_type": "markdown",
   "metadata": {
    "id": "oXHs47kWKoJw"
   },
   "source": [
    "# Text Classification (part 2)\n",
    "\n",
    "For this section we are going to look at text classification into two genres, 'news' and 'fiction', based on the Brown corpus.\n",
    "\n",
    "First we will download the Brown corpus"
   ]
  },
  {
   "cell_type": "code",
   "execution_count": null,
   "metadata": {
    "colab": {
     "base_uri": "https://localhost:8080/"
    },
    "id": "V8wbirJNKqXA",
    "outputId": "d9b88870-ca22-448f-a85f-0716e110ddb3"
   },
   "outputs": [
    {
     "name": "stdout",
     "output_type": "stream",
     "text": [
      "[nltk_data] Downloading package brown to /root/nltk_data...\n",
      "[nltk_data]   Unzipping corpora/brown.zip.\n"
     ]
    }
   ],
   "source": [
    "import nltk\n",
    "nltk.download(\"brown\")\n",
    "from nltk.corpus import brown\n",
    "from math import log\n"
   ]
  },
  {
   "cell_type": "markdown",
   "metadata": {
    "id": "VbqdfOhhRaqB"
   },
   "source": [
    "We will now divide our corpus into train and test. Use 500 random documents from each category for test and the remaining documents as training"
   ]
  },
  {
   "cell_type": "code",
   "execution_count": null,
   "metadata": {
    "id": "V0UN2y1-ReMe"
   },
   "outputs": [],
   "source": [
    "from random import shuffle\n",
    "\n",
    "news = list(brown.sents(categories=\"news\"))\n",
    "fiction = list(brown.sents(categories=\"fiction\"))\n",
    "\n",
    "shuffle(news)\n",
    "shuffle(fiction)\n",
    "\n",
    "train_news = news[:-500]\n",
    "train_fiction = fiction[:-500]\n",
    "test_sents = news[-500:] + fiction[-500:]\n"
   ]
  },
  {
   "cell_type": "markdown",
   "metadata": {
    "id": "qJIIQBkVOj1K"
   },
   "source": [
    "Next we will count the corpus and choose as features the words that have are between the 50th most frequent and the 2000th most frequent"
   ]
  },
  {
   "cell_type": "code",
   "execution_count": null,
   "metadata": {
    "id": "upzyHfZVMK5-"
   },
   "outputs": [],
   "source": [
    "from nltk import FreqDist\n",
    "\n",
    "words = FreqDist(w.lower() for w in brown.words())\n",
    "\n",
    "feat_words = set(w[0] for w in words.most_common(2000)) - set(w[0] for w in words.most_common(50))\n",
    "\n",
    "fd_news = FreqDist(w.lower() for w in brown.words(categories=\"news\") if w in feat_words)\n",
    "fd_fiction = FreqDist(w.lower() for w in brown.words(categories=\"fiction\") if w in feat_words)"
   ]
  },
  {
   "cell_type": "markdown",
   "metadata": {
    "id": "pBGly6aTO1mS"
   },
   "source": [
    "We will now apply Naïve Bayes to make our classifier. First calculate the base probability as $\\log(P(news)) - \\log(P(fiction))$.\n",
    "\n",
    "Then classify using the Naïve Bayes formula\n",
    "\n",
    "$\\log(P(news)) + \\sum_i \\log P(w_i | news) > \\log(P(fiction)) + \\sum_i \\log P(w_i | fiction)$\n",
    "\n",
    "Use a small value `1e-6` as the frequency for words not in one corpus.\n"
   ]
  },
  {
   "cell_type": "code",
   "execution_count": null,
   "metadata": {
    "id": "1AoKmg3ZMcPb"
   },
   "outputs": [],
   "source": [
    "base_prob = log(len(train_news)/(len(train_news)+len(train_fiction))) - log(len(train_fiction)/(len(train_news)+len(train_fiction)))\n",
    "\n",
    "log_p_news = log(len(train_news)/(len(train_news)+len(train_fiction)))\n",
    "log_p_fiction = log(len(train_fiction)/(len(train_news)+len(train_fiction)))\n",
    "\n",
    "def classify(text, base_prob):\n",
    "  total = base_prob\n",
    "  for w in text:\n",
    "    total += log(fd_news[w] / fd_news.N() + 1e-6)\n",
    "    total -= log(fd_fiction[w] / fd_fiction.N() + 1e-6)\n",
    "  if total > 0:\n",
    "    return \"news\"\n",
    "  else:\n",
    "    return \"fiction\"\n"
   ]
  },
  {
   "cell_type": "code",
   "execution_count": null,
   "metadata": {
    "colab": {
     "base_uri": "https://localhost:8080/",
     "height": 35
    },
    "id": "Aa1BkgKhXkVw",
    "outputId": "a184b454-e74b-49d6-d65c-bcfa233804c0"
   },
   "outputs": [
    {
     "data": {
      "application/vnd.google.colaboratory.intrinsic+json": {
       "type": "string"
      },
      "text/plain": [
       "'news'"
      ]
     },
     "execution_count": 16,
     "metadata": {},
     "output_type": "execute_result"
    }
   ],
   "source": [
    "classify([\"this\",\"is\",\"a\",\"test\"], base_prob)"
   ]
  },
  {
   "cell_type": "markdown",
   "metadata": {
    "id": "pXM8mQX4O4US"
   },
   "source": [
    "We will now calculate the effectiveness of our classifier using precision, recall and F-Measure"
   ]
  },
  {
   "cell_type": "code",
   "execution_count": null,
   "metadata": {
    "colab": {
     "base_uri": "https://localhost:8080/"
    },
    "id": "KPgzbevDOD2A",
    "outputId": "21fb7b5f-e346-4493-88ab-26f99afb0afe"
   },
   "outputs": [
    {
     "name": "stdout",
     "output_type": "stream",
     "text": [
      "Precision 0.8204633204633205\n",
      "Recall 0.85\n",
      "F-Measure 0.8349705304518664\n"
     ]
    }
   ],
   "source": [
    "def evaluate(base_prob):\n",
    "  tp = 0\n",
    "  fp = 0\n",
    "  fn = 0\n",
    "  tn = 0Copy of 04 \n",
    "  for sent in test_sents:\n",
    "    if i < 500:\n",
    "      if classify(sent, base_prob) == \"news\":\n",
    "        tp += 1\n",
    "      else:\n",
    "        fn += 1\n",
    "    else:\n",
    "      if classify(sent, base_prob) == \"news\":\n",
    "        fp += 1\n",
    "      else:\n",
    "        tn += 1\n",
    "    i += 1\n",
    "  return (tp/(tp+fp), tp/(tp + fn), 2*tp/(2*tp +fp + fn))\n",
    "\n",
    "precision, recall, fm = evaluate(base_prob)\n",
    "\n",
    "print(\"Precision\",precision)\n",
    "print(\"Recall\",recall)\n",
    "print(\"F-Measure\",fm)"
   ]
  },
  {
   "cell_type": "markdown",
   "metadata": {
    "id": "UanCdNxlUelF"
   },
   "source": [
    "What can we change in order to increase the recall (at the cost of precision) or precision (at the cost of recall)?\n",
    "\n",
    "Plot the change in precision and recall according to this parameter by varying this parameter over the range `arange(-5,5,0.5)`"
   ]
  },
  {
   "cell_type": "code",
   "execution_count": null,
   "metadata": {
    "id": "H3UyxuN0TBxG"
   },
   "outputs": [],
   "source": [
    "%matplotlib inline\n",
    "import matplotlib.pyplot as plt\n",
    "from numpy import arange"
   ]
  },
  {
   "cell_type": "code",
   "execution_count": null,
   "metadata": {
    "colab": {
     "base_uri": "https://localhost:8080/",
     "height": 283
    },
    "id": "rRNiz0GRTD1u",
    "outputId": "a0f36c29-b88a-4d85-c96f-b4274e8a6371"
   },
   "outputs": [
    {
     "data": {
      "text/plain": [
       "[<matplotlib.lines.Line2D at 0x7feef19b0590>]"
      ]
     },
     "execution_count": 19,
     "metadata": {},
     "output_type": "execute_result"
    },
    {
     "data": {
      "image/png": "[encoded data removed]",
      "text/plain": [
       "<Figure size 432x288 with 1 Axes>"
      ]
     },
     "metadata": {
      "needs_background": "light"
     },
     "output_type": "display_data"
    }
   ],
   "source": [
    "parameter = arange(-5,5,0.5)\n",
    "\n",
    "precision = []\n",
    "recall = []\n",
    "\n",
    "for base_prob in parameter:\n",
    "  p,r,fm = evaluate(base_prob)\n",
    "  precision.append(p)\n",
    "  recall.append(r)\n",
    "\n",
    "plt.plot(precision, recall)"
   ]
  }
 ],
 "metadata": {
  "colab": {
   "collapsed_sections": [],
   "provenance": []
  },
  "kernelspec": {
   "display_name": "Python 3 (ipykernel)",
   "language": "python",
   "name": "python3"
  },
  "language_info": {
   "codemirror_mode": {
    "name": "ipython",
    "version": 3
   },
   "file_extension": ".py",
   "mimetype": "text/x-python",
   "name": "python",
   "nbconvert_exporter": "python",
   "pygments_lexer": "ipython3",
   "version": "3.9.10"
  },
  "vscode": {
   "interpreter": {
    "hash": "c6e4e9f98eb68ad3b7c296f83d20e6de614cb42e90992a65aa266555a3137d0d"
   }
  }
 },
 "nbformat": 4,
 "nbformat_minor": 1
}
