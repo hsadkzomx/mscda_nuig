{
 "cells": [
  {
   "cell_type": "code",
   "execution_count": 47,
   "id": "3c9be279",
   "metadata": {},
   "outputs": [],
   "source": [
    "import numpy as np\n",
    "import pandas as pd\n",
    "from sklearn.naive_bayes import GaussianNB\n",
    "from sklearn.ensemble import RandomForestClassifier\n",
    "from sklearn.pipeline import Pipeline\n",
    "import matplotlib.pyplot as plt\n",
    "from sklearn.preprocessing import Normalizer, StandardScaler, MinMaxScaler\n",
    "from sklearn.metrics import classification_report\n",
    "from tqdm import tqdm\n",
    "from sklearn.utils import shuffle"
   ]
  },
  {
   "cell_type": "code",
   "execution_count": 50,
   "id": "7c4b616d",
   "metadata": {},
   "outputs": [
    {
     "name": "stdout",
     "output_type": "stream",
     "text": [
      "    sepal length in cm  sepal width in cm  petal length in cm  \\\n",
      "64                 6.7                3.3                 5.7   \n",
      "33                 4.4                3.0                 1.3   \n",
      "65                 7.2                3.2                 6.0   \n",
      "71                 7.9                3.8                 6.4   \n",
      "31                 5.5                3.5                 1.3   \n",
      "\n",
      "    petal width in cm  target/label  \n",
      "64                2.1             1  \n",
      "33                0.2             0  \n",
      "65                1.8             1  \n",
      "71                2.0             1  \n",
      "31                0.2             0  \n",
      "    sepal length in cm  sepal width in cm  petal length in cm  \\\n",
      "3                  4.8                3.0                 1.4   \n",
      "12                 5.8                2.7                 5.1   \n",
      "7                  4.6                3.2                 1.4   \n",
      "2                  4.8                3.4                 1.6   \n",
      "6                  5.1                3.8                 1.6   \n",
      "\n",
      "    petal width in cm  target/label  \n",
      "3                 0.1             0  \n",
      "12                1.9             1  \n",
      "7                 0.2             0  \n",
      "2                 0.2             0  \n",
      "6                 0.2             0  \n"
     ]
    }
   ],
   "source": [
    "df_train = pd.read_csv('plant-train.csv')\n",
    "df_train.replace({'setosa': 0, 'virginica': 1}, inplace=True)\n",
    "df_train = shuffle(df_train)\n",
    "df_test = pd.read_csv('plant-test.csv')\n",
    "df_test.replace({'setosa': 0, 'virginica': 1}, inplace=True)\n",
    "df_test = shuffle(df_test)\n",
    "target_names = ['setosa', 'virginica']\n",
    "\n",
    "print(df_train.head())\n",
    "print(df_test.head())\n",
    "\n",
    "# The data matrix X\n",
    "X_train = df_train.iloc[:,1:-1]\n",
    "# The labels\n",
    "y_train = (df_train.iloc[:,-1:])\n",
    "\n",
    "# The data matrix X\n",
    "X_test = df_test.iloc[:,1:-1]\n",
    "# The labels\n",
    "y_test = (df_test.iloc[:,-1:])"
   ]
  },
  {
   "cell_type": "code",
   "execution_count": 41,
   "id": "7c0a0080",
   "metadata": {},
   "outputs": [],
   "source": [
    "from sklearn import set_config\n",
    "set_config(display=\"diagram\")\n"
   ]
  },
  {
   "cell_type": "markdown",
   "id": "124379e3",
   "metadata": {},
   "source": [
    "## GaussianNB"
   ]
  },
  {
   "cell_type": "markdown",
   "id": "f67bc14c",
   "metadata": {},
   "source": [
    "### W/O Normalisation"
   ]
  },
  {
   "cell_type": "code",
   "execution_count": 51,
   "id": "1a9be8f1",
   "metadata": {},
   "outputs": [
    {
     "name": "stdout",
     "output_type": "stream",
     "text": [
      "              precision    recall  f1-score   support\n",
      "\n",
      "      setosa       1.00      1.00      1.00        10\n",
      "   virginica       1.00      1.00      1.00        10\n",
      "\n",
      "    accuracy                           1.00        20\n",
      "   macro avg       1.00      1.00      1.00        20\n",
      "weighted avg       1.00      1.00      1.00        20\n",
      "\n"
     ]
    }
   ],
   "source": [
    "GNB = GaussianNB()\n",
    "GNB.fit(X_train.values, y_train.values.ravel())\n",
    "GNB_preds = GNB.predict(X_test.values)\n",
    "print(classification_report(y_test.values, GNB_preds, target_names=target_names))"
   ]
  },
  {
   "cell_type": "markdown",
   "id": "6f92af08",
   "metadata": {},
   "source": [
    "### W/ Normalisation"
   ]
  },
  {
   "cell_type": "code",
   "execution_count": 52,
   "id": "58cd4c3f",
   "metadata": {},
   "outputs": [
    {
     "name": "stdout",
     "output_type": "stream",
     "text": [
      "              precision    recall  f1-score   support\n",
      "\n",
      "      setosa       1.00      1.00      1.00        10\n",
      "   virginica       1.00      1.00      1.00        10\n",
      "\n",
      "    accuracy                           1.00        20\n",
      "   macro avg       1.00      1.00      1.00        20\n",
      "weighted avg       1.00      1.00      1.00        20\n",
      "\n"
     ]
    }
   ],
   "source": [
    "GNB_pipe = Pipeline([\n",
    "    ('scaler', StandardScaler()),\n",
    "    ('classifier', GaussianNB())\n",
    "])\n",
    "\n",
    "GNB_pipe.fit(X_train.values, y_train.values.ravel())\n",
    "GNB_pipe_preds = GNB_pipe.predict(X_test.values)\n",
    "print(classification_report(y_test.values, GNB_pipe_preds, target_names=target_names))"
   ]
  },
  {
   "cell_type": "markdown",
   "id": "90d5d534",
   "metadata": {},
   "source": [
    "## RandomForestClassifier"
   ]
  },
  {
   "cell_type": "markdown",
   "id": "ca7d43f9",
   "metadata": {},
   "source": [
    "### W/O Normalisation"
   ]
  },
  {
   "cell_type": "code",
   "execution_count": 53,
   "id": "a9743d1d",
   "metadata": {},
   "outputs": [
    {
     "name": "stdout",
     "output_type": "stream",
     "text": [
      "              precision    recall  f1-score   support\n",
      "\n",
      "      setosa       1.00      1.00      1.00        10\n",
      "   virginica       1.00      1.00      1.00        10\n",
      "\n",
      "    accuracy                           1.00        20\n",
      "   macro avg       1.00      1.00      1.00        20\n",
      "weighted avg       1.00      1.00      1.00        20\n",
      "\n"
     ]
    }
   ],
   "source": [
    "RFC = RandomForestClassifier(max_depth=2, random_state=42)\n",
    "RFC.fit(X_train.values, y_train.values.ravel())\n",
    "RFC_preds = RFC.predict(X_test.values)\n",
    "print(classification_report(y_test.values, RFC_preds, target_names=target_names))"
   ]
  },
  {
   "cell_type": "markdown",
   "id": "7a4bb7ea",
   "metadata": {},
   "source": [
    "### W/ Normalisation"
   ]
  },
  {
   "cell_type": "code",
   "execution_count": 46,
   "id": "9be19dcd",
   "metadata": {},
   "outputs": [
    {
     "name": "stdout",
     "output_type": "stream",
     "text": [
      "              precision    recall  f1-score   support\n",
      "\n",
      "      setosa       1.00      1.00      1.00        10\n",
      "   virginica       1.00      1.00      1.00        10\n",
      "\n",
      "    accuracy                           1.00        20\n",
      "   macro avg       1.00      1.00      1.00        20\n",
      "weighted avg       1.00      1.00      1.00        20\n",
      "\n"
     ]
    }
   ],
   "source": [
    "RFC_pipe = Pipeline([\n",
    "    ('scaler', StandardScaler()),\n",
    "    ('classifier', RandomForestClassifier(max_depth=2, random_state=42))\n",
    "])\n",
    "\n",
    "RFC_pipe.fit(X_train.values, y_train.values.ravel())\n",
    "RFC_pipe_preds = RFC_pipe.predict(X_test.values)\n",
    "print(classification_report(y_test.values, RFC_pipe_preds, target_names=target_names))"
   ]
  }
 ],
 "metadata": {
  "kernelspec": {
   "display_name": "Python 3.9 (tensorflow)",
   "language": "python",
   "name": "tensorflow"
  },
  "language_info": {
   "codemirror_mode": {
    "name": "ipython",
    "version": 3
   },
   "file_extension": ".py",
   "mimetype": "text/x-python",
   "name": "python",
   "nbconvert_exporter": "python",
   "pygments_lexer": "ipython3",
   "version": "3.9.10"
  }
 },
 "nbformat": 4,
 "nbformat_minor": 5
}
