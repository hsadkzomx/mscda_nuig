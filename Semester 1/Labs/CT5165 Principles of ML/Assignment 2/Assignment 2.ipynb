{
 "cells": [
  {
   "cell_type": "markdown",
   "id": "a7a8104d",
   "metadata": {},
   "source": [
    "# CT5165 Principles of Machine Learning Assignment 2\n",
    "\n",
    "### Jia Rong Li 20230033 1MA1, Zhe Jing Chin 22221970 1CSD1"
   ]
  },
  {
   "cell_type": "code",
   "execution_count": 1,
   "id": "6edf2869",
   "metadata": {},
   "outputs": [],
   "source": [
    "import pandas as pd\n",
    "import numpy as np\n",
    "import matplotlib.pyplot as plt\n",
    "import seaborn as sns\n",
    "\n",
    "from sklearn import preprocessing\n",
    "import warnings \n",
    "warnings.filterwarnings(\"ignore\")\n"
   ]
  },
  {
   "cell_type": "markdown",
   "id": "80c3b341",
   "metadata": {},
   "source": [
    "## Data Processing\n",
    "\n",
    "#Zhe Jing Chin\n"
   ]
  },
  {
   "cell_type": "code",
   "execution_count": 2,
   "id": "6735f385",
   "metadata": {},
   "outputs": [
    {
     "data": {
      "text/html": [
       "<div>\n",
       "<style scoped>\n",
       "    .dataframe tbody tr th:only-of-type {\n",
       "        vertical-align: middle;\n",
       "    }\n",
       "\n",
       "    .dataframe tbody tr th {\n",
       "        vertical-align: top;\n",
       "    }\n",
       "\n",
       "    .dataframe thead th {\n",
       "        text-align: right;\n",
       "    }\n",
       "</style>\n",
       "<table border=\"1\" class=\"dataframe\">\n",
       "  <thead>\n",
       "    <tr style=\"text-align: right;\">\n",
       "      <th></th>\n",
       "      <th>fire</th>\n",
       "      <th>year</th>\n",
       "      <th>temp</th>\n",
       "      <th>humidity</th>\n",
       "      <th>rainfall</th>\n",
       "      <th>drought_code</th>\n",
       "      <th>buildup_index</th>\n",
       "      <th>day</th>\n",
       "      <th>month</th>\n",
       "      <th>wind_speed</th>\n",
       "    </tr>\n",
       "  </thead>\n",
       "  <tbody>\n",
       "    <tr>\n",
       "      <th>0</th>\n",
       "      <td>no</td>\n",
       "      <td>2015</td>\n",
       "      <td>28</td>\n",
       "      <td>59</td>\n",
       "      <td>0.0</td>\n",
       "      <td>8.06</td>\n",
       "      <td>3.47</td>\n",
       "      <td>1</td>\n",
       "      <td>6</td>\n",
       "      <td>19</td>\n",
       "    </tr>\n",
       "    <tr>\n",
       "      <th>1</th>\n",
       "      <td>no</td>\n",
       "      <td>2010</td>\n",
       "      <td>30</td>\n",
       "      <td>61</td>\n",
       "      <td>1.3</td>\n",
       "      <td>8.17</td>\n",
       "      <td>4.03</td>\n",
       "      <td>2</td>\n",
       "      <td>6</td>\n",
       "      <td>13</td>\n",
       "    </tr>\n",
       "    <tr>\n",
       "      <th>2</th>\n",
       "      <td>no</td>\n",
       "      <td>2009</td>\n",
       "      <td>26</td>\n",
       "      <td>83</td>\n",
       "      <td>13.1</td>\n",
       "      <td>8.08</td>\n",
       "      <td>3.59</td>\n",
       "      <td>3</td>\n",
       "      <td>6</td>\n",
       "      <td>22</td>\n",
       "    </tr>\n",
       "    <tr>\n",
       "      <th>3</th>\n",
       "      <td>no</td>\n",
       "      <td>2017</td>\n",
       "      <td>25</td>\n",
       "      <td>87</td>\n",
       "      <td>2.5</td>\n",
       "      <td>7.18</td>\n",
       "      <td>2.42</td>\n",
       "      <td>4</td>\n",
       "      <td>6</td>\n",
       "      <td>15</td>\n",
       "    </tr>\n",
       "    <tr>\n",
       "      <th>4</th>\n",
       "      <td>no</td>\n",
       "      <td>2014</td>\n",
       "      <td>28</td>\n",
       "      <td>77</td>\n",
       "      <td>0.0</td>\n",
       "      <td>14.98</td>\n",
       "      <td>4.63</td>\n",
       "      <td>5</td>\n",
       "      <td>6</td>\n",
       "      <td>18</td>\n",
       "    </tr>\n",
       "  </tbody>\n",
       "</table>\n",
       "</div>"
      ],
      "text/plain": [
       "  fire  year  temp  humidity  rainfall  drought_code  buildup_index  day  \\\n",
       "0   no  2015    28        59       0.0          8.06           3.47    1   \n",
       "1   no  2010    30        61       1.3          8.17           4.03    2   \n",
       "2   no  2009    26        83      13.1          8.08           3.59    3   \n",
       "3   no  2017    25        87       2.5          7.18           2.42    4   \n",
       "4   no  2014    28        77       0.0         14.98           4.63    5   \n",
       "\n",
       "   month  wind_speed  \n",
       "0      6          19  \n",
       "1      6          13  \n",
       "2      6          22  \n",
       "3      6          15  \n",
       "4      6          18  "
      ]
     },
     "execution_count": 2,
     "metadata": {},
     "output_type": "execute_result"
    }
   ],
   "source": [
    "df = pd.read_csv('wildfires.txt', delimiter = \"\\t\")\n",
    "df.dtypes\n",
    "\n",
    "#to remove unnecessary spaces\n",
    "df['fire'] = df['fire'].str.replace(\" \", \"\")\n",
    "\n",
    "df.head()"
   ]
  },
  {
   "cell_type": "code",
   "execution_count": 3,
   "id": "02b3c775",
   "metadata": {},
   "outputs": [
    {
     "data": {
      "text/plain": [
       "(204, 10)"
      ]
     },
     "execution_count": 3,
     "metadata": {},
     "output_type": "execute_result"
    }
   ],
   "source": [
    "df.shape"
   ]
  },
  {
   "cell_type": "markdown",
   "id": "780a555f",
   "metadata": {},
   "source": [
    "## Exploratory Data Analysis\n",
    "\n",
    "#Zhe Jing Chin"
   ]
  },
  {
   "cell_type": "code",
   "execution_count": 4,
   "id": "773cce3d",
   "metadata": {},
   "outputs": [
    {
     "data": {
      "image/png": "[encoded data removed]",
      "text/plain": [
       "<Figure size 1152x504 with 9 Axes>"
      ]
     },
     "metadata": {
      "needs_background": "light"
     },
     "output_type": "display_data"
    }
   ],
   "source": [
    "fig, axes = plt.subplots(3, 3, figsize=(16, 7))\n",
    "\n",
    "for i, col in enumerate(df.columns):\n",
    "    if col == 'fire': continue\n",
    "\n",
    "    sns.boxplot(data=df, x='fire', y=col, ax=axes[int((i-1)/3)][(i-1)%3])\n",
    "    "
   ]
  },
  {
   "cell_type": "markdown",
   "id": "c659ebbf",
   "metadata": {},
   "source": [
    "### Data Cleaning and Normalizing\n",
    "\n",
    "#Zhe Jing Chin\n"
   ]
  },
  {
   "cell_type": "code",
   "execution_count": 5,
   "id": "519169ac",
   "metadata": {},
   "outputs": [],
   "source": [
    "# cleaning process \n",
    "\n",
    "\n",
    "#to encode target\n",
    "dict_fire = {\n",
    "    'no' : 0,\n",
    "    'yes' : 1\n",
    "}\n",
    "df['encoded_fire'] = df['fire'].apply(lambda x : dict_fire[x])\n",
    "ori_df = df.copy()\n",
    "\n",
    "df = df.drop(['fire'], axis=1)\n",
    "target = 'encoded_fire'\n",
    "\n",
    "# normalize data\n",
    "x = df.drop(['encoded_fire'], axis=1).values #returns a numpy array\n",
    "min_max_scaler = preprocessing.MinMaxScaler()\n",
    "x_scaled = min_max_scaler.fit_transform(x)\n",
    "df_normalized = pd.DataFrame(x_scaled, columns=df.drop(['encoded_fire'], axis=1).columns)\n",
    "df_normalized['encoded_fire'] = df['encoded_fire']\n",
    "df = df_normalized.copy()"
   ]
  },
  {
   "cell_type": "markdown",
   "id": "385ba3cf",
   "metadata": {},
   "source": [
    "### Checking if the dataset is imbalanced\n",
    "\n",
    "#Zhe Jing Chin\n"
   ]
  },
  {
   "cell_type": "code",
   "execution_count": 6,
   "id": "9fe5a0c6",
   "metadata": {},
   "outputs": [
    {
     "data": {
      "text/plain": [
       "<AxesSubplot:>"
      ]
     },
     "execution_count": 6,
     "metadata": {},
     "output_type": "execute_result"
    },
    {
     "data": {
      "image/png": "[encoded data removed]",
      "text/plain": [
       "<Figure size 432x288 with 1 Axes>"
      ]
     },
     "metadata": {
      "needs_background": "light"
     },
     "output_type": "display_data"
    }
   ],
   "source": [
    "ori_df['fire'].value_counts().plot(kind = 'bar')\n",
    "#not imbalance"
   ]
  },
  {
   "cell_type": "markdown",
   "id": "85995266",
   "metadata": {},
   "source": [
    "## Split dataset to Train and Test set\n",
    "\n",
    "#Jiarong Li\n",
    "\n",
    "We applied a stratified-splitting over here by splitting the classes with a same distribution in both training and test set."
   ]
  },
  {
   "cell_type": "code",
   "execution_count": 7,
   "id": "85ab86a9",
   "metadata": {},
   "outputs": [],
   "source": [
    "# train_test_split\n",
    "def train_test_split(df, frac):\n",
    "    test_size = int(len(df) * frac)\n",
    "\n",
    "    size_class_a = int(test_size/2)\n",
    "    size_class_b = test_size-size_class_a\n",
    "\n",
    "    #to stratify-split both classes to test set\n",
    "    test_set_a = df[df[target]==1].sample(n = size_class_a, random_state = 10)\n",
    "    test_set_b = df[df[target]==0].sample(n = size_class_b, random_state = 10)\n",
    "    test_set = pd.concat([test_set_a, test_set_b], axis=0)#.reset_index(drop=True)\n",
    "\n",
    "    train_set = df[~df.index.isin(test_set.index.values)]#.reset_index(drop=True)\n",
    "    \n",
    "    return train_set, test_set\n",
    "\n",
    "train_set, test_set = train_test_split(df, 0.2)\n",
    "train_set, val_set = train_test_split(train_set, 0.15)\n",
    "# print(train_test_split(df))\n"
   ]
  },
  {
   "cell_type": "code",
   "execution_count": 8,
   "id": "34a053f5",
   "metadata": {},
   "outputs": [
    {
     "name": "stdout",
     "output_type": "stream",
     "text": [
      "(140, 10) (40, 10) (24, 10)\n"
     ]
    }
   ],
   "source": [
    "print(train_set.shape, test_set.shape, val_set.shape)"
   ]
  },
  {
   "cell_type": "markdown",
   "id": "c9ec7550",
   "metadata": {},
   "source": [
    "## Split Training set to K-fold for Cross Validation\n",
    "\n",
    "#Zhe Jing Chin\n",
    "\n",
    "We applied a stratified-splitting over here by splitting the classes with a same distribution in both training and test set."
   ]
  },
  {
   "cell_type": "code",
   "execution_count": 9,
   "id": "ea959a96",
   "metadata": {},
   "outputs": [],
   "source": [
    "def cross_validation_split(df, split=5):\n",
    "    fold_size = int(len(df)/split)\n",
    "    foldsize_class_a = int(fold_size/2)\n",
    "    foldsize_class_b = fold_size-foldsize_class_a\n",
    "\n",
    "    kfold_split = []\n",
    "    for i in range(split):\n",
    "        if i == split-1:\n",
    "            kfold_split.append(df)\n",
    "            return kfold_split\n",
    "        \n",
    "        #to stratify-split both classes to test set\n",
    "        foldtest_set_a = df[df[target]==1].sample(n = foldsize_class_a, random_state = 10)\n",
    "        foldtest_set_b = df[df[target]==0].sample(n = foldsize_class_b, random_state = 10)\n",
    "        foldtest_set = pd.concat([foldtest_set_a, foldtest_set_b], axis=0)\n",
    "        df = df[~df.index.isin(foldtest_set.index.values)]\n",
    "\n",
    "        # train_set = df[~df.index.isin(test_set.index.values)]\n",
    "        kfold_split.append(foldtest_set)\n",
    "                \n",
    "dfs = cross_validation_split(train_set, 5)"
   ]
  },
  {
   "cell_type": "markdown",
   "id": "f315a81e",
   "metadata": {},
   "source": [
    "## Custom Multilayer Perceptron Model\n",
    "\n",
    "with this model, user is able to define their desire:\n",
    "- epoch\n",
    "- learning rate\n",
    "- threshold\n",
    "- the number of hidden layers and the respective neuron in each layer"
   ]
  },
  {
   "cell_type": "code",
   "execution_count": 10,
   "id": "aeba3a09",
   "metadata": {},
   "outputs": [],
   "source": [
    "class CustomMLP:\n",
    "    #Zhe Jing Chin\n",
    "    def __init__(self, X_train, y_train, epoch=5, lr=1e-5, threshold=0.5, layer=[4,4]):\n",
    "        '''\n",
    "        lr: learning rate\n",
    "        threshold: to get the final class\n",
    "        layer: len(layer) <- number of hidden layers while element in layer indicates the number of neurons in each layer\n",
    "        X_train: features of training data\n",
    "        y_train: label of training data\n",
    "        '''\n",
    "        np.random.seed(10)\n",
    "        \n",
    "        self.Weights = []\n",
    "        self.Biases = []\n",
    "        \n",
    "        self.FF_Output = []\n",
    "        self.BP_Error = []\n",
    "        \n",
    "        self.loss = []\n",
    "        self.acc = []\n",
    "        \n",
    "        self.X = X_train\n",
    "        self.y = y_train\n",
    "        \n",
    "        self.lr = lr\n",
    "        self.epoch = epoch\n",
    "        self.threshold = threshold\n",
    "        \n",
    "        self.pred = []\n",
    "        \n",
    "        layer.insert(0, X_train.shape[1]) #add input layer\n",
    "        layer.append(1) #add output layer\n",
    "        for i in range(1, len(layer)):\n",
    "            if i == len(layer)-1:\n",
    "                #xavier for sigmoid\n",
    "                self.Weights.append(np.random.randn(layer[i-1]) * np.sqrt(1/layer[i-1]))\n",
    "            else:\n",
    "                #he for relu\n",
    "                self.Weights.append(np.random.randn(layer[i], layer[i-1]) * np.sqrt(2/layer[i-1]))\n",
    "            self.Biases.append(np.random.rand(layer[i]))\n",
    "            \n",
    "        self.hiddenLayer = layer[1:-1]\n",
    "    \n",
    "    #Jiarong Li\n",
    "    def sigmoid(self, x):\n",
    "        return 1 / (1 + np.exp(-x))\n",
    "\n",
    "    def deriv_sigmoid(self, x):\n",
    "        return self.sigmoid(x) * (1 - self.sigmoid(x))\n",
    "\n",
    "    def relu(self, x):\n",
    "        return np.maximum(0, x) #>0, x; <0, 0\n",
    "\n",
    "    def deriv_relu(self, x):\n",
    "        return np.heaviside(1, x) #>=0, 1; <0, 0\n",
    "    \n",
    "    #Jiarong Li\n",
    "    def feedforward(self, x):\n",
    "        self.FF_Output = []\n",
    "        \n",
    "        self.FF_Output.append(self.relu(np.dot(self.Weights[0], x) + self.Biases[0]))\n",
    "        \n",
    "        for i in range(1, len(self.hiddenLayer)):                                \n",
    "            self.FF_Output.append(self.relu(np.dot(self.Weights[i], self.FF_Output[i-1]) + self.Biases[i]))\n",
    "         \n",
    "        self.FF_Output.append(self.sigmoid(np.dot(self.Weights[len(self.FF_Output)], self.FF_Output[-1]) + self.Biases[len(self.FF_Output)]))\n",
    "        \n",
    "    #Jiarong Li    \n",
    "    def backpropagation_error(self, y):\n",
    "        #start from last to first layer\n",
    "        self.BP_Error = []\n",
    "        \n",
    "        z = self.FF_Output\n",
    "        self.BP_Error.append((z[-1] - y) * self.deriv_sigmoid(z[-1]))\n",
    "        \n",
    "        self.BP_Error.append(self.BP_Error[0][0]*self.Weights[-1] * self.deriv_relu(z[-2]))\n",
    "        \n",
    "        for i in range(1, len(z)-1): \n",
    "            self.BP_Error.append(np.dot(self.BP_Error[i], self.Weights[len(z)-1-i]) * self.deriv_relu(z[len(z)-2-i]))\n",
    "\n",
    "        #flip to [first layer, last layer]\n",
    "        self.BP_Error = np.flip(self.BP_Error, 0)\n",
    "     \n",
    "    #Zhe Jing Chin\n",
    "    def gradient_descent(self, x):\n",
    "        self.Weights[0] -= self.lr * np.kron(self.BP_Error[0], x).reshape(self.hiddenLayer[0], self.X.shape[1])\n",
    "        self.Biases[0] -= self.lr * self.BP_Error[0]\n",
    "        \n",
    "        for i in range(1, len(self.Weights)-1):\n",
    "            self.Weights[i] -= self.lr * np.kron(self.BP_Error[i], self.FF_Output[i-1]).reshape(self.hiddenLayer[i], self.hiddenLayer[i-1])\n",
    "            self.Biases[i] -= self.lr * self.BP_Error[i]\n",
    " \n",
    "        self.Weights[-1] -= self.lr * np.kron(self.BP_Error[-1], self.FF_Output[-2]).reshape(self.hiddenLayer[-1])\n",
    "        self.Biases[-1] -= self.lr * self.BP_Error[-1]\n",
    "\n",
    "    #Zhe Jing Chin\n",
    "    def Fit(self, ori_train, val, y_val):\n",
    "        val_acc = []\n",
    "        for e in range(self.epoch):\n",
    "            self.loss = []\n",
    "            pred = []\n",
    "            \n",
    "            for i in range(len(self.X)):\n",
    "                self.feedforward(self.X[i])\n",
    "                \n",
    "                self.loss.append((self.FF_Output[-1] - self.y[i]) ** 2)\n",
    "                pred.append(1 if self.FF_Output[-1] >= self.threshold else 0)\n",
    "\n",
    "                self.backpropagation_error(self.y[i])\n",
    "                self.gradient_descent(self.X[i])\n",
    "                \n",
    "            val_p, val_pp = self.Predict(val)\n",
    "            val_acc.append(self.getAccuracy(val_p, y_val))\n",
    "            \n",
    "            ori_train[f'loss_e{e+1}'] = [i[0] for i in self.loss]\n",
    "            ori_train[f'pred_e{e+1}'] = pred\n",
    "            \n",
    "        return ori_train, val_acc\n",
    "\n",
    "    #Zhe Jing Chin\n",
    "    def Predict(self, X_test):\n",
    "        pred = []\n",
    "        pred_prob = []\n",
    "        \n",
    "        for i in range(len(X_test)):\n",
    "            self.feedforward(X_test[i])\n",
    "            \n",
    "            pred_prob.append(self.FF_Output[-1])\n",
    "            pred.append(1 if self.FF_Output[-1] >= self.threshold else 0)\n",
    "            \n",
    "            accuracy = pred[i]\n",
    "            \n",
    "        return pred, pred_prob\n",
    "    \n",
    "    #Jiarong Li\n",
    "    def getAccuracy(self, pred, actual):\n",
    "        total = 0\n",
    "        actual = list(actual)\n",
    "        for i in range(len(actual)):\n",
    "            if pred[i] == actual[i]:\n",
    "                total += 1\n",
    "                \n",
    "        return total/len(actual)"
   ]
  },
  {
   "cell_type": "markdown",
   "id": "577bd11e",
   "metadata": {},
   "source": [
    "## To save the training and prediction output\n",
    "\n",
    "#Jiarong Li"
   ]
  },
  {
   "cell_type": "code",
   "execution_count": 11,
   "id": "cf29710c",
   "metadata": {},
   "outputs": [],
   "source": [
    "def saveTrainOutput(Results, fileName = 'train_results.txt'):\n",
    "    Results.to_csv(fileName, sep='\\t', index=False)\n",
    "    print(f\"successfully saved training results as {fileName}.\")\n",
    "    \n",
    "def saveTestOutput(Results, fileName = 'test_results.txt'):\n",
    "    Results.to_csv(fileName, sep='\\t', index=False)\n",
    "    print(f\"successfully saved testing results as {fileName}.\")\n",
    "\n",
    "def getOriginalDataset(train_set, test_set):\n",
    "\n",
    "    ori_train = ori_df[ori_df.index.isin(train_set.index.values)].reindex(train_set.index)\n",
    "    ori_test = ori_df[ori_df.index.isin(test_set.index.values)].reindex(test_set.index)\n",
    "    \n",
    "    return ori_train, ori_test\n",
    "\n"
   ]
  },
  {
   "cell_type": "markdown",
   "id": "f2f08e53",
   "metadata": {},
   "source": [
    "## To use the custom model\n",
    "\n",
    "*CustomMLP(X_train, y_train, epoch=10, lr=1e-5, threshold=0.5, layer=[2,6])*\n",
    "\n",
    "the code above is used to create the model by setting the following arguments:\n",
    "- features (X_train)\n",
    "- label (y_train)\n",
    "- epoch (default to 5)\n",
    "- learning rate (default to 1e-5)\n",
    "- threshold (default to 0.5)\n",
    "- layer (default to 2 hidden layers with 4 neurons in each layer)\n",
    "\n",
    "*model.Fit() <- is to train the data*\n",
    "\n",
    "*model.Predict(X_test) <- is to predict your data with the weights learnt in Fit()*\n",
    "\n",
    "*model.getAccuracy(model.Predict(X_test), y_test) <- is to show the accuracy of the model*\n"
   ]
  },
  {
   "cell_type": "markdown",
   "id": "761d2857",
   "metadata": {},
   "source": [
    "### Hyperparameters setting:\n",
    "\n",
    "\n",
    "We now standardise the learning rate, epoch, threshold and hidden layers size for all the trainings.\n",
    "\n",
    "Feel free to change it!\n"
   ]
  },
  {
   "cell_type": "code",
   "execution_count": 12,
   "id": "6a221385",
   "metadata": {},
   "outputs": [],
   "source": [
    "def setHyperParameters():\n",
    "    lr = 1e-1\n",
    "    epoch = 10\n",
    "    layer = [4,4]\n",
    "    threshold = 0.5\n",
    "    \n",
    "    return lr, epoch, layer, threshold\n"
   ]
  },
  {
   "cell_type": "markdown",
   "id": "0ada52e3",
   "metadata": {},
   "source": [
    "### Cross Validation on Custom Model\n",
    "\n",
    "Before we training the model, we run cross-validation to validate that the model is generalize enough on our dataset and not bias towards specific cases. \n"
   ]
  },
  {
   "cell_type": "code",
   "execution_count": 13,
   "id": "f71b1200",
   "metadata": {},
   "outputs": [
    {
     "name": "stdout",
     "output_type": "stream",
     "text": [
      "@ Fold1: loss = 0.12682026666473087\n",
      "        train accuracy = 0.8392857142857143\n",
      "            test accuracy = 0.7857142857142857\n",
      "            \n",
      "@ Fold2: loss = 0.14002674092113868\n",
      "        train accuracy = 0.8482142857142857\n",
      "            test accuracy = 0.8214285714285714\n",
      "            \n",
      "@ Fold3: loss = 0.14304865128957425\n",
      "        train accuracy = 0.8303571428571429\n",
      "            test accuracy = 0.8214285714285714\n",
      "            \n",
      "@ Fold4: loss = 0.14175883612055593\n",
      "        train accuracy = 0.8214285714285714\n",
      "            test accuracy = 0.8214285714285714\n",
      "            \n",
      "@ Fold5: loss = 0.1437480079754819\n",
      "        train accuracy = 0.8303571428571429\n",
      "            test accuracy = 0.8214285714285714\n",
      "            \n"
     ]
    }
   ],
   "source": [
    "#Jiarong Li\n",
    "def crossValidation(dataset):\n",
    "    for k, ktest in enumerate(dataset):\n",
    "        lr, epoch, layer, threshold = setHyperParameters()\n",
    "        \n",
    "        ktrain = train_set[~train_set.index.isin(ktest.index.values)]\n",
    "        ktest = ktest.sample(frac=1, random_state = 10)\n",
    "        \n",
    "        X_train, X_test = ktrain.drop(target, axis=1).to_numpy(), ktest.drop(target, axis=1).to_numpy()\n",
    "        y_train, y_test = ktrain[target].to_numpy(), ktest[target].to_numpy()\n",
    "        \n",
    "        ori_train, ori_test = getOriginalDataset(ktrain, ktest)\n",
    "        \n",
    "        model = CustomMLP(X_train, y_train, lr=lr, epoch=epoch, threshold=threshold, layer=layer) \n",
    "        model.Fit(ori_train, X_test, y_test)\n",
    "\n",
    "        train_pred, pred_prob = model.Predict(X_train)\n",
    "        test_pred, pred_prob = model.Predict(X_test)\n",
    "\n",
    "        print(f\"\"\"@ Fold{k+1}: loss = {np.mean(model.loss)}\n",
    "        train accuracy = {model.getAccuracy(train_pred, y_train)}\n",
    "            test accuracy = {model.getAccuracy(test_pred, y_test)}\n",
    "            \"\"\")\n",
    "    #     break\n",
    "    \n",
    "crossValidation(dfs)\n",
    "  "
   ]
  },
  {
   "cell_type": "code",
   "execution_count": 14,
   "id": "b9c5186e",
   "metadata": {},
   "outputs": [
    {
     "name": "stdout",
     "output_type": "stream",
     "text": [
      "Final Training @ loss = 0.13257844357379384\n",
      "train accuracy = 0.8357142857142857\n",
      "            test accuracy = 0.825\n",
      "            \n",
      "successfully saved training results as train_results.txt.\n",
      "successfully saved testing results as test_results.txt.\n"
     ]
    }
   ],
   "source": [
    "#JZhe Jing Chin \n",
    "lr, epoch, layer, threshold = setHyperParameters()\n",
    "\n",
    "test_set = test_set.sample(frac=1, random_state = 10)\n",
    "X_train, X_test, X_val = train_set.drop(target, axis=1).to_numpy(), test_set.drop(target, axis=1).to_numpy(), val_set.drop(target, axis=1).to_numpy()\n",
    "y_train, y_test, y_val = train_set[target].to_numpy(), test_set[target].to_numpy(), val_set[target].to_numpy()\n",
    "\n",
    "ori_train, ori_test = getOriginalDataset(train_set, test_set)\n",
    "\n",
    "model = CustomMLP(X_train, y_train, lr=lr, epoch=epoch, threshold=threshold, layer=layer) \n",
    "\n",
    "#use validation set to validate the model during the training process\n",
    "trainResults, CusMLP_val_acc = model.Fit(ori_train, X_val, y_val)\n",
    "\n",
    "train_pred, train_pred_prob = model.Predict(X_train)\n",
    "test_pred, test_pred_prob = model.Predict(X_test)\n",
    "ori_train['pred'] = train_pred\n",
    "ori_test['pred'] = test_pred\n",
    "ori_test['pred_prob'] = [i[0] for i in test_pred_prob]\n",
    "\n",
    "print(f\"\"\"Final Training @ loss = {np.mean(model.loss)}\n",
    "train accuracy = {model.getAccuracy(train_pred, y_train)}\n",
    "            test accuracy = {model.getAccuracy(test_pred, y_test)}\n",
    "            \"\"\")\n",
    "\n",
    "# print(train_pred)\n",
    "\n",
    "saveTrainOutput(trainResults)\n",
    "saveTestOutput(ori_test)"
   ]
  },
  {
   "cell_type": "markdown",
   "id": "541e4a48",
   "metadata": {},
   "source": [
    "#### side notes\n",
    "\n",
    "*test_acc <- is the mean accuracy of our test set in each epoch*"
   ]
  },
  {
   "cell_type": "markdown",
   "id": "42421a76",
   "metadata": {},
   "source": [
    "## Results Calculation\n",
    "\n",
    "## Training results\n",
    "\n",
    "In this section, we calculate the mean loss and mean average for each epoch"
   ]
  },
  {
   "cell_type": "code",
   "execution_count": 15,
   "id": "4ebe2beb",
   "metadata": {},
   "outputs": [],
   "source": [
    "#Jiarong Li\n",
    "\n",
    "train_results_txt = pd.read_csv('train_results.txt', delimiter = \"\\t\")\n",
    "train_results_txt.head()\n",
    "\n",
    "loss_e = [col for col in train_results_txt if col.startswith('loss_e')]\n",
    "pred_e = [col for col in train_results_txt if col.startswith('pred_e')]\n",
    "\n",
    "CusMLP_loss = []\n",
    "CusMLP_train_acc = []\n",
    "\n",
    "# train_mean = np.mean(train_scores, axis=1)\n",
    "\n",
    "for i in range(len(loss_e)):\n",
    "    CusMLP_loss.append(sum(list(train_results_txt[loss_e[i]])) / train_results_txt.shape[0])\n",
    "\n",
    "    pred = list(train_results_txt[pred_e[i]])\n",
    "    total = 0\n",
    "    actual = list(train_results_txt['encoded_fire'])\n",
    "    for i in range(len(actual)):\n",
    "        if pred[i] == actual[i]:\n",
    "            total += 1\n",
    "\n",
    "    CusMLP_train_acc.append(total/len(actual))\n",
    "\n"
   ]
  },
  {
   "cell_type": "markdown",
   "id": "1c8e71ab",
   "metadata": {},
   "source": [
    "## Testing results\n",
    "\n",
    "Confusion Matrix"
   ]
  },
  {
   "cell_type": "code",
   "execution_count": 16,
   "id": "a80d47a8",
   "metadata": {},
   "outputs": [],
   "source": [
    "#Zhe Jing Chin\n",
    "\n",
    "from sklearn.metrics import confusion_matrix\n",
    "\n",
    "test_results_txt = pd.read_csv('test_results.txt', delimiter = \"\\t\")\n",
    "test_results_txt.head()\n",
    "\n",
    "actual = list(test_results_txt['encoded_fire'])\n",
    "pred = list(test_results_txt['pred'])\n",
    "\n",
    "CusMLP_CM = confusion_matrix(actual, pred)\n",
    "\n",
    "CusMLP_ytest = np.array(actual)\n",
    "CusMLP_ypred_prob = np.array(list(test_results_txt['pred_prob']))"
   ]
  },
  {
   "cell_type": "markdown",
   "id": "ce1cddbe",
   "metadata": {},
   "source": [
    "#### Interpretation:\n",
    "\n",
    "*we tried with epoch 200 and smaller epoch, found out higher epoch might give us worse results, \n",
    "one of the reasons should be we could apply early stopping to stop the training if the loss started to increase.*\n",
    "\n",
    "*Early stopping is a form of regularization used to avoid overfitting when training \n",
    "a learner with an iterative method, such as gradient descent.*\n",
    "\n",
    "*After trial an error, 0.1 learning rate and 10 epoch are appropriate hyperparameters for our model but it's not the case for the built in MLP classifier from SKlearn*\n",
    "\n",
    "\n",
    "*same hyperparameters does not guarantee same results for different model.\n",
    "Applying \"no-free-lunch\" rule, there is no general model that suits every scenario.*\n",
    "\n"
   ]
  },
  {
   "cell_type": "markdown",
   "id": "4c35fefe",
   "metadata": {},
   "source": [
    "## MLP Classifier from SkLearn"
   ]
  },
  {
   "cell_type": "code",
   "execution_count": 17,
   "id": "b8bd0a9d",
   "metadata": {},
   "outputs": [
    {
     "name": "stdout",
     "output_type": "stream",
     "text": [
      "@ Fold1: loss = 0.7655420054428759\n",
      "        train accuracy = 0.45535714285714285\n",
      "            test accuracy = 0.5\n",
      "            \n",
      "@ Fold2: loss = 0.7725620416799225\n",
      "        train accuracy = 0.5446428571428571\n",
      "            test accuracy = 0.5\n",
      "            \n",
      "@ Fold3: loss = 0.7762311365975407\n",
      "        train accuracy = 0.5446428571428571\n",
      "            test accuracy = 0.5\n",
      "            \n",
      "@ Fold4: loss = 0.7620076812570222\n",
      "        train accuracy = 0.5446428571428571\n",
      "            test accuracy = 0.5\n",
      "            \n",
      "@ Fold5: loss = 0.7946487698646518\n",
      "        train accuracy = 0.5\n",
      "            test accuracy = 0.6785714285714286\n",
      "            \n",
      "Final Training @ loss = 0.7673741783061022\n",
      "        train accuracy = 0.5357142857142857\n",
      "            test accuracy = 0.5\n",
      "            \n"
     ]
    }
   ],
   "source": [
    "#Zhe Jing Chin\n",
    "\n",
    "from sklearn.neural_network import MLPClassifier\n",
    "\n",
    "for k, ktest in enumerate(dfs):\n",
    "    lr, epoch, layer, threshold = setHyperParameters()\n",
    "\n",
    "    ktrain = train_set[~train_set.index.isin(ktest.index.values)]\n",
    "    ktest = ktest.sample(frac=1, random_state = 10)\n",
    "\n",
    "    X_train, X_test = ktrain.drop(target, axis=1).to_numpy(), ktest.drop(target, axis=1).to_numpy()\n",
    "    y_train, y_test = ktrain[target].to_numpy(), ktest[target].to_numpy()\n",
    "    \n",
    "    clf = MLPClassifier(hidden_layer_sizes=tuple(layer), random_state=10, shuffle=False,\n",
    "                    max_iter = 10,\n",
    "                    solver='sgd', batch_size=1, learning_rate_init=lr)\n",
    "        \n",
    "    clf.fit(X_train, y_train)\n",
    "    \n",
    "    print(f\"\"\"@ Fold{k+1}: loss = {np.mean(clf.loss_curve_)}\n",
    "        train accuracy = {clf.score(X_train, y_train)}\n",
    "            test accuracy = {clf.score(X_test, y_test)}\n",
    "            \"\"\")\n",
    "\n",
    "test_set = test_set.sample(frac=1, random_state = 10)\n",
    "X_train, X_test, X_val = train_set.drop(target, axis=1).to_numpy(), test_set.drop(target, axis=1).to_numpy(), val_set.drop(target, axis=1).to_numpy()\n",
    "y_train, y_test, y_val = train_set[target].to_numpy(), test_set[target].to_numpy(), val_set[target].to_numpy()\n",
    "\n",
    "lr, epoch, layer, threshold = setHyperParameters()\n",
    "\n",
    "clf = MLPClassifier(hidden_layer_sizes=tuple(layer), random_state=10, shuffle=False,\n",
    "                    max_iter = 10,\n",
    "                    solver='sgd', batch_size=1, learning_rate_init=lr)\n",
    "clf.fit(X_train, y_train)\n",
    "# print(clf.predict(X_test))\n",
    "SkMLP_ypred_prob = clf.predict_proba(X_test)[::,1]\n",
    "SkMLP_ytest = y_test\n",
    "\n",
    "SkMLP_CM = confusion_matrix(clf.predict(X_test), y_test)\n",
    "\n",
    "print(f\"\"\"Final Training @ loss = {np.mean(clf.loss_curve_)}\n",
    "        train accuracy = {clf.score(X_train, y_train)}\n",
    "            test accuracy = {clf.score(X_test, y_test)}\n",
    "            \"\"\")"
   ]
  },
  {
   "cell_type": "markdown",
   "id": "3fa99b88",
   "metadata": {},
   "source": [
    "### Calculate learning curve for SKlearn MLP"
   ]
  },
  {
   "cell_type": "code",
   "execution_count": 18,
   "id": "54c6a28b",
   "metadata": {},
   "outputs": [],
   "source": [
    "#Jiarong Li\n",
    "\n",
    "from sklearn.model_selection import learning_curve\n",
    "\n",
    "train_sizes, train_scores, test_scores = learning_curve(clf, X=X_train, y=y_train, train_sizes=np.linspace(0.1, 1.0, 10))\n",
    "                                                        \n",
    "\n",
    "SkMLP_loss = clf.loss_curve_\n",
    "SkMLP_train_acc = np.mean(train_scores, axis=1)\n",
    "SkMLP_test_acc = np.mean(test_scores, axis=1)"
   ]
  },
  {
   "cell_type": "markdown",
   "id": "ac4b5082",
   "metadata": {},
   "source": [
    "### SKlearn MLP hyperparameters"
   ]
  },
  {
   "cell_type": "code",
   "execution_count": 19,
   "id": "7220e3d3",
   "metadata": {},
   "outputs": [
    {
     "data": {
      "text/plain": [
       "{'activation': 'relu',\n",
       " 'alpha': 0.0001,\n",
       " 'batch_size': 1,\n",
       " 'beta_1': 0.9,\n",
       " 'beta_2': 0.999,\n",
       " 'early_stopping': False,\n",
       " 'epsilon': 1e-08,\n",
       " 'hidden_layer_sizes': (4, 4),\n",
       " 'learning_rate': 'constant',\n",
       " 'learning_rate_init': 0.1,\n",
       " 'max_fun': 15000,\n",
       " 'max_iter': 10,\n",
       " 'momentum': 0.9,\n",
       " 'n_iter_no_change': 10,\n",
       " 'nesterovs_momentum': True,\n",
       " 'power_t': 0.5,\n",
       " 'random_state': 10,\n",
       " 'shuffle': False,\n",
       " 'solver': 'sgd',\n",
       " 'tol': 0.0001,\n",
       " 'validation_fraction': 0.1,\n",
       " 'verbose': False,\n",
       " 'warm_start': False}"
      ]
     },
     "execution_count": 19,
     "metadata": {},
     "output_type": "execute_result"
    }
   ],
   "source": [
    "clf.get_params()\n"
   ]
  },
  {
   "cell_type": "markdown",
   "id": "162686ab",
   "metadata": {},
   "source": [
    "## Plot Results"
   ]
  },
  {
   "cell_type": "code",
   "execution_count": 20,
   "id": "06c4e6e3",
   "metadata": {},
   "outputs": [
    {
     "data": {
      "image/png": "[encoded data removed]",
      "text/plain": [
       "<Figure size 720x360 with 4 Axes>"
      ]
     },
     "metadata": {
      "needs_background": "light"
     },
     "output_type": "display_data"
    }
   ],
   "source": [
    "#Zhe Jing Chin\n",
    "\n",
    "fig, axs = plt.subplots(2, 2, figsize=(10,5), constrained_layout=True)\n",
    "fig.suptitle('Custom VS. SKlearn Training Results', fontsize=16)\n",
    "\n",
    "#Plotting for loss curve\n",
    "axs[0, 0].plot(CusMLP_loss)\n",
    "axs[0, 0].set_title(\"Custom MLP\")\n",
    "axs[0, 1].plot(SkMLP_loss)\n",
    "axs[0, 1].set_title(\"SKlearn MLP\")\n",
    "axs[0, 0].set(ylabel='Average Loss')\n",
    "\n",
    "\n",
    "#Plotting for accuracy learning curve\n",
    "axs[1, 0].plot(CusMLP_train_acc, label='Train')\n",
    "axs[1, 0].plot(CusMLP_val_acc, label='Test')\n",
    "axs[1, 0].legend()\n",
    "\n",
    "axs[1, 1].plot(SkMLP_train_acc, label = \"Train\")\n",
    "axs[1, 1].plot(SkMLP_test_acc, label = \"Test\")\n",
    "axs[1, 1].legend()\n",
    "\n",
    "axs[1, 0].set(ylabel='Average Accuracy')\n",
    "axs[1, 0].set(xlabel='Epoch')\n",
    "axs[1, 1].set(xlabel='Epoch')\n",
    "\n",
    "    \n",
    "plt.show()\n",
    "\n"
   ]
  },
  {
   "cell_type": "code",
   "execution_count": 21,
   "id": "4403d420",
   "metadata": {},
   "outputs": [
    {
     "data": {
      "text/plain": [
       "Text(0.5, 1.0, 'SKlearn MLP')"
      ]
     },
     "execution_count": 21,
     "metadata": {},
     "output_type": "execute_result"
    },
    {
     "data": {
      "image/png": "[encoded data removed]",
      "text/plain": [
       "<Figure size 720x288 with 4 Axes>"
      ]
     },
     "metadata": {
      "needs_background": "light"
     },
     "output_type": "display_data"
    }
   ],
   "source": [
    "#Zhe Jing Chin\n",
    "\n",
    "fig, axes = plt.subplots(1, 2, figsize=(10, 4), constrained_layout=True)\n",
    "fig.suptitle('Custom VS. SKlearn Testing Results', fontsize=16)\n",
    "\n",
    "\n",
    "ax = sns.heatmap(CusMLP_CM, annot=True, ax=axes[0])\n",
    "ax.set(xlabel=\"Prediction\", ylabel=\"Actual\")\n",
    "ax.xaxis.set_label_position('top')\n",
    "ax.set_xticklabels(['no', 'yes'])\n",
    "ax.set_yticklabels(['no', 'yes'])\n",
    "ax.set_title(\"Custom MLP\")\n",
    "\n",
    "\n",
    "ax = sns.heatmap(SkMLP_CM, annot=True, ax=axes[1])\n",
    "ax.set(xlabel=\"Prediction\", ylabel=\"Actual\")\n",
    "ax.xaxis.set_label_position('top')\n",
    "ax.set_xticklabels(['no', 'yes'])\n",
    "ax.set_yticklabels(['no', 'yes'])\n",
    "ax.set_title(\"SKlearn MLP\")"
   ]
  },
  {
   "cell_type": "code",
   "execution_count": 22,
   "id": "c71ea813",
   "metadata": {},
   "outputs": [
    {
     "data": {
      "image/png": "[encoded data removed]",
      "text/plain": [
       "<Figure size 432x288 with 1 Axes>"
      ]
     },
     "metadata": {
      "needs_background": "light"
     },
     "output_type": "display_data"
    }
   ],
   "source": [
    "#Zhe Jing Chin\n",
    "\n",
    "from sklearn import metrics\n",
    "\n",
    "plt.suptitle('Custom VS. SKlearn AUC-ROC Curve', fontsize=16)\n",
    "\n",
    "SkMLP_fpr, SkMLP_tpr, _ = metrics.roc_curve(SkMLP_ytest,  SkMLP_ypred_prob)\n",
    "SkMLP_auc = metrics.roc_auc_score(SkMLP_ytest, SkMLP_ypred_prob)\n",
    "CusMLP_fpr, CusMLP_tpr, _ = metrics.roc_curve(CusMLP_ytest,  CusMLP_ypred_prob)\n",
    "CusMLP_auc = metrics.roc_auc_score(CusMLP_ytest, CusMLP_ypred_prob)\n",
    "\n",
    "#create ROC curve\n",
    "plt.plot(SkMLP_fpr,SkMLP_tpr,label=\"SKlearn AUC=\"+str(SkMLP_auc))\n",
    "plt.plot(CusMLP_fpr,CusMLP_tpr,label=\"Custom AUC=\"+str(round(CusMLP_auc, 3)))\n",
    "\n",
    "plt.ylabel('True Positive Rate')\n",
    "plt.xlabel('False Positive Rate')\n",
    "plt.legend(loc=4)\n",
    "plt.show()\n"
   ]
  }
 ],
 "metadata": {
  "kernelspec": {
   "display_name": "Python 3 (ipykernel)",
   "language": "python",
   "name": "python3"
  },
  "language_info": {
   "codemirror_mode": {
    "name": "ipython",
    "version": 3
   },
   "file_extension": ".py",
   "mimetype": "text/x-python",
   "name": "python",
   "nbconvert_exporter": "python",
   "pygments_lexer": "ipython3",
   "version": "3.9.10"
  }
 },
 "nbformat": 4,
 "nbformat_minor": 5
}
