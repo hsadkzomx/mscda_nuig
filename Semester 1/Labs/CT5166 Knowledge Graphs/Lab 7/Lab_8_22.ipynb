{
 "cells": [
  {
   "cell_type": "markdown",
   "metadata": {
    "id": "fSt-f47OVD9I"
   },
   "source": [
    "###**NAISC**\n",
    "\n",
    "In this lab, we will be working with the NAISC ontology alignment tool. This tool was developed at the Insight Centre for Data Analytics, NUI Galway."
   ]
  },
  {
   "cell_type": "markdown",
   "metadata": {
    "id": "J8ayHeHqVEKP"
   },
   "source": [
    "###**Installation**\n",
    "\n",
    "Naisc Installation\n",
    "\n",
    "1. Clone the repo to your system\n",
    "2. Download the jar file at https://github.com/insight-centre/naisc/releases/download/Ubuntu-latest/naisc-core-1.1-jar-with-dependencies.jar\n",
    "3. Place the above downloaded file at naisc-core/target/naisc-core-1.1-jar-with-dependencies.jar in the repository\n",
    "4. Download the jar file https://github.com/insight-centre/naisc/releases/download/Ubuntu-latest/naisc-meas-jar-with-dependencies.jar\n",
    "5. Place the above downloaded file at naisc-meas/target/naisc-meas-jar-with-dependencies.jar in the repository\n",
    "\n",
    "To setup the server run:\n",
    "1. cd naisc-meas/target/\n",
    "2. java -jar naisc-meas-jar-with-dependencies.jar\n",
    "\n",
    "Open http://localhost:8080 in your browser.\n",
    "\n",
    "A short tutorial on Naisc by Dr. McCrae: https://www.youtube.com/watch?v=maYEv8rG0_k\n",
    "\n"
   ]
  },
  {
   "cell_type": "markdown",
   "metadata": {
    "id": "fCi7YUrNVENG"
   },
   "source": [
    "###**Tasks**\n",
    "\n",
    "\n",
    "\n",
    "1. Choose the dataset \"kg_starwars_swg\" using the \"GET MORE DATASETS\" button.\n",
    "2. What is the difference when configuration is \"basic\" as opposed to \"Jaccard\"? Why do you think it happens?\n",
    "3. Compare the above results with the case when configuration is \"lcs\".\n",
    "4. Let's try using embedding based approaches here. Select embbeding based approach in the configuration and compare your results with the cases above.\n",
    "\n"
   ]
  },
  {
   "cell_type": "markdown",
   "metadata": {
    "id": "_WsOMvk9VEP_"
   },
   "source": []
  },
  {
   "cell_type": "markdown",
   "metadata": {
    "id": "2cmLXkj_VES6"
   },
   "source": []
  },
  {
   "cell_type": "markdown",
   "metadata": {
    "id": "c6nsxgGnVEVP"
   },
   "source": []
  }
 ],
 "metadata": {
  "colab": {
   "collapsed_sections": [],
   "provenance": []
  },
  "kernelspec": {
   "display_name": "Python 3 (ipykernel)",
   "language": "python",
   "name": "python3"
  },
  "language_info": {
   "codemirror_mode": {
    "name": "ipython",
    "version": 3
   },
   "file_extension": ".py",
   "mimetype": "text/x-python",
   "name": "python",
   "nbconvert_exporter": "python",
   "pygments_lexer": "ipython3",
   "version": "3.9.10"
  }
 },
 "nbformat": 4,
 "nbformat_minor": 1
}
