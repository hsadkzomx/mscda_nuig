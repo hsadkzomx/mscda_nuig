{
  "nbformat": 4,
  "nbformat_minor": 0,
  "metadata": {
    "colab": {
      "provenance": [],
      "collapsed_sections": []
    },
    "kernelspec": {
      "name": "python3",
      "display_name": "Python 3"
    },
    "language_info": {
      "name": "python"
    }
  },
  "cells": [
    {
      "cell_type": "markdown",
      "metadata": {
        "id": "fSt-f47OVD9I"
      },
      "source": [
        "###**NAISC**\n",
        "\n",
        "In this lab, we will be working with the NAISC ontology alignment tool. This tool was developed at the Insight Centre for Data Analytics, NUI Galway."
      ]
    },
    {
      "cell_type": "markdown",
      "metadata": {
        "id": "J8ayHeHqVEKP"
      },
      "source": [
        "###**Installation**\n",
        "\n",
        "Gradle Installation\n",
        "\n",
        "Linux Based systems:\n",
        "1.   Mac: brew install gradle\n",
        "2.   Ubuntu: sdk install gradle 7.0\n",
        "\n",
        "Windows:\n",
        "1. Create a new directory in the C drive named Gradle(C:\\Gradle)\n",
        "2. Download gradle using [this link](https://gradle.org/next-steps/?version=7.0&format=all). \n",
        "3. Unzip the dowloaded file.\n",
        "4. Move the unzipped gradle-7.0 folder to C:\\Gradle folder.\n",
        "5. Under System Variables select \"Path\", then click \"Edit\". Add an entry for C:\\Gradle\\gradle-7.0\\bin. Click \"OK\" to save.\n",
        "\n",
        "Test Gradle installation using: gradle -v\n",
        "\n",
        "1. git clone https://github.com/insight-centre/naisc\n",
        "2. cd naisc\n",
        "3. ./gradlew jarWithDeps\n",
        "4. ./gradlew meas\n",
        "\n",
        "Open http://localhost:8080 in your browser.\n",
        "\n",
        "A short tutorial on Naisc by Dr. McCrae: https://www.youtube.com/watch?v=maYEv8rG0_k\n",
        "\n"
      ]
    },
    {
      "cell_type": "markdown",
      "metadata": {
        "id": "fCi7YUrNVENG"
      },
      "source": [
        "###**Tasks**\n",
        "\n",
        "\n",
        "\n",
        "1. Choose the dataset \"kg_starwars_swg\" using the \"GET MORE DATASETS\" button.\n",
        "2. What is the difference when configuration is \"basic\" as opposed to \"Jaccard\"? Why do you think it happens?\n",
        "3. Compare the above results with the case when configuration is \"lcs\".\n",
        "4. Let's try using embedding based approaches here. Select embbeding based approach in the configuration and compare your results with the cases above.\n",
        "\n"
      ]
    },
    {
      "cell_type": "markdown",
      "metadata": {
        "id": "_WsOMvk9VEP_"
      },
      "source": []
    },
    {
      "cell_type": "markdown",
      "metadata": {
        "id": "2cmLXkj_VES6"
      },
      "source": []
    },
    {
      "cell_type": "markdown",
      "metadata": {
        "id": "c6nsxgGnVEVP"
      },
      "source": []
    }
  ]
}