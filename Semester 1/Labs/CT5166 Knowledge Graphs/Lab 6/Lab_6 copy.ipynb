{
 "cells": [
  {
   "cell_type": "markdown",
   "metadata": {
    "id": "Vl7FQDPxQRTj"
   },
   "source": [
    "In this lab, we will working on analysing a knowledge graph. We will also be implementing 2 different message passing algorithm."
   ]
  },
  {
   "cell_type": "markdown",
   "metadata": {
    "id": "6VRDKtVGQbQ-"
   },
   "source": [
    "We will load the opendialkg_triples.txt file. Each line of the file contains the (subject, predicte, object) separated by \"\\t\". We will begin with loading the file and constructing the knowledge graph using networkx python library."
   ]
  },
  {
   "cell_type": "markdown",
   "metadata": {
    "id": "IMbaEC6aQbYe"
   },
   "source": [
    "We will begin with installing the required dependencies."
   ]
  },
  {
   "cell_type": "code",
   "execution_count": null,
   "metadata": {
    "colab": {
     "base_uri": "https://localhost:8080/"
    },
    "id": "_GVYZEK-Qaa9",
    "outputId": "976f4f45-b9da-49e8-98f3-02e0925e5c93"
   },
   "outputs": [
    {
     "name": "stdout",
     "output_type": "stream",
     "text": [
      "Requirement already satisfied: networkx in /usr/local/lib/python3.7/dist-packages (2.6.3)\n",
      "Requirement already satisfied: numpy in /usr/local/lib/python3.7/dist-packages (1.21.5)\n"
     ]
    }
   ],
   "source": [
    "!pip3 install networkx\n",
    "!pip3 install numpy"
   ]
  },
  {
   "cell_type": "code",
   "execution_count": null,
   "metadata": {
    "colab": {
     "base_uri": "https://localhost:8080/"
    },
    "id": "zX47aI7HRXfC",
    "outputId": "5419d14e-7009-44d7-9b78-696aecd17d86"
   },
   "outputs": [
    {
     "name": "stdout",
     "output_type": "stream",
     "text": [
      "Mounted at /content/gdrive\n"
     ]
    }
   ],
   "source": [
    "from google.colab import drive\n",
    "drive.mount('/content/gdrive', force_remount=True)\n"
   ]
  },
  {
   "cell_type": "code",
   "execution_count": null,
   "metadata": {
    "id": "q7YgzRF5Rgx8"
   },
   "outputs": [],
   "source": [
    "# We will begin with constructing the networkx graph\n",
    "\n",
    "# Read the triples file\n",
    "\n",
    "import networkx as nx\n",
    "\n",
    "G = nx.DiGraph()\n",
    "\n",
    "edges = []\n",
    "edge_predicates = []\n",
    "for line in open(\"/content/gdrive/MyDrive/opendialkg_triples.txt\", \"r\"):\n",
    "  line = line[:-1].split(\"\\t\")\n",
    "  subject, predicate, object = line[0], line[1], line[2]\n",
    "  edges.append((subject, object))\n",
    "  edge_predicates.append(predicate)\n",
    "\n",
    "G.add_edges_from(edges)\n"
   ]
  },
  {
   "cell_type": "code",
   "execution_count": null,
   "metadata": {
    "colab": {
     "base_uri": "https://localhost:8080/"
    },
    "id": "oBhYPft7e2R3",
    "outputId": "c36ae17a-4085-4054-94be-13c56aa0a5e9"
   },
   "outputs": [
    {
     "name": "stdout",
     "output_type": "stream",
     "text": [
      "1190658\n",
      "1093796\n",
      "1190658\n"
     ]
    }
   ],
   "source": [
    "print(len(edges))\n",
    "print(len(set(edges)))\n",
    "print(len(edge_predicates))"
   ]
  },
  {
   "cell_type": "code",
   "execution_count": null,
   "metadata": {
    "id": "hfcsnMAcS3c9"
   },
   "outputs": [],
   "source": [
    "# We now have to add the predicate information to the edges in G. Complete the following function which should add the required edge predicates to the respective edges.\n",
    "\n",
    "def AddPredicatesToEdges(G, edge_predicates, edges):\n",
    "  i = 0\n",
    "  G1 = nx.DiGraph()\n",
    "  for (subject, object) in edges:\n",
    "    G1.add_edge(subject, object, predicate=edge_predicates[i])\n",
    "    i+=1\n",
    "  return G1\n",
    "\n",
    "G = AddPredicatesToEdges(G, edge_predicates, edges)\n"
   ]
  },
  {
   "cell_type": "code",
   "execution_count": null,
   "metadata": {
    "colab": {
     "base_uri": "https://localhost:8080/"
    },
    "id": "NUFV8UvUgDcw",
    "outputId": "ceaade56-fce9-40f5-f356-16c6c43dda4e"
   },
   "outputs": [
    {
     "name": "stdout",
     "output_type": "stream",
     "text": [
      "[('September 11 attacks', 'The Pentagon'), ('September 11 attacks', 'Shanksville'), ('September 11 attacks', 'Arlington County'), ('September 11 attacks', 'Manhattan'), ('September 11 attacks', 'New York City'), ('September 11 attacks', 'United 93'), ('September 11 attacks', 'Reign Over Me'), ('September 11 attacks', 'Loose Change'), ('September 11 attacks', 'Falling Man'), ('September 11 attacks', \"The Emperor's Children\")]\n",
      "[('September 11 attacks', 'The Pentagon', {'predicate': '~Damaged by disaster'}), ('September 11 attacks', 'Shanksville', {'predicate': 'Location(s)'}), ('September 11 attacks', 'Arlington County', {'predicate': 'Location(s)'}), ('September 11 attacks', 'Manhattan', {'predicate': 'Location(s)'}), ('September 11 attacks', 'New York City', {'predicate': 'Location(s)'}), ('September 11 attacks', 'United 93', {'predicate': '~Subject'}), ('September 11 attacks', 'Reign Over Me', {'predicate': '~Subject'}), ('September 11 attacks', 'Loose Change', {'predicate': '~Subject'}), ('September 11 attacks', 'Falling Man', {'predicate': '~Subject'}), ('September 11 attacks', \"The Emperor's Children\", {'predicate': '~Subject'})]\n",
      "True\n"
     ]
    }
   ],
   "source": [
    "print(list(G.edges())[:10])\n",
    "print(list(G1.edges(data=True))[:10])\n",
    "print(len(G.edges())==len(G1.edges()))"
   ]
  },
  {
   "cell_type": "markdown",
   "metadata": {
    "id": "LWRmKQ8Bw4Fn"
   },
   "source": [
    "# Complete the following:\n",
    "1. Plot the distribution of the number of outgoing edges of a node.\n",
    "2. Plot the distribution of the number of incoming edges of a node.\n",
    "3. Find the top-10 nodes with the highest number of incoming and outgoing edges.\n",
    "4. Run Pagerank algorithm over G and list the top-10 nodes according to the pagerank scores.\n"
   ]
  },
  {
   "cell_type": "code",
   "execution_count": null,
   "metadata": {
    "id": "Q7_BgomOa3LZ"
   },
   "outputs": [],
   "source": [
    "# As you have read that Knowledge Graphs are generally incomplete. This means that some of the entities in the graph will have a high number of neighbors, while some may have few neighbors. \n",
    "# Nodes with high number of neighbors tend to be dense in factual information, while there is very limited information about nodes with a few neighbors.\n",
    "# In the following two exercises, we will plot a distribution of the number of outgoing and incoming edges of nodes in the graph.\n",
    "\n",
    "# To do the first exercise, you will need to compute the number of outgoing edges of every node in the graph.\n",
    "# Following this, you would need to compute the binned histogram of the number of nodes of the graph.\n",
    "# Complete the following function to display the plot."
   ]
  },
  {
   "cell_type": "code",
   "execution_count": null,
   "metadata": {
    "colab": {
     "base_uri": "https://localhost:8080/",
     "height": 265
    },
    "id": "pr8lMzWPb0L2",
    "outputId": "12bd034f-55e5-46ec-bbcd-db7c8311a8f0"
   },
   "outputs": [
    {
     "data": {
      "image/png": "[encoded data removed]",
      "text/plain": [
       "<Figure size 432x288 with 1 Axes>"
      ]
     },
     "metadata": {
      "needs_background": "light"
     },
     "output_type": "display_data"
    }
   ],
   "source": [
    "import matplotlib.pyplot as plt\n",
    "\n",
    "def PlotOutgoingEdgesDistribution(G):\n",
    "  numberOfOutGoingEdges = []\n",
    "  for node in G.nodes():\n",
    "    # 1. Get the list of all the outgoing edges of the node in the graph.\n",
    "    outgoingEdges = G.out_edges(node)\n",
    "    numOutgoingEdges = len(outgoingEdges)\n",
    "    # 2. Find the number of outgoing edges of the node in the graph\n",
    "    if (numOutgoingEdges)>1000:\n",
    "      continue\n",
    "    # numOutgoingEdges = len(outgoingEdges)\n",
    "    numberOfOutGoingEdges.append(numOutgoingEdges)\n",
    "\n",
    "  # We will plot the distribution of the number of outgoing edges of nodes in the graph.\n",
    "  # Use matplotlib to plot a histogram of the distribution and set the number of bins to 100.\n",
    "\n",
    "  # Replace this commented line with the code of plotting the histrogram.\n",
    "  plt.hist(numberOfOutGoingEdges, density=True, bins=100)\n",
    "  plt.xlim(0, 1000)\n",
    "  plt.show()\n",
    "  return None\n",
    "  \n",
    "PlotOutgoingEdgesDistribution(G)\n",
    "\n"
   ]
  },
  {
   "cell_type": "code",
   "execution_count": null,
   "metadata": {
    "colab": {
     "base_uri": "https://localhost:8080/",
     "height": 265
    },
    "id": "d5726GV0d-qS",
    "outputId": "2cac4644-4a88-4f94-96dd-6d375e8fda64"
   },
   "outputs": [
    {
     "data": {
      "image/png": "[encoded data removed]",
      "text/plain": [
       "<Figure size 432x288 with 1 Axes>"
      ]
     },
     "metadata": {
      "needs_background": "light"
     },
     "output_type": "display_data"
    }
   ],
   "source": [
    "# Similarly Complete the following function to plot the distribution of the number of incoming edges of nodes in the graph.\n",
    "def PlotIncomingEdgesDistribution(G):\n",
    "  numberOfOutGoingEdges = []\n",
    "  for node in G.nodes():\n",
    "    # 1. Get the list of all the outgoing edges of the node in the graph.\n",
    "    outgoingEdges = G.in_edges(node)\n",
    "    numOutgoingEdges = len(outgoingEdges)\n",
    "    # 2. Find the number of outgoing edges of the node in the graph\n",
    "    if (numOutgoingEdges)>1000:\n",
    "      continue\n",
    "    # numOutgoingEdges = len(outgoingEdges)\n",
    "    numberOfOutGoingEdges.append(numOutgoingEdges)\n",
    "\n",
    "  # We will plot the distribution of the number of outgoing edges of nodes in the graph.\n",
    "  # Use matplotlib to plot a histogram of the distribution and set the number of bins to 100.\n",
    "\n",
    "  # Replace this commented line with the code of plotting the histrogram.\n",
    "  plt.hist(numberOfOutGoingEdges, density=True, bins=10)\n",
    "  plt.xlim(0, 1000)\n",
    "  plt.show()\n",
    "  return None\n",
    "  \n",
    "PlotIncomingEdgesDistribution(G)"
   ]
  },
  {
   "cell_type": "code",
   "execution_count": null,
   "metadata": {
    "id": "KazT3EwDewu2"
   },
   "outputs": [],
   "source": [
    "# Once you have plotted the number of nodes in the graph, we would want to identify the most important nodes in the graph.\n",
    "# 1. Compute the set of top-10 nodes with the highest number of outgoing edegs.\n",
    "# 2. Compute the set of top-10 nodes with the highest number of incoming edges.\n",
    "# 3. Display both the sets.\n",
    "# 4. Compute the set of nodes that belong to both the sets."
   ]
  },
  {
   "cell_type": "code",
   "execution_count": null,
   "metadata": {
    "colab": {
     "base_uri": "https://localhost:8080/"
    },
    "id": "juOxVMnjnX8W",
    "outputId": "d770f366-51ca-473a-9657-6a7fb477df2a"
   },
   "outputs": [
    {
     "name": "stdout",
     "output_type": "stream",
     "text": [
      "[('United States of America', 21075), ('Male', 16656), ('English', 12239), ('English Language', 7856), ('Author', 7838), ('Actor', 7779), ('Writer', 7018), ('Northern Hemisphere', 5276), ('Artist', 5097), ('Female', 4787)]\n"
     ]
    }
   ],
   "source": [
    "def TopKOutdegree(G, k=10):\n",
    "  node_od = []\n",
    "  for node in G.nodes():\n",
    "    outDegree = G.out_degree(node)\n",
    "    node_od.append((node, outDegree))\n",
    "  node_od = sorted(node_od, key=lambda element:element[1], reverse=True)\n",
    "  print(node_od[:k])\n",
    "\n",
    "TopKOutdegree(G, 10)"
   ]
  },
  {
   "cell_type": "code",
   "execution_count": null,
   "metadata": {
    "colab": {
     "base_uri": "https://localhost:8080/"
    },
    "id": "6EXt3cGWoZTu",
    "outputId": "5a6b5078-c6b8-40da-ed6b-a59c0207cb7b"
   },
   "outputs": [
    {
     "name": "stdout",
     "output_type": "stream",
     "text": [
      "[('United States of America', 21075), ('Male', 16656), ('English', 12239), ('English Language', 7856), ('Author', 7838), ('Actor', 7779), ('Writer', 7018), ('Northern Hemisphere', 5276), ('Artist', 5097), ('Female', 4787)]\n"
     ]
    }
   ],
   "source": [
    "def TopKIndegree(G, k=10):\n",
    "  node_od = []\n",
    "  for node in G.nodes():\n",
    "    outDegree = G.in_degree(node)\n",
    "    node_od.append((node, outDegree))\n",
    "  node_od = sorted(node_od, key=lambda element:element[1], reverse=True)\n",
    "  print(node_od[:k])\n",
    "\n",
    "TopKIndegree(G, 10)"
   ]
  },
  {
   "cell_type": "code",
   "execution_count": null,
   "metadata": {
    "colab": {
     "base_uri": "https://localhost:8080/"
    },
    "id": "DZ1yb67dgkmF",
    "outputId": "7062bc10-5d66-4cee-e3a9-f1327ccfebfd"
   },
   "outputs": [
    {
     "name": "stdout",
     "output_type": "stream",
     "text": [
      "[('English', 0.004538434994418519), ('United States of America', 0.004040890936810153), ('London', 0.00384279107860357), ('Male', 0.0038032047622298974), ('Brooklyn', 0.002459028725268893), ('Author', 0.0016988328942617239), ('Philadelphia', 0.0014193126401622041), ('Actor', 0.0014033259933570912), ('English Language', 0.0013635975937272362), ('Writer', 0.0013561289980928348)]\n"
     ]
    }
   ],
   "source": [
    "# We will now try to identify the most important nodes in the graph according to the PageRank algorithm\n",
    "from networkx.algorithms.link_analysis.pagerank_alg import pagerank\n",
    "def ImportantNodesPageRank(G):\n",
    "  # Compute the pagerank values of the nodes in the graph using the pagerank algorithm impleted in networkx.\n",
    "  pagerankScores = pagerank(G, alpha=0.25)\n",
    "  pagerankScores = list(pagerankScores.items())\n",
    "  node_pagerank = sorted(pagerankScores, key=lambda element:element[1], reverse=True)\n",
    "  # Find and display the top-10 nodes with the highest pagerank scores.\n",
    "  print(node_pagerank[:10])\n",
    "  return None\n",
    "ImportantNodesPageRank(G)"
   ]
  },
  {
   "cell_type": "markdown",
   "metadata": {
    "id": "L-VLdObFUOhf"
   },
   "source": [
    "Graph Convolutional Network in vector form is given as :\n",
    "\n",
    "![Screenshot 2022-02-13 at 13.49.14.png](data:image/png;base64,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)"
   ]
  },
  {
   "cell_type": "markdown",
   "metadata": {
    "id": "e2KOOUrKWYtn"
   },
   "source": [
    "We will be implementing GCN using NetworkX and Numpy."
   ]
  },
  {
   "cell_type": "code",
   "execution_count": null,
   "metadata": {
    "id": "i2vhSdhaTx27"
   },
   "outputs": [],
   "source": [
    "# 1. Define a graph with the the following edges: (0, 1), (1, 2), (1, 3), (3, 4), (4, 2), (4, 0)\n",
    "# 2. Define the vector embeddings for the nodes in the graph.\n",
    "# 3. Define and implement the GCN layer.\n",
    "# 4. Update the embedding of the node after applying the GCN layer to the graph."
   ]
  },
  {
   "cell_type": "code",
   "execution_count": null,
   "metadata": {
    "id": "4MkUmrv3g9GO"
   },
   "outputs": [],
   "source": [
    "# 1. Define a graph with the the following edges: (0, 1), (1, 2), (1, 3), (3, 4), (4, 2), (4, 0)\n",
    "# Create an Adjacency matrix to display the above graph.\n",
    "\n",
    "from networkx.convert_matrix import to_numpy_matrix\n",
    "G = nx.DiGraph()\n",
    "edges = [(0, 1), (1, 2), (1, 3), (3, 4), (4, 2), (4, 0)]\n",
    "\n",
    "G.add_edges_from(edges)\n",
    "adjMatrix = to_numpy_matrix(G)"
   ]
  },
  {
   "cell_type": "code",
   "execution_count": null,
   "metadata": {
    "id": "TQd2JsIrjRjF"
   },
   "outputs": [],
   "source": [
    "# 2. We will initialise each node with a random vector of size \n",
    "\n",
    "import numpy as np\n",
    "\n",
    "nodeEmb = np.random.rand(len(G.nodes()), 20)"
   ]
  },
  {
   "cell_type": "code",
   "execution_count": null,
   "metadata": {
    "id": "tcHOup3VkFcJ"
   },
   "outputs": [],
   "source": [
    "# We will implemennt one layer of GCN. The GCN layer will be a class with the weight matrix as a property of the class.\n",
    "#  We will assume that the sigma function is Identity in our case and c_ij is a constant.\n",
    "class GCNLayer():\n",
    "  def __init__(self, G, dim, c):\n",
    "    self.W = np.random.rand(dim, dim)\n",
    "    self.dim = dim\n",
    "    self.c = c\n",
    "  \n",
    "  def forward(self, G, nodeEmb):\n",
    "    # Do something\n",
    "    for node in G.nodes():\n",
    "      # Do Something\n",
    "      for neighbor in G.in_edges(node):\n",
    "        # Do Something\n",
    "      \n",
    "    return updated_embeddings\n"
   ]
  },
  {
   "cell_type": "code",
   "execution_count": null,
   "metadata": {
    "id": "53BNU6fRdf1E"
   },
   "outputs": [],
   "source": []
  },
  {
   "cell_type": "code",
   "execution_count": null,
   "metadata": {
    "id": "86bOfVXPp7Gw"
   },
   "outputs": [],
   "source": []
  }
 ],
 "metadata": {
  "colab": {
   "collapsed_sections": [],
   "provenance": []
  },
  "kernelspec": {
   "display_name": "Python 3 (ipykernel)",
   "language": "python",
   "name": "python3"
  },
  "language_info": {
   "codemirror_mode": {
    "name": "ipython",
    "version": 3
   },
   "file_extension": ".py",
   "mimetype": "text/x-python",
   "name": "python",
   "nbconvert_exporter": "python",
   "pygments_lexer": "ipython3",
   "version": "3.9.10"
  }
 },
 "nbformat": 4,
 "nbformat_minor": 1
}
