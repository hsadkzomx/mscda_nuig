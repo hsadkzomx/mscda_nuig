{
  "nbformat": 4,
  "nbformat_minor": 0,
  "metadata": {
    "colab": {
      "provenance": [],
      "collapsed_sections": []
    },
    "kernelspec": {
      "name": "python3",
      "display_name": "Python 3"
    },
    "language_info": {
      "name": "python"
    }
  },
  "cells": [
    {
      "cell_type": "markdown",
      "source": [
        "Task 1: Describe the scenarios where the following graphs might be useful:\n",
        "1. Homogeneous graphs\n",
        "2. Heterogeneous graphs\n",
        "3. Property Graphs\n",
        "\n",
        "Explain why these are necessary and what you can model using these graphs."
      ],
      "metadata": {
        "id": "kfpjWnyfe938"
      }
    },
    {
      "cell_type": "code",
      "source": [],
      "metadata": {
        "id": "UXuiZ7A2NJgu"
      },
      "execution_count": null,
      "outputs": []
    },
    {
      "cell_type": "markdown",
      "source": [
        "Task 2: Alice and Bob know each other. They both work for a company named Fictional Dynamics. Bob also knows Charlie. Charlie works for a company named Actual Dynamics. Charlie knows his colleague Dave. Alice is a female. Bob, Charlie and Dave are men. Bob was born on 01-­‐‑01-­‐‑1990. Both Bob and Charlie have a monthly salary of 10,000. Alice’s full name is “Alice Smith” and Bob’s full name is “Bob Wilson”. Homepages for all four persons (Alice, Bob, Charlie, and Dave) are accessible at http://www.fictionaldynamics.com/alice http://www.fictionaldynamics.com/bob http://www.actualdynamics.com/charlie and http://www.actualdynamics.com/dave respectively."
      ],
      "metadata": {
        "id": "QfFr60jlfEfu"
      }
    },
    {
      "cell_type": "markdown",
      "source": [
        "1. Draw a graphical representation of extracted triples\n",
        "2. Introduce prefixes to the triples.\n",
        "3. Extract the rdf representation of the triples from the above text\n"
      ],
      "metadata": {
        "id": "ZCnFF4FPfYlF"
      }
    },
    {
      "cell_type": "markdown",
      "source": [
        "Task 3: Consider a scenario of a data model which requires to preserve order within a graph. You are required to\n",
        "\t- Draw an RDF graph representation using RDF collections for ordered lists (rdf:rest, rdf:first and rdf:nil) for your own scenario."
      ],
      "metadata": {
        "id": "UIb1vRkJfvng"
      }
    },
    {
      "cell_type": "code",
      "source": [],
      "metadata": {
        "id": "MVD9etEIfD2P"
      },
      "execution_count": null,
      "outputs": []
    }
  ]
}