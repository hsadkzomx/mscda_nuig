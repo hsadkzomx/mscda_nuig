{
 "cells": [
  {
   "cell_type": "code",
   "execution_count": null,
   "metadata": {
    "id": "UKcBRDf_n6xa"
   },
   "outputs": [],
   "source": []
  },
  {
   "cell_type": "markdown",
   "metadata": {
    "id": "dXbTnID48hk5"
   },
   "source": [
    "## In this lab, we will explore how to work with RDF files in Python3 as well as using open source software Protégé. We will:\n",
    "\n",
    "\n",
    "1. Install python3 module rdflib for working with rdf in python3.\n",
    "2. Load rdf file from the disk and internet using rdflib.\n",
    "3. Add new triples to the loaded rdf file.\n",
    "4. Convert the rdf file to different formats.\n",
    "5. Installation of Protégé on our systems.\n",
    "7. Load the rdf files on Protégé.  \n"
   ]
  },
  {
   "cell_type": "code",
   "execution_count": 1,
   "metadata": {
    "colab": {
     "base_uri": "https://localhost:8080/"
    },
    "id": "iH2Mng8t8llh",
    "outputId": "90d20a5e-e424-4b3d-e6db-e93668bf8bc8"
   },
   "outputs": [
    {
     "name": "stdout",
     "output_type": "stream",
     "text": [
      "Collecting rdflib\n",
      "  Downloading rdflib-6.2.0-py3-none-any.whl (500 kB)\n",
      "\u001b[2K     \u001b[90m━━━━━━━━━━━━━━━━━━━━━━━━━━━━━━━━━━━━━━━\u001b[0m \u001b[32m500.3/500.3 KB\u001b[0m \u001b[31m5.9 MB/s\u001b[0m eta \u001b[36m0:00:00\u001b[0m00:01\u001b[0m00:01\u001b[0m\n",
      "\u001b[?25hRequirement already satisfied: pyparsing in /opt/homebrew/Caskroom/miniforge/base/lib/python3.9/site-packages (from rdflib) (3.0.4)\n",
      "Collecting isodate\n",
      "  Downloading isodate-0.6.1-py2.py3-none-any.whl (41 kB)\n",
      "\u001b[2K     \u001b[90m━━━━━━━━━━━━━━━━━━━━━━━━━━━━━━━━━━━━━━━━\u001b[0m \u001b[32m41.7/41.7 KB\u001b[0m \u001b[31m1.4 MB/s\u001b[0m eta \u001b[36m0:00:00\u001b[0m\n",
      "\u001b[?25hRequirement already satisfied: setuptools in /opt/homebrew/Caskroom/miniforge/base/lib/python3.9/site-packages (from rdflib) (60.8.1)\n",
      "Requirement already satisfied: six in /opt/homebrew/Caskroom/miniforge/base/lib/python3.9/site-packages (from isodate->rdflib) (1.16.0)\n",
      "Installing collected packages: isodate, rdflib\n",
      "Successfully installed isodate-0.6.1 rdflib-6.2.0\n",
      "Collecting rdflib-jsonld\n",
      "  Downloading rdflib_jsonld-0.6.2-py2.py3-none-any.whl (4.0 kB)\n",
      "Requirement already satisfied: rdflib>=5.0.0 in /opt/homebrew/Caskroom/miniforge/base/lib/python3.9/site-packages (from rdflib-jsonld) (6.2.0)\n",
      "Requirement already satisfied: setuptools in /opt/homebrew/Caskroom/miniforge/base/lib/python3.9/site-packages (from rdflib>=5.0.0->rdflib-jsonld) (60.8.1)\n",
      "Requirement already satisfied: pyparsing in /opt/homebrew/Caskroom/miniforge/base/lib/python3.9/site-packages (from rdflib>=5.0.0->rdflib-jsonld) (3.0.4)\n",
      "Requirement already satisfied: isodate in /opt/homebrew/Caskroom/miniforge/base/lib/python3.9/site-packages (from rdflib>=5.0.0->rdflib-jsonld) (0.6.1)\n",
      "Requirement already satisfied: six in /opt/homebrew/Caskroom/miniforge/base/lib/python3.9/site-packages (from isodate->rdflib>=5.0.0->rdflib-jsonld) (1.16.0)\n",
      "Installing collected packages: rdflib-jsonld\n",
      "Successfully installed rdflib-jsonld-0.6.2\n",
      "Collecting sparqlwrapper\n",
      "  Downloading SPARQLWrapper-2.0.0-py3-none-any.whl (28 kB)\n",
      "Requirement already satisfied: rdflib>=6.1.1 in /opt/homebrew/Caskroom/miniforge/base/lib/python3.9/site-packages (from sparqlwrapper) (6.2.0)\n",
      "Requirement already satisfied: setuptools in /opt/homebrew/Caskroom/miniforge/base/lib/python3.9/site-packages (from rdflib>=6.1.1->sparqlwrapper) (60.8.1)\n",
      "Requirement already satisfied: isodate in /opt/homebrew/Caskroom/miniforge/base/lib/python3.9/site-packages (from rdflib>=6.1.1->sparqlwrapper) (0.6.1)\n",
      "Requirement already satisfied: pyparsing in /opt/homebrew/Caskroom/miniforge/base/lib/python3.9/site-packages (from rdflib>=6.1.1->sparqlwrapper) (3.0.4)\n",
      "Requirement already satisfied: six in /opt/homebrew/Caskroom/miniforge/base/lib/python3.9/site-packages (from isodate->rdflib>=6.1.1->sparqlwrapper) (1.16.0)\n",
      "Installing collected packages: sparqlwrapper\n",
      "Successfully installed sparqlwrapper-2.0.0\n"
     ]
    }
   ],
   "source": [
    "# Install rdfllib on this colab file.\n",
    "!pip3 install rdflib\n",
    "!pip3 install rdflib-jsonld\n",
    "!pip3 install sparqlwrapper"
   ]
  },
  {
   "cell_type": "markdown",
   "metadata": {
    "id": "XZ8F6tNW8i1V"
   },
   "source": [
    "## Load rdf file from the disk and internet using rdflib."
   ]
  },
  {
   "cell_type": "markdown",
   "metadata": {
    "id": "vRyxv0X18i-7"
   },
   "source": [
    "To load a file from the google drive in colab, we would need to:\n",
    "\n",
    "1.   Mount our respective disk space.\n",
    "2.   Load the file in python\n",
    "\n"
   ]
  },
  {
   "cell_type": "code",
   "execution_count": null,
   "metadata": {
    "colab": {
     "base_uri": "https://localhost:8080/"
    },
    "id": "J6no3_AV8vPm",
    "outputId": "4a505199-e0b1-4239-f88b-97e46ad2ab39"
   },
   "outputs": [],
   "source": [
    "from google.colab import drive\n",
    "drive.mount('/content/gdrive', force_remount=True)\n"
   ]
  },
  {
   "cell_type": "markdown",
   "metadata": {
    "id": "o1R6Q3C18jDp"
   },
   "source": [
    "# Go the folder where you have uploaded the data file. Ideally, go to your google drive, make a folder \"Colab Notebooks/LD_Lab_3\" and put the rdf file in it."
   ]
  },
  {
   "cell_type": "code",
   "execution_count": 55,
   "metadata": {
    "colab": {
     "base_uri": "https://localhost:8080/"
    },
    "id": "RawAFrA887S0",
    "outputId": "5a3248c2-eebb-4d34-db99-6423c1d017d0"
   },
   "outputs": [
    {
     "data": {
      "text/plain": [
       "<Graph identifier=N2475e57fc04c4275abe84f9be20a9e85 (<class 'rdflib.graph.Graph'>)>"
      ]
     },
     "execution_count": 55,
     "metadata": {},
     "output_type": "execute_result"
    }
   ],
   "source": [
    "#Now that we have the colab file and data in place, we will load the file.\n",
    "\n",
    "# In the lines below, write the code to load a rdf file \"Sharknado.rdf\" using rdflib.\n",
    "\n",
    "from rdflib import Graph, plugin\n",
    "from SPARQLWrapper import SPARQLWrapper\n",
    "from rdflib.serializer import Serializer\n",
    "\n",
    "g = Graph()\n",
    "g.parse(\"Sharknado.rdf\", format=\"n3\")"
   ]
  },
  {
   "cell_type": "code",
   "execution_count": 5,
   "metadata": {
    "colab": {
     "base_uri": "https://localhost:8080/"
    },
    "id": "VbYbe4hy89r5",
    "outputId": "3937d5c5-828e-4cb1-d13d-bcd5b83e8264"
   },
   "outputs": [
    {
     "name": "stdout",
     "output_type": "stream",
     "text": [
      "http://ex.org/Sharknado --- http://ex.org/stars ---> http://ex.org/IanZiering\n",
      "http://ex.org/Sharknado --- http://ex.org/title ---> Sharknado\n",
      "http://ex.org/Sharknado --- http://ex.org/firstAired ---> 2013-07-11\n",
      "http://ex.org/Sharknado --- http://ex.org/stars ---> http://ex.org/JohnHeard\n",
      "http://ex.org/Sharknado --- http://www.w3.org/1999/02/22-rdf-syntax-ns#type ---> http://ex.org/Movie\n",
      "graph has 5 statements.\n"
     ]
    }
   ],
   "source": [
    "# Print all the triples present in the file\n",
    "for subj, pred, obj in g:\n",
    "    # check if there is at least one triple in the Graph\n",
    "    print(str(subj)+\" --- \"+str(pred)+\" ---> \"+str(obj))\n",
    "print(\"graph has {} statements.\".format(len(g)))"
   ]
  },
  {
   "cell_type": "code",
   "execution_count": 6,
   "metadata": {
    "colab": {
     "base_uri": "https://localhost:8080/"
    },
    "id": "4CtJZwV68-Y5",
    "outputId": "f381e78b-30f8-4ad5-cafc-2765a656ff94"
   },
   "outputs": [
    {
     "name": "stdout",
     "output_type": "stream",
     "text": [
      "@prefix ex: <http://ex.org/> .\n",
      "@prefix xsd: <http://www.w3.org/2001/XMLSchema#> .\n",
      "\n",
      "ex:Sharknado a ex:Movie ;\n",
      "    ex:firstAired \"2013-07-11\"^^xsd:date ;\n",
      "    ex:stars ex:IanZiering,\n",
      "        ex:JohnHeard ;\n",
      "    ex:title \"Sharknado\"@en .\n",
      "\n",
      "\n",
      "<http://ex.org/Sharknado> <http://ex.org/stars> <http://ex.org/IanZiering> .\n",
      "<http://ex.org/Sharknado> <http://ex.org/title> \"Sharknado\"@en .\n",
      "<http://ex.org/Sharknado> <http://ex.org/firstAired> \"2013-07-11\"^^<http://www.w3.org/2001/XMLSchema#date> .\n",
      "<http://ex.org/Sharknado> <http://ex.org/stars> <http://ex.org/JohnHeard> .\n",
      "<http://ex.org/Sharknado> <http://www.w3.org/1999/02/22-rdf-syntax-ns#type> <http://ex.org/Movie> .\n",
      "\n",
      "<?xml version=\"1.0\" encoding=\"utf-8\"?>\n",
      "<rdf:RDF\n",
      "   xmlns:ex=\"http://ex.org/\"\n",
      "   xmlns:rdf=\"http://www.w3.org/1999/02/22-rdf-syntax-ns#\"\n",
      ">\n",
      "  <rdf:Description rdf:about=\"http://ex.org/Sharknado\">\n",
      "    <rdf:type rdf:resource=\"http://ex.org/Movie\"/>\n",
      "    <ex:firstAired rdf:datatype=\"http://www.w3.org/2001/XMLSchema#date\">2013-07-11</ex:firstAired>\n",
      "    <ex:title xml:lang=\"en\">Sharknado</ex:title>\n",
      "    <ex:stars rdf:resource=\"http://ex.org/IanZiering\"/>\n",
      "    <ex:stars rdf:resource=\"http://ex.org/JohnHeard\"/>\n",
      "  </rdf:Description>\n",
      "</rdf:RDF>\n",
      "\n",
      "[\n",
      "  {\n",
      "    \"@id\": \"http://ex.org/Sharknado\",\n",
      "    \"@type\": [\n",
      "      \"http://ex.org/Movie\"\n",
      "    ],\n",
      "    \"http://ex.org/firstAired\": [\n",
      "      {\n",
      "        \"@type\": \"http://www.w3.org/2001/XMLSchema#date\",\n",
      "        \"@value\": \"2013-07-11\"\n",
      "      }\n",
      "    ],\n",
      "    \"http://ex.org/stars\": [\n",
      "      {\n",
      "        \"@id\": \"http://ex.org/IanZiering\"\n",
      "      },\n",
      "      {\n",
      "        \"@id\": \"http://ex.org/JohnHeard\"\n",
      "      }\n",
      "    ],\n",
      "    \"http://ex.org/title\": [\n",
      "      {\n",
      "        \"@language\": \"en\",\n",
      "        \"@value\": \"Sharknado\"\n",
      "      }\n",
      "    ]\n",
      "  }\n",
      "]\n"
     ]
    }
   ],
   "source": [
    "# Print the rdf file in turtle format\n",
    "print(g.serialize(format=\"turtle\"))\n",
    "\n",
    "# Print the rdf file in Ntriples format\n",
    "print(g.serialize(format=\"nt\"))\n",
    "\n",
    "# Print the rdf file in xml format\n",
    "print(g.serialize(format=\"xml\"))\n",
    "\n",
    "# Print the rdf file in Json-LD format\n",
    "print(g.serialize(format=\"json-ld\"))\n"
   ]
  },
  {
   "cell_type": "code",
   "execution_count": 60,
   "metadata": {
    "colab": {
     "base_uri": "https://localhost:8080/"
    },
    "id": "liyj4W709C6K",
    "outputId": "924d363e-e3fd-4098-84cf-04f97ac8acc4"
   },
   "outputs": [
    {
     "ename": "NameError",
     "evalue": "name 'foaf' is not defined",
     "output_type": "error",
     "traceback": [
      "\u001b[0;31m---------------------------------------------------------------------------\u001b[0m",
      "\u001b[0;31mNameError\u001b[0m                                 Traceback (most recent call last)",
      "\u001b[0;32m/var/folders/qc/_vwvb0312psck5cb_99s_c8r0000gn/T/ipykernel_74247/1565777762.py\u001b[0m in \u001b[0;36m<module>\u001b[0;34m\u001b[0m\n\u001b[1;32m      8\u001b[0m \u001b[0mname\u001b[0m \u001b[0;34m=\u001b[0m \u001b[0mLiteral\u001b[0m\u001b[0;34m(\u001b[0m\u001b[0;34m'Tara Reid'\u001b[0m\u001b[0;34m)\u001b[0m  \u001b[0;31m# passing a string\u001b[0m\u001b[0;34m\u001b[0m\u001b[0;34m\u001b[0m\u001b[0m\n\u001b[1;32m      9\u001b[0m \u001b[0mg\u001b[0m\u001b[0;34m.\u001b[0m\u001b[0mbind\u001b[0m\u001b[0;34m(\u001b[0m\u001b[0;34m\"foaf\"\u001b[0m\u001b[0;34m,\u001b[0m \u001b[0mFOAF\u001b[0m\u001b[0;34m)\u001b[0m \u001b[0;31m#<- bind URI of FOAF to \"foaf\"\u001b[0m\u001b[0;34m\u001b[0m\u001b[0;34m\u001b[0m\u001b[0m\n\u001b[0;32m---> 10\u001b[0;31m \u001b[0mg\u001b[0m\u001b[0;34m.\u001b[0m\u001b[0madd\u001b[0m\u001b[0;34m(\u001b[0m\u001b[0;34m(\u001b[0m\u001b[0mtara\u001b[0m\u001b[0;34m,\u001b[0m \u001b[0mfoaf\u001b[0m\u001b[0;34m.\u001b[0m\u001b[0mname\u001b[0m\u001b[0;34m,\u001b[0m \u001b[0mname\u001b[0m\u001b[0;34m)\u001b[0m\u001b[0;34m)\u001b[0m\u001b[0;34m\u001b[0m\u001b[0;34m\u001b[0m\u001b[0m\n\u001b[0m\u001b[1;32m     11\u001b[0m \u001b[0;31m# Add the relation between node: tara and the node: sharknado.\u001b[0m\u001b[0;34m\u001b[0m\u001b[0;34m\u001b[0m\u001b[0m\n",
      "\u001b[0;31mNameError\u001b[0m: name 'foaf' is not defined"
     ]
    }
   ],
   "source": [
    "# https://rdflib.readthedocs.io/en/stable/intro_to_creating_rdf.html\n",
    "from rdflib import URIRef, BNode, Literal\n",
    "from rdflib.namespace import FOAF\n",
    "\n",
    "tara = URIRef(\"http://ex.org/people/Tara\")\n",
    "node = BNode()  # a GUID is generated\n",
    "\n",
    "name = Literal('Tara Reid')  # passing a string\n",
    "g.bind(\"foaf\", FOAF) #<- bind URI of FOAF to \"foaf\"\n",
    "g.add((tara, FOAF.name, name))\n",
    "# Add the relation between node: tara and the node: sharknado.\n"
   ]
  },
  {
   "cell_type": "code",
   "execution_count": 8,
   "metadata": {
    "id": "5xS_mSLC9Dgt"
   },
   "outputs": [],
   "source": [
    "# Tara Reid hasActed Sharknado\n",
    "hasActed = URIRef(\"http://ex.org/hasActed\")\n",
    "sharknado = URIRef(\"http://ex.org/Sharknado\")"
   ]
  },
  {
   "cell_type": "code",
   "execution_count": 9,
   "metadata": {
    "colab": {
     "base_uri": "https://localhost:8080/"
    },
    "id": "6PDsaOm89HVe",
    "outputId": "8afec87a-f3c3-44ca-cbf4-eb29784e72ba"
   },
   "outputs": [
    {
     "data": {
      "text/plain": [
       "<Graph identifier=Need67ed58eb34328b302e7e37f429791 (<class 'rdflib.graph.Graph'>)>"
      ]
     },
     "execution_count": 9,
     "metadata": {},
     "output_type": "execute_result"
    }
   ],
   "source": [
    "g.add((tara, hasActed, sharknado))"
   ]
  },
  {
   "cell_type": "code",
   "execution_count": 59,
   "metadata": {},
   "outputs": [
    {
     "name": "stdout",
     "output_type": "stream",
     "text": [
      "<http://ex.org/people/Tara> \"Tara Reid\" \"Tara Reid\" .\n",
      "<http://ex.org/Sharknado> <http://ex.org/stars> <http://ex.org/IanZiering> .\n",
      "<http://ex.org/Sharknado> <http://ex.org/title> \"Sharknado\"@en .\n",
      "<http://ex.org/people/Tara> <http://xmlns.com/foaf/0.1/name> \"Tara Reid\" .\n",
      "<http://ex.org/Sharknado> <http://ex.org/firstAired> \"2013-07-11\"^^<http://www.w3.org/2001/XMLSchema#date> .\n",
      "<http://ex.org/Sharknado> <http://ex.org/stars> <http://ex.org/JohnHeard> .\n",
      "<http://ex.org/Sharknado> <http://www.w3.org/1999/02/22-rdf-syntax-ns#type> <http://ex.org/Movie> .\n",
      "\n",
      "@prefix ex: <http://ex.org/> .\n",
      "@prefix foaf: <http://xmlns.com/foaf/0.1/> .\n",
      "@prefix xsd: <http://www.w3.org/2001/XMLSchema#> .\n",
      "\n",
      "ex:Sharknado a ex:Movie ;\n",
      "    ex:firstAired \"2013-07-11\"^^xsd:date ;\n",
      "    ex:stars ex:IanZiering,\n",
      "        ex:JohnHeard ;\n",
      "    ex:title \"Sharknado\"@en .\n",
      "\n",
      "<http://ex.org/people/Tara> foaf:name \"Tara Reid\" ;\n",
      "    \"Tara Reid\" \"Tara Reid\" .\n",
      "\n",
      "\n"
     ]
    }
   ],
   "source": [
    "print(g.serialize(format=\"nt\"))\n",
    "print(g.serialize(format=\"turtle\"))"
   ]
  },
  {
   "cell_type": "markdown",
   "metadata": {
    "id": "SclNOLNq8jGm"
   },
   "source": [
    "**Given the following information, construct an RDF graph and dump the rdf file into nt format and JSON-LD format:**\n",
    "\n",
    "Alice and Bob know each other. They both work for a company named Fictional Dynamics. Bob also knows Charlie. Charlie works for a company named Actual Dynamics. Charlie knows his colleague Dave. Alice is a female. Bob, Charlie and Dave are men. Bob was born on 01-01‑1990. Alice was born on 02-02-1884. Charlie was born on 03-03-1992. Dave as born on 04-04-1991. Both Bob and Charlie have a monthly salary of 10,000. Alice has a monthly salary of 12,000, while Dave has a monthly salary of 15,000. Alice’s full name is “Alice Smith” and Bob’s full name is “Bob Wilson”.\n",
    "\n",
    "You can consider the URI prefix ex: http://ex.org/ for all cases."
   ]
  },
  {
   "cell_type": "code",
   "execution_count": 105,
   "metadata": {
    "id": "MegWTmXD9MD8"
   },
   "outputs": [
    {
     "data": {
      "text/plain": [
       "<Graph identifier=N81f4af99acee48fc9ca677e1c1ad93e6 (<class 'rdflib.graph.Graph'>)>"
      ]
     },
     "execution_count": 105,
     "metadata": {},
     "output_type": "execute_result"
    }
   ],
   "source": [
    "# Solution\n",
    "from rdflib import URIRef, BNode, Literal, Graph, XSD\n",
    "from rdflib.namespace import RDF, FOAF, ORG\n",
    "\n",
    "g = Graph()\n",
    "\n",
    "alice = URIRef(\"http://ex.org/people/Alice\")\n",
    "bob = URIRef(\"http://ex.org/people/Bob\")\n",
    "charlie = URIRef(\"http://ex.org/people/Charlie\")\n",
    "fictional_dynamics = URIRef(\"http://ex.org/Fictional%sDynamics\")\n",
    "actual_dynamics = URIRef(\"http://ex.org/Actual%sDynamics\")\n",
    "organization = URIRef(\"http://ex.org/ORG\")\n",
    "dave = URIRef(\"http://ex.org/people/Dave\")\n",
    "male = URIRef(\"http://ex.org/Male\")\n",
    "female = URIRef(\"http://ex.org/Female\")\n",
    "\n",
    "alice_name = Literal(\"Alice Smith\")\n",
    "bob_name = Literal(\"Bob Wilson\")\n",
    "fictional_dynamics_name = Literal(\"Fictional Dynamics\")\n",
    "actual_dynamics_name = Literal(\"Actual Dynamics\")\n",
    "alice_dob = Literal('1884-02-02',datatype=XSD.date)\n",
    "bob_dob = Literal('1990-01-01',datatype=XSD.date)\n",
    "charlie_dob = Literal('1992-03-03',datatype=XSD.date)\n",
    "dave_dob = Literal('1991-04-04',datatype=XSD.date)\n",
    "alice_salary = Literal('12000',datatype=XSD.integer)\n",
    "bob_salary = Literal('10000', datatype=XSD.integer)\n",
    "charlie_salary = Literal('10000', datatype=XSD.integer)\n",
    "dave_salary = Literal('15000', datatype=XSD.integer)\n",
    "\n",
    "\n",
    "worksFor = URIRef(\"http://ex.org/people/worksFor\")\n",
    "hasGender = URIRef(\"http://ex.org/people/hasGender\")\n",
    "hasCompanyName = URIRef(\"http://ex.org/people/hasCompanyName\")\n",
    "hasFullName = URIRef(\"http://ex.org/people/hasFullName\")\n",
    "hasDOB = URIRef(\"http://ex.org/people/hasDOB\")\n",
    "hasMonthlySalary =URIRef(\"http://ex.org/people/hasMonthlySalary\")\n",
    "hasColleague = URIRef(\"http://ex.org/people/hasColleague\")\n",
    "\n",
    "knows = URIRef(\"http://ex.org/people/knows\")\n",
    "\n",
    "g.add((fictional_dynamics, hasCompanyName, fictional_dynamics_name))\n",
    "g.add((actual_dynamics, hasCompanyName, actual_dynamics_name))\n",
    "\n",
    "\n",
    "g.add((alice, worksFor, fictional_dynamics))\n",
    "g.add((alice, hasGender, female))\n",
    "g.add((alice, hasDOB, alice_dob))\n",
    "g.add((alice, hasMonthlySalary, alice_salary))\n",
    "g.add((alice, hasFullName, alice_name))\n",
    "g.add((alice, knows, bob))\n",
    "\n",
    "g.add((bob, worksFor, fictional_dynamics))\n",
    "g.add((bob, hasGender, male))\n",
    "g.add((bob, hasDOB, bob_dob))\n",
    "g.add((bob, hasMonthlySalary, bob_salary))\n",
    "g.add((bob, hasFullName, bob_name))\n",
    "g.add((bob, knows, charlie))\n",
    "g.add((bob, knows, alice))\n",
    "\n",
    "g.add((charlie, worksFor, actual_dynamics))\n",
    "g.add((charlie, hasGender, male))\n",
    "g.add((charlie, hasDOB, charlie_dob))\n",
    "g.add((charlie, hasMonthlySalary, charlie_salary))\n",
    "g.add((charlie, knows, dave))\n",
    "\n",
    "g.add((dave, worksFor, actual_dynamics))\n",
    "g.add((dave, hasGender, male))\n",
    "g.add((dave, hasDOB, dave_dob))\n",
    "g.add((dave, hasMonthlySalary, dave_salary))"
   ]
  },
  {
   "cell_type": "code",
   "execution_count": 35,
   "metadata": {},
   "outputs": [],
   "source": [
    "# print(g.serialize(format=\"turtle\"))\n",
    "# print(g.serialize(format=\"json-ld\"))\n",
    "# print(g.serialize(format=\"xml\"))\n"
   ]
  },
  {
   "cell_type": "markdown",
   "metadata": {
    "id": "8EGk8Twg8jNb"
   },
   "source": [
    "Extract the following information using SPARQL questies:\n",
    "\n",
    "1. Extract the people who earn more than 10,000.\n",
    "2. Extract the people who earn more than 10,000 and were born before the year 1994.\n",
    "3. Extract the people who earn more than 10,000 or were born in the year 1994.\n",
    "Find the distinct salaries received by people and list them in sorted order.\n",
    "4. Delete the information about \"Bob\" from the dataset. #processUpdate"
   ]
  },
  {
   "cell_type": "code",
   "execution_count": 75,
   "metadata": {
    "id": "MKbQJkmQ8iMi"
   },
   "outputs": [
    {
     "name": "stdout",
     "output_type": "stream",
     "text": [
      "http://ex.org/people/Alice\n",
      "http://ex.org/people/Dave\n"
     ]
    }
   ],
   "source": [
    "query = \"\"\"\n",
    "    PREFIX ex: <http://ex.org/>\n",
    "    SELECT DISTINCT ?a\n",
    "    WHERE {\n",
    "        ?a ex:people/hasMonthlySalary ?b .\n",
    "        FILTER(?b > \"10000\"^^xsd:integer)\n",
    "    }\n",
    "\"\"\"\n",
    "\n",
    "query = \"\"\"\n",
    "    SELECT DISTINCT ?a\n",
    "    WHERE {\n",
    "        ?a <http://ex.org/people/hasMonthlySalary> ?b .\n",
    "        FILTER(?b > \"10000\"^^xsd:integer)\n",
    "    }\n",
    "\"\"\"\n",
    "\n",
    "res = g.query(query)\n",
    "for row in res:\n",
    "    print(f\"{row.a}\")\n"
   ]
  },
  {
   "cell_type": "code",
   "execution_count": 79,
   "metadata": {},
   "outputs": [
    {
     "name": "stdout",
     "output_type": "stream",
     "text": [
      "http://ex.org/people/Alice\n",
      "http://ex.org/people/Dave\n"
     ]
    }
   ],
   "source": [
    "query = \"\"\"\n",
    "    SELECT DISTINCT ?a\n",
    "    WHERE {\n",
    "        ?a <http://ex.org/people/hasMonthlySalary> ?b .\n",
    "        ?a <http://ex.org/people/hasDOB> ?c .\n",
    "        FILTER(?b > \"10000\"^^xsd:integer && ?c < \"1994-01-01\"^^xsd:date)\n",
    "    }\n",
    "\"\"\"\n",
    "\n",
    "res = g.query(query)\n",
    "for row in res:\n",
    "    print(f\"{row.a}\")"
   ]
  },
  {
   "cell_type": "code",
   "execution_count": 81,
   "metadata": {},
   "outputs": [
    {
     "name": "stdout",
     "output_type": "stream",
     "text": [
      "10000\n",
      "12000\n",
      "15000\n"
     ]
    }
   ],
   "source": [
    "query = \"\"\"\n",
    "    SELECT DISTINCT ?b\n",
    "    WHERE {\n",
    "        ?a <http://ex.org/people/hasMonthlySalary> ?b .\n",
    "        ?a <http://ex.org/people/hasDOB> ?c .\n",
    "        FILTER(?b > \"10000\"^^xsd:integer || ?c < \"1994-01-01\"^^xsd:date)\n",
    "    }\n",
    "    ORDER BY ASC(?b)\n",
    "\"\"\"\n",
    "\n",
    "res = g.query(query)\n",
    "for row in res:\n",
    "    print(f\"{row.b}\")"
   ]
  },
  {
   "cell_type": "code",
   "execution_count": 114,
   "metadata": {},
   "outputs": [],
   "source": [
    "from rdflib import plugins\n",
    "# from rdflib.sparql.processor import processUpdate\n",
    "\n",
    "query = \"\"\"\n",
    "    DELETE\n",
    "    {?s ?p ?o}\n",
    "    where {\n",
    "    values(?s) {(<http://ex.org/people/Bob>)}\n",
    "    ?s ?p ?o }\n",
    "\"\"\"\n",
    "\n",
    "plugins.sparql.processor.processUpdate(g, query)\n",
    "# print(g.serialize(format=\"turtle\"))"
   ]
  },
  {
   "cell_type": "code",
   "execution_count": 115,
   "metadata": {},
   "outputs": [
    {
     "name": "stdout",
     "output_type": "stream",
     "text": [
      "@prefix ns1: <http://ex.org/people/> .\n",
      "@prefix xsd: <http://www.w3.org/2001/XMLSchema#> .\n",
      "\n",
      "ns1:Alice ns1:hasDOB \"1884-02-02\"^^xsd:date ;\n",
      "    ns1:hasFullName \"Alice Smith\" ;\n",
      "    ns1:hasGender <http://ex.org/Female> ;\n",
      "    ns1:hasMonthlySalary 12000 ;\n",
      "    ns1:knows ns1:Bob ;\n",
      "    ns1:worksFor <http://ex.org/Fictional%sDynamics> .\n",
      "\n",
      "ns1:Charlie ns1:hasDOB \"1992-03-03\"^^xsd:date ;\n",
      "    ns1:hasGender <http://ex.org/Male> ;\n",
      "    ns1:hasMonthlySalary 10000 ;\n",
      "    ns1:knows ns1:Dave ;\n",
      "    ns1:worksFor <http://ex.org/Actual%sDynamics> .\n",
      "\n",
      "<http://ex.org/Fictional%sDynamics> ns1:hasCompanyName \"Fictional Dynamics\" .\n",
      "\n",
      "ns1:Dave ns1:hasDOB \"1991-04-04\"^^xsd:date ;\n",
      "    ns1:hasGender <http://ex.org/Male> ;\n",
      "    ns1:hasMonthlySalary 15000 ;\n",
      "    ns1:worksFor <http://ex.org/Actual%sDynamics> .\n",
      "\n",
      "<http://ex.org/Actual%sDynamics> ns1:hasCompanyName \"Actual Dynamics\" .\n",
      "\n",
      "\n"
     ]
    }
   ],
   "source": [
    "print(g.serialize(format=\"turtle\"))"
   ]
  }
 ],
 "metadata": {
  "colab": {
   "collapsed_sections": [],
   "provenance": []
  },
  "kernelspec": {
   "display_name": "Python 3 (ipykernel)",
   "language": "python",
   "name": "python3"
  },
  "language_info": {
   "codemirror_mode": {
    "name": "ipython",
    "version": 3
   },
   "file_extension": ".py",
   "mimetype": "text/x-python",
   "name": "python",
   "nbconvert_exporter": "python",
   "pygments_lexer": "ipython3",
   "version": "3.9.10"
  }
 },
 "nbformat": 4,
 "nbformat_minor": 1
}
