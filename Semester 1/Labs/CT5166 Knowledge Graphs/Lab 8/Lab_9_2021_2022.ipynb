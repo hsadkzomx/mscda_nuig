{
 "cells": [
  {
   "cell_type": "markdown",
   "metadata": {
    "id": "AAVJ0NeKkKnf"
   },
   "source": [
    "In this lab, we are going to explore multiple Linked Data Datasets(LODs). They are\n",
    "\n",
    "\n",
    "1.   DBpedia (I use this a lot in my research)\n",
    "2.   Wikidata\n",
    "3.   Geonames\n",
    "\n"
   ]
  },
  {
   "cell_type": "markdown",
   "metadata": {
    "id": "osA31gYqkila"
   },
   "source": [
    "#DBpedia\n",
    "First we will learn to query each dataset to fetch certain information. We will begin with DBpedia. While querying any publicly available LOD, we need their publicly available endpoints. DBpedia dataset can be queried using the endpoints available [here](https://wiki.dbpedia.org/OnlineAccess#1.1%20Public%20SPARQL%20Endpoint). "
   ]
  },
  {
   "cell_type": "markdown",
   "metadata": {
    "id": "tZvDNHZapsRi"
   },
   "source": [
    "But before that, how would you find the URI of any entity present in DBpedia?\n",
    "\n",
    "1. DBpedia Ontology\n",
    "2. DBpedia Resources\n",
    "3. RDF schema\n",
    "4. RDF syntax\n",
    "5. FOAF  "
   ]
  },
  {
   "cell_type": "code",
   "execution_count": null,
   "metadata": {
    "id": "1QaVAzbnl7Xj"
   },
   "outputs": [],
   "source": [
    "DBpedia Ontology: PREFIX dbo: http://dbpedia.org/ontology/\n",
    "DBpedia Resources: PREFIX res: http://dbpedia.org/resource/\n",
    "RDF schema: PREFIX rdfs: http://www.w3.org/2000/01/rdf-schema#\n",
    "RDF syntax: PREFIX rdf: http://www.w3.org/1999/02/22-rdf-syntax-ns#\n",
    "FOAF: PREFIX foaf: http://xmlns.com/foaf/0.1/"
   ]
  },
  {
   "cell_type": "markdown",
   "metadata": {
    "id": "n3UbvQahpxsh"
   },
   "source": [
    "Now, that we have all the necessary prefixes in place, we will begin with querying DBpedia and fetch relevant information. Preliminaries:\n",
    "\n",
    "1.   What would the URI for entity \"IBM\" be?\n",
    "2.   What would the URI for entity \"Berlin\" be?\n",
    "\n"
   ]
  },
  {
   "cell_type": "markdown",
   "metadata": {
    "id": "9VLqmmM7kisq"
   },
   "source": [
    "In this lab, we will be using [this endpoint](https://dbpedia.org/sparql/). Now, we will be fetching the following information from DBpedia:\n",
    "\n",
    "\n",
    "1.   Number of employees of IBM\n",
    "2.   Area code of Berlin\n",
    "\n"
   ]
  },
  {
   "cell_type": "markdown",
   "metadata": {
    "id": "ESsYOEHLm3wk"
   },
   "source": [
    "# Wikidata\n",
    "We will now learn how to fetch information from Wikidata LOD. But as with DBpedia LOD, a question arises, how do we query Wikidata LOD. The publicly available endpoint to query can be found in [this link](https://query.wikidata.org/). Now that we have all the necessities in place, we will try to answer the following questions.\n",
    "\n",
    "\n",
    "1.   How to represent an entity in Wikidata? Find the entity representation of \"Berlin\" in wikidata.\n",
    "2.   How to represent a property in Wikidata?\n",
    "3.   What is \"SERVICE label\" in Wikidata query?\n",
    "\n",
    "\n"
   ]
  },
  {
   "cell_type": "markdown",
   "metadata": {
    "id": "8x3BaKRvqh8F"
   },
   "source": [
    " We will write queries to fetch the following information from the Wikidata LOD:\n",
    "\n",
    "\n",
    "1.   Count number of humans in Wikidata\n",
    "\n",
    "select (count(?item) AS ?count)\n",
    "{\n",
    "  ?item wdt:P31 (instance of) / wdt:P279* (subclass of) wd:Q5.\n",
    "}\n",
    "\n",
    "\n",
    "2.   Gender balance of members of Irish parliament\n",
    "\n",
    "select ?item ?sex (count(?item)\n",
    "{\n",
    "  ?item wdt:P39 (position held) wd:Q654291 (member of irish parliament) .\n",
    "  ?item wdt:P21 (sex or gender) ?sex .\n",
    "  \n",
    "  \n",
    "}\n",
    "GROUP BY ?sex"
   ]
  },
  {
   "cell_type": "markdown",
   "metadata": {
    "id": "Tb9Ep873xIYu"
   },
   "source": [
    "# Geonames\n",
    "We will proceed to fetch information from Geonames LOD. We can query the dataset using the endpoint : http://www.geosparql.org/ .But as with previous datasets, we will answer the following questions first:\n",
    "\n",
    "\n",
    "1.   How do you represent an entity in Geonames LOD?\n",
    "2.   How do you represent a property in Geonames LOD?\n",
    "\n"
   ]
  },
  {
   "cell_type": "markdown",
   "metadata": {
    "id": "QVV4haPVxIjy"
   },
   "source": [
    "Now that we have the 3 LODs in place, we will write queries to fetch the following information:\n",
    "\n",
    "\n",
    "1. Which films in 1993 starred Macaulay Culkin?\n",
    "2. Find the total population of London from DBpedia, Wikidata and Geonames.\n",
    "select ?pop\n",
    "{\n",
    "    dbo:london dbo:population ?pop\n",
    "}\n",
    "\n",
    "select ?pop\n",
    "{\n",
    "    wd:Q wdt:P ?pop\n",
    "}\n",
    "\n",
    "select ?pop\n",
    "{\n",
    "    gn:2643743 gn:population ?pop\n",
    "}\n",
    "\n",
    "3. Find movies directed by Steven Speilberg from DBpedia, information about his spouse from Wikidata.\n",
    "\n"
   ]
  },
  {
   "cell_type": "code",
   "execution_count": null,
   "metadata": {
    "id": "7xcYSn0Ukhd1"
   },
   "outputs": [],
   "source": []
  },
  {
   "cell_type": "code",
   "execution_count": null,
   "metadata": {
    "id": "eHv16XYOnxr9"
   },
   "outputs": [],
   "source": []
  },
  {
   "cell_type": "markdown",
   "metadata": {
    "id": "pd7UqxGBteaY"
   },
   "source": [
    "# Wikidata\n",
    "We will now learn how to fetch information from Wikidata LOD. But as with DBpedia LOD, a question arises, how do we query Wikidata LOD. The publicly available endpoint to query can be found in [this link](https://query.wikidata.org/). Now that we have all the necessities in place, we will try to answer the following questions.\n",
    "\n",
    "\n",
    "1.   How to represent an entity in Wikidata? https://www.wikidata.org/wiki/Special:Search\n",
    "2.   How to represent a property in Wikidata? Search with P:query\n",
    "3.   What is \"SERVICE\" in Wikidata query? \n",
    "\n",
    "https://www.wikidata.org/wiki/Wikidata:SPARQL_tutorial\n",
    "\n",
    "\n"
   ]
  },
  {
   "cell_type": "markdown",
   "metadata": {
    "id": "73blJtFPtfU2"
   },
   "source": [
    "Resource for member of Irish Parliament: wd:Q654291"
   ]
  }
 ],
 "metadata": {
  "colab": {
   "collapsed_sections": [],
   "provenance": []
  },
  "kernelspec": {
   "display_name": "Python 3 (ipykernel)",
   "language": "python",
   "name": "python3"
  },
  "language_info": {
   "codemirror_mode": {
    "name": "ipython",
    "version": 3
   },
   "file_extension": ".py",
   "mimetype": "text/x-python",
   "name": "python",
   "nbconvert_exporter": "python",
   "pygments_lexer": "ipython3",
   "version": "3.9.10"
  }
 },
 "nbformat": 4,
 "nbformat_minor": 1
}
