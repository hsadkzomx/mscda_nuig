{
 "cells": [
  {
   "cell_type": "markdown",
   "metadata": {
    "id": "Vmt77k1DJJpH"
   },
   "source": [
    "# Exercise 1: RDF Schemas\n",
    "\n",
    "Imagine you are defining a knowledge graph defining different types of feline animals which range from housecats to tigers. We have the following entities and properties:\n",
    "\n",
    "Persian Cat\n",
    "- origin: Iran\n",
    "- is_domesticated: Yes\n",
    "- genus: Felis\n",
    "- species: F.catus\n",
    "- family: Felidae\n",
    "- breed: Persian Cat\n",
    "- averge lifespan: 14\n",
    "\n",
    "Maine Coon \n",
    "- origin: United States\n",
    "- is_domesticated: Yes\n",
    "- genus: Felis\n",
    "- species: F.catus\n",
    "- family: Felidae\n",
    "- averge lifespan: 14\n",
    "\n",
    "Sphynx Cat\n",
    "- origin: Canada\n",
    "- is_domesticated: Yes\n",
    "- genus: Felis\n",
    "- species: F.catus\n",
    "- family: Felidae\n",
    "- averge lifespan: 14\n",
    "\n",
    "Eurasian Lynx\n",
    "- origin: Ireland\n",
    "- is_domesticated: No\n",
    "- genus: Lynx\n",
    "- species: L.lynx\n",
    "- family: Felidae\n",
    "- averge lifespan: 10\n",
    "\n",
    "Bengal Tiger\n",
    "- origin: India\n",
    "- is_domesticated: No\n",
    "- genus: Panthera\n",
    "- species: P. tigris\n",
    "- family: Felidae\n",
    "- averge lifespan: 11\n",
    "\n",
    "Using the concept of RDF subclasse define a schema that describe the various types of cats. Draw a class diagram which shows that:\n",
    "- as a species (P. tigris) Bengal tiger are are of the family Felidae through subclass inheritance\n",
    "- as a species (F. catus) are a part of the family Felidae through subclass inheritance\n",
    "- Sphynx Cat is an instance of the species F.catus class\n",
    "- All speciese have the properties of average lifespan and is_domesticated"
   ]
  },
  {
   "cell_type": "markdown",
   "metadata": {
    "id": "JghwBBXFJLF0"
   },
   "source": [
    "# Exercise 2: Shapes\n",
    "\n",
    "Using shape notation, modify the KG from above to support the following validation conditions:\n",
    "- Average lifespan must be a positive number less than 100\n",
    "- Each species entity must have a is_domesticated property with a binary value of 1 if yes and 0 if no"
   ]
  },
  {
   "cell_type": "code",
   "execution_count": null,
   "metadata": {},
   "outputs": [],
   "source": [
    "-> avgLifespan (int n < 100 n > 0) {0, 1}\n",
    "-> is_domesticated (boolean) {1, 1}"
   ]
  },
  {
   "cell_type": "markdown",
   "metadata": {
    "id": "QHycJTp2JNcF"
   },
   "source": [
    "# Exercise 3: Context\n",
    "An increasing problem in the world of zoology and biology is the emergence of competing taxonomies (e.g. [A Few Bad Scientists Are Threatening to Topple Taxonomy](https://www.smithsonianmag.com/science-nature/the-big-ugly-problem-heart-of-taxonomy-180964629/)). Amateurs and scientists seeking the fame of new discoveries are introducing alternate taxonomies that allow them to claim the discovery of new species and steal the discoveries of others. Let's say the community has decided to introduce a set of codes to organize competing taxonomies. \n",
    "\n",
    "Using one of the 5 context strategies found in the lecture notes (slides 32 - 39) contextualize the knowledge graph we defined so far to keep track of the following: \n",
    "- taxonomic code \n",
    "- taxonomic code origin date\n",
    "\n",
    "Explain the pros and cons of using your approach in relation to the other strategies. "
   ]
  },
  {
   "cell_type": "code",
   "execution_count": null,
   "metadata": {},
   "outputs": [],
   "source": [
    "use named graphs\n",
    "\n",
    "name => taxonomic code\n",
    "named graph origin_date => taxonomic code origin date\n",
    "\n",
    "\n",
    "pros - has unique names for each KG and easy to query with taxonomic code \n",
    "        hence easier to check for existing names when a new species is discovered.\n",
    "\n",
    "\n",
    "cons - might not be pratical for existing taxonomies that shared the same code\n",
    "\n",
    "\n",
    "context based graphs might lead to information missing and ambiguity of context compared to another context. "
   ]
  }
 ],
 "metadata": {
  "colab": {
   "provenance": []
  },
  "kernelspec": {
   "display_name": "Python 3 (ipykernel)",
   "language": "python",
   "name": "python3"
  },
  "language_info": {
   "codemirror_mode": {
    "name": "ipython",
    "version": 3
   },
   "file_extension": ".py",
   "mimetype": "text/x-python",
   "name": "python",
   "nbconvert_exporter": "python",
   "pygments_lexer": "ipython3",
   "version": "3.9.10"
  }
 },
 "nbformat": 4,
 "nbformat_minor": 1
}
