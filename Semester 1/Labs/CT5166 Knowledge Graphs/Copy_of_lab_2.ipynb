{
 "cells": [
  {
   "cell_type": "markdown",
   "metadata": {
    "id": "kfpjWnyfe938"
   },
   "source": [
    "Task 1: Describe the scenarios where the following graphs might be useful:\n",
    "1. Homogeneous graphs\n",
    "2. Heterogeneous graphs\n",
    "3. Property Graphs\n",
    "\n",
    "Explain why these are necessary and what you can model using these graphs."
   ]
  },
  {
   "cell_type": "code",
   "execution_count": null,
   "metadata": {
    "id": "UXuiZ7A2NJgu"
   },
   "outputs": [],
   "source": [
    "1. social network graph showing the connections of people (relation: following)\n",
    "- \"people you might know\" (in social media)\n",
    "all the nodes represent instances of the same type and all the edges represent relations of the same type\n",
    "\n",
    "2. marketplace graph showing buyer, seller, and product nodes that are connected via different labels\n",
    "e.g. wants-to-buy, has-bought, is-customer-of, and is-selling edges\n",
    "- \"recommendation products / movies\" (amazon / taobao)\n",
    "the nodes and edges can be of different types\n",
    "\n",
    "3. countries population graph with year of independant, population or etc\n",
    "- google\n",
    "Allow nodes to have numeric, textual and other properties, is a big graph that consists all kinds of entities\n",
    "\n",
    "homogeneous + heterogeneous - employee graphs in a whole company with different departments\n"
   ]
  },
  {
   "cell_type": "markdown",
   "metadata": {
    "id": "QfFr60jlfEfu"
   },
   "source": [
    "Task 2: Alice and Bob know each other. They both work for a company named Fictional Dynamics. Bob also knows Charlie. Charlie works for a company named Actual Dynamics. Charlie knows his colleague Dave. Alice is a female. Bob, Charlie and Dave are men. Bob was born on 01-­‐‑01-­‐‑1990. Both Bob and Charlie have a monthly salary of 10,000. Alice’s full name is “Alice Smith” and Bob’s full name is “Bob Wilson”. Homepages for all four persons (Alice, Bob, Charlie, and Dave) are accessible at http://www.fictionaldynamics.com/alice http://www.fictionaldynamics.com/bob http://www.actualdynamics.com/charlie and http://www.actualdynamics.com/dave respectively."
   ]
  },
  {
   "cell_type": "markdown",
   "metadata": {
    "id": "ZCnFF4FPfYlF"
   },
   "source": [
    "1. Draw a graphical representation of extracted triples\n",
    "2. Introduce prefixes to the triples.\n",
    "3. Extract the rdf representation of the triples from the above text\n"
   ]
  },
  {
   "cell_type": "code",
   "execution_count": null,
   "metadata": {},
   "outputs": [],
   "source": [
    "alice - knows - bob\n",
    "alice - work_for - Fictional Dynamics\n",
    "bob - work_for - Fictional Dynamics\n",
    "bob - knows -> charlie\n",
    "charlie - work_for - Actual Dynamics\n",
    "charlie - knows -> dave\n",
    "dave - work_for - Actual Dynamics\n",
    "alice - gender - female\n",
    "bob - gender - male\n",
    "charlie - gender - male\n",
    "dave - gender - male\n",
    "bob - dob - 01-01-1990\n",
    "bob - monthly_salary - 10,000\n",
    "charlie - monthly_salary - 10,000\n",
    "alice - full_name - \"Alice Smith\"\n",
    "bob - full_name - \"Bob Wilson\"\n",
    "alice - homepage - <http://www.fictionaldynamics.com/alice>\n",
    "bob - homepage - <http://www.fictionaldynamics.com/bob>\n",
    "charle - homepage - <http://www.actualdynamics.com/charlie>\n",
    "dave - homepage - <http://www.actualdynamics.com/dave>\n",
    "    \n",
    "    \n",
    "    \n",
    "fd: -> http://www.fictionaldynamics.com/\n",
    "ad: -> http://www.actualdynamics.com/\n",
    "ex: -> http://www.example.com/\n",
    "    \n",
    "    \n",
    "fd:alice - ex:knows - fd:bob\n",
    "fd:alice - ex:work_for - \"Fictional Dynamics\"@en\n",
    "fd:bob - ex:work_for - \"Fictional Dynamics\"@en\n",
    "fd:bob - ex:knows -> ad:charlie\n",
    "ad:charlie - ex:work_for - \"Actual Dynamics\"@en\n",
    "ad:charlie - ex:knows -> ad:dave\n",
    "ad:dave - ex:work_for - \"Actual Dynamics\"@en\n",
    "fd:alice - ex:gender - ex:female\n",
    "fd:bob - ex:gender - ex:male\n",
    "ad:charlie - ex:gender - ex:male\n",
    "ad:dave - ex:gender - ex:male\n",
    "fd:bob - ex:dob - \"1990-01-01\"^^xsd:date\n",
    "fd:bob - ex:monthly_salary - \"10000\"^^xsd:int\n",
    "ad:charlie - ex:monthly_salary - \"10000\"^^xsd:int\n",
    "fd:alice - ex:full_name - \"Alice Smith\"@en\n",
    "fd:bob - ex:full_name - \"Bob Wilson\"@en"
   ]
  },
  {
   "cell_type": "markdown",
   "metadata": {
    "id": "UIb1vRkJfvng"
   },
   "source": [
    "Task 3: Consider a scenario of a data model which requires to preserve order within a graph. You are required to\n",
    "\t- Draw an RDF graph representation using RDF collections for ordered lists (rdf:rest, rdf:first and rdf:nil) for your own scenario."
   ]
  },
  {
   "cell_type": "code",
   "execution_count": null,
   "metadata": {
    "id": "MVD9etEIfD2P"
   },
   "outputs": [],
   "source": [
    "ranking of a competition results\n",
    "\n",
    "ex:RunForPeaceRace - ex:racers -> _:b1 - rdf:first -> ex: alice\n",
    "                    - rdf:rest -> _:b2 - rdf:first -> ex:bob\n",
    "                    - rdf:rest -> _:b3 - rdf:first -> ex:charlie\n",
    "                    - rdf:rest -> _:b4 - rdf:first -> ex:dave\n",
    "                    - rdf:rest -> rdf:nil"
   ]
  }
 ],
 "metadata": {
  "colab": {
   "collapsed_sections": [],
   "provenance": []
  },
  "kernelspec": {
   "display_name": "Python 3 (ipykernel)",
   "language": "python",
   "name": "python3"
  },
  "language_info": {
   "codemirror_mode": {
    "name": "ipython",
    "version": 3
   },
   "file_extension": ".py",
   "mimetype": "text/x-python",
   "name": "python",
   "nbconvert_exporter": "python",
   "pygments_lexer": "ipython3",
   "version": "3.9.10"
  }
 },
 "nbformat": 4,
 "nbformat_minor": 1
}
