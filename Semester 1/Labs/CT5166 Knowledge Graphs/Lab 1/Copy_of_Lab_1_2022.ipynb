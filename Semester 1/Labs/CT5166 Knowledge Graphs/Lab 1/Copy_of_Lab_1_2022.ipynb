{
 "cells": [
  {
   "cell_type": "code",
   "execution_count": null,
   "metadata": {
    "id": "TEJfoDIQiWVr"
   },
   "outputs": [],
   "source": [
    "Dublin is the capital of Ireland.\n",
    "\n",
    "Triple = (subject, relation, object)\n",
    "\n",
    "subject = Ireland\n",
    "relation = has capital\n",
    "object = Dublin\n",
    "\n",
    "(Ireland, has capital, Dublin)\n",
    "\n",
    "subject = Dublin\n",
    "relation = capital of\n",
    "object = Ireland\n",
    "(Dublin, capital of, Ireland)"
   ]
  },
  {
   "cell_type": "markdown",
   "metadata": {
    "id": "a1N2AGnGihtW"
   },
   "source": [
    "Task 1: In this lab, we will begin with representing the following text as a knowledge graph. Triples in a Knowledge Graph (KG) represent factual information. As such, any factual information can be represented as a triple. Given the following piece of text, list all the possible triples to construct the KG.|"
   ]
  },
  {
   "cell_type": "markdown",
   "metadata": {
    "id": "xetYUsk1jJvf"
   },
   "source": [
    "Bob is a student of University of Galway. He is enrolled in MSc. Data Analytics program. Bob was born on February 20th, 1998 in County Mayo, Ireland. He lives in Galway now. He started his studies at University of Galway in September 2020. He was enrolled in the following modules (DER5101: Linked Data, IT576: Programming Languages and MATH760: Calculus) during semester 1 of the academic year 2020/2021. The semester started on Monday 15th September. All exams were conducted on Friday, December 14th, 2020. Bob secured A-, B+ and D grades in DER5101: Linked Data, IT576: Programming Languages and MATH760: Calculus, respectively."
   ]
  },
  {
   "cell_type": "raw",
   "metadata": {},
   "source": [
    "1 direction only\n",
    "\n",
    "***\n",
    "S: Bob \n",
    "L: student of \n",
    "T: University of Galway\n",
    "***\n",
    "\n",
    "***\n",
    "S: Bob \n",
    "L: born on \n",
    "T: February 20th, 1998 \n",
    "***\n",
    "\n",
    "***\n",
    "S: Bob \n",
    "L: from \n",
    "T: County Mayo, Ireland\n",
    "***\n",
    "\n",
    "***\n",
    "S: Bob \n",
    "L: lives in  \n",
    "T: Galway, Ireland\n",
    "***\n",
    "\n",
    "***\n",
    "S: Bob \n",
    "L: enrolled in \n",
    "T: MSc. Data Analytics program\n",
    "***\n",
    "\n",
    "***\n",
    "S: Bob \n",
    "L: enrolled in \n",
    "T: DER5101: Linked Data (etc.)\n",
    "***\n",
    "\n",
    "***\n",
    "S: Bob \n",
    "L: started study on\n",
    "T: 15th September 2020\n",
    "***\n",
    "\n",
    "***\n",
    "S: University of Galway \n",
    "L: has course\n",
    "T: MSc. Data Analytics program\n",
    "***\n",
    "\n",
    "***\n",
    "S: MSc. Data Analytics program semester 1 of the academic year 2020/2021\n",
    "L: has module\n",
    "T: DER5101: Linked Data (etc. IT576: Programming Languages and MATH760: Calculus) \n",
    "***\n",
    "\n",
    "***\n",
    "S: MSc. Data Analytics program semester 1 of the academic year 2020/2021 \n",
    "L: started on \n",
    "T: Monday 15th September 2020\n",
    "***\n",
    "\n",
    "***\n",
    "S: MSc. Data Analytics program semester 1 of the academic year 2020/2021 \n",
    "L: conducted exams on \n",
    "T: Friday, December 14th, 2020\n",
    "***\n",
    "\n",
    "***\n",
    "S: Bob\n",
    "L: get A-\n",
    "T: DER5101: Linked Data\n",
    "***\n",
    "\n",
    "***\n",
    "S: Bob\n",
    "L: get B+\n",
    "T: IT576: Programming Languages\n",
    "***\n",
    "\n",
    "***\n",
    "S: Bob\n",
    "L: get D\n",
    "T: MATH760: Calculus\n",
    "***\n",
    "\n",
    "\n",
    "-----\n",
    "[\"bob\", \"has module\", \"module1\"]\n",
    "[\"module1\", \"has title\", \"DER5101: Linked Data\"]\n",
    "[\"module1\", \"present in\", \"semester1\"]\n",
    "[\"semester1\", \"academic year\", \"2020/2021\"]\n",
    "\n"
   ]
  },
  {
   "cell_type": "markdown",
   "metadata": {
    "id": "0qr4jQbwj9HU"
   },
   "source": [
    "Task 2: KGs can typically contains enormous number of triples. Visualising such triples in the form of a graph can enable humans to infer knowledge quickly. Given the triples extracted in the previous question, we will proceed to visualise the triples extracted. Use the networkx library in python to draw the graphs."
   ]
  },
  {
   "cell_type": "code",
   "execution_count": null,
   "metadata": {
    "colab": {
     "base_uri": "https://localhost:8080/"
    },
    "id": "1GuYsSpQjI2D",
    "outputId": "6c52491a-0902-4fbf-d015-18fcd2a74aa6",
    "scrolled": true
   },
   "outputs": [],
   "source": [
    "# Install networkx, pandas and pyplot\n",
    "!pip install networkx\n",
    "!pip install pandas\n",
    "!pip install matplotlib\n",
    "\n",
    "\n"
   ]
  },
  {
   "cell_type": "code",
   "execution_count": 1,
   "metadata": {
    "id": "4rRf_pOrzTDd"
   },
   "outputs": [],
   "source": [
    "# Convert the triples into a pandas dataframe\n",
    "import pandas as pd \n",
    "import networkx as nx\n",
    "import matplotlib.pyplot as plt \n",
    "source = ['The Achaemenid Persian Empire', 'Romans', 'Bulgars'] \n",
    "target = ['Macedonia', 'the Peninsula of Haemus Greek', 'the Bulgarian Empire']\n",
    "edge = ['incorporated ', 'considered ', 'arrived ']\n",
    "kg_df = pd.DataFrame({'source':source, 'target':target, 'edge':edge})\n",
    "\n"
   ]
  },
  {
   "cell_type": "code",
   "execution_count": 9,
   "metadata": {
    "colab": {
     "base_uri": "https://localhost:8080/",
     "height": 895
    },
    "id": "LpnQ2Ht0zbAc",
    "outputId": "c99a6845-cf5a-4acd-bfcb-b0750778f055"
   },
   "outputs": [
    {
     "data": {
      "image/png": "[encoded data removed]",
      "text/plain": [
       "<Figure size 648x648 with 1 Axes>"
      ]
     },
     "metadata": {},
     "output_type": "display_data"
    }
   ],
   "source": [
    "# Create a networkx graph using the pandas dataframe\n",
    "# Plot the graph with the help of pyplot.\n",
    "G=nx.from_pandas_edgelist(kg_df, \"source\", \"target\", edge_attr=True, create_using=nx.MultiDiGraph())\n",
    "plt.figure(figsize=(9,9))\n",
    "pos = nx.spring_layout(G)\n",
    "nx.draw(G, with_labels=True, node_color='skyblue', edge_cmap=plt.cm.Blues, pos = pos)\n",
    "nx.draw_networkx_edge_labels(G, pos=pos)\n",
    "plt.show()"
   ]
  },
  {
   "cell_type": "markdown",
   "metadata": {
    "id": "NfDJOnhlfmz8"
   },
   "source": [
    "Task 3: Choose a well known person (actor, athelete, politician, etc) and find their page on Wikipedia. Take a look at the information box for the individual and try to recreate what the underlying knowledge graph would like to populate that box. Identify all relations and entities which would be generalizable. Which relations are specific for that individual? "
   ]
  },
  {
   "cell_type": "markdown",
   "metadata": {
    "id": "wTtOYVg_hEEN"
   },
   "source": [
    "write solution here"
   ]
  },
  {
   "cell_type": "code",
   "execution_count": null,
   "metadata": {},
   "outputs": [],
   "source": [
    "---Draco Malfoy\n",
    "\n",
    "[J. K. Rowling, created, Draco Malfoy]\n",
    "\n",
    "[Draco Malfoy, DOB, 5 June 1980]\n",
    "\n",
    "[Draco Malfoy, born in, England]\n",
    "\n",
    "[Draco Malfoy, student of, Slytherin]\n",
    "\n",
    "[Draco Malfoy, accompanied by, Vincent Crabbe/Gregory Goyle]\n",
    "\n",
    "[Tom Felton, acted as, Draco Malfoy]\n",
    "\n",
    "[Draco Malfoy, first appearance, 1997]\n",
    "\n",
    "[Draco Malfoy, last appearance, 2007]\n",
    "\n",
    "[Harry Potter, first series, Harry Potter and the Philosopher's Stone]\n",
    "\n",
    "[Harry Potter, last series, Harry Potter and the Deathly Hallows]\n",
    " \n",
    "[Draco Malfoy, married to, Astoria Greengrass]\n",
    "\n",
    "[Draco Malfoy, child of, Lucius Malfoy]\n",
    " \n",
    "[Draco Malfoy, child of, Narcissa Malfoy]\n",
    " \n",
    "[Draco Malfoy, father of, Scorpius Malfoy]\n",
    "\n"
   ]
  },
  {
   "cell_type": "markdown",
   "metadata": {
    "id": "bZtL-pqWhCTA"
   },
   "source": [
    "Task 4: Read the following article [Got the same name as a serial killer? Google might think you’re the same person.](https://www.vox.com/recode/22550555/google-search-knowledge-panels-serial-killer-misinformation-knowledge-graph)\n",
    "\n",
    "- From a ethics and privacy perspective, what is problematic with Google's knowledge graph? \n",
    "- From a technical perspective what is a limitation of Google's knowledge graph?\n",
    "- How would you address the issues described above? "
   ]
  },
  {
   "cell_type": "markdown",
   "metadata": {
    "id": "GvIEwiqXi8cW"
   },
   "source": [
    "write solution here"
   ]
  },
  {
   "cell_type": "code",
   "execution_count": null,
   "metadata": {
    "id": "n7OcjNAJh2hu"
   },
   "outputs": [],
   "source": [
    "- wrong personal information is publicaly shared. \n",
    "- Google stores personal data.\n",
    "\n",
    "- information might be incorrectly linked between same name but different meaning entities, \n",
    "it requires user to manually discover the mistakes \n",
    "different pieces of information from around the web that are about a particular topic or thing is shown \n",
    "rather than looking for pieces of information that just include the same keywords.\n",
    "\n",
    "bias in the data\n",
    "\n",
    "\n",
    "- awareness of user when google/companies collecting their data. \n",
    "strength of regulations on collecting / usage of data\n",
    "\n",
    "calculating similarity between entities "
   ]
  }
 ],
 "metadata": {
  "colab": {
   "collapsed_sections": [],
   "provenance": []
  },
  "kernelspec": {
   "display_name": "Python 3 (ipykernel)",
   "language": "python",
   "name": "python3"
  },
  "language_info": {
   "codemirror_mode": {
    "name": "ipython",
    "version": 3
   },
   "file_extension": ".py",
   "mimetype": "text/x-python",
   "name": "python",
   "nbconvert_exporter": "python",
   "pygments_lexer": "ipython3",
   "version": "3.9.10"
  }
 },
 "nbformat": 4,
 "nbformat_minor": 1
}
